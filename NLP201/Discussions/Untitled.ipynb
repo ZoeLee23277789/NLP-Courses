{
 "cells": [
  {
   "cell_type": "code",
   "execution_count": 4,
   "id": "a516d90e-b230-4205-8403-f440f309bf97",
   "metadata": {},
   "outputs": [
    {
     "name": "stdout",
     "output_type": "stream",
     "text": [
      "Tokenized Sentence: ['newer', 'l', 'o', 'wer']\n"
     ]
    }
   ],
   "source": [
    "from collections import defaultdict, Counter\n",
    "\n",
    "# Function to get pair frequencies\n",
    "def get_pair_frequencies(corpus):\n",
    "    pairs = defaultdict(int)\n",
    "    for word, freq in corpus.items():\n",
    "        symbols = word.split()\n",
    "        for i in range(len(symbols) - 1):\n",
    "            pairs[(symbols[i], symbols[i + 1])] += freq\n",
    "    return pairs\n",
    "\n",
    "# Function to merge the most frequent pair\n",
    "def merge_pair(corpus, pair):\n",
    "    new_corpus = {}\n",
    "    bigram = ' '.join(pair)\n",
    "    for word in corpus:\n",
    "        new_word = word.replace(bigram, ''.join(pair))\n",
    "        new_corpus[new_word] = corpus[word]\n",
    "    return new_corpus\n",
    "\n",
    "# Function to train the BPE tokenizer\n",
    "def train_bpe(corpus, num_merges):\n",
    "    corpus = Counter(corpus)\n",
    "    for _ in range(num_merges):\n",
    "        pairs = get_pair_frequencies(corpus)\n",
    "        if not pairs:\n",
    "            break\n",
    "        best_pair = max(pairs, key=pairs.get)\n",
    "        corpus = merge_pair(corpus, best_pair)\n",
    "    return corpus\n",
    "\n",
    "# Function to tokenize a sentence using the trained BPE tokenizer\n",
    "def tokenize_bpe(sentence, bpe_vocab):\n",
    "    sentence = sentence.split()\n",
    "    tokenized = []\n",
    "    for word in sentence:\n",
    "        subwords = [word]\n",
    "        for token in bpe_vocab:\n",
    "            new_subwords = []\n",
    "            for subword in subwords:\n",
    "                if subword in bpe_vocab:\n",
    "                    new_subwords.append(subword)\n",
    "                else:\n",
    "                    split_subword = subword.replace(token, ' '.join(list(token)))\n",
    "                    new_subwords.extend(split_subword.split())\n",
    "            subwords = new_subwords\n",
    "        tokenized.extend(subwords)\n",
    "    return tokenized\n",
    "\n",
    "# Input corpus\n",
    "corpus = [\"low low low low lowest newer newer newer newer newer newer wider wider wider new new\"]\n",
    "corpus = [' '.join(word) for word in corpus[0].split()]\n",
    "corpus = {corpus[i]: 1 for i in range(len(corpus))}\n",
    "\n",
    "# Merges count\n",
    "num_merges = 2\n",
    "\n",
    "# Train the BPE tokenizer\n",
    "bpe_vocab = train_bpe(corpus, num_merges)\n",
    "\n",
    "# Tokenize the given sentence\n",
    "sentence = \"newer lower\"\n",
    "tokenized_sentence = tokenize_bpe(sentence, bpe_vocab)\n",
    "print(\"Tokenized Sentence:\", tokenized_sentence)\n"
   ]
  },
  {
   "cell_type": "code",
   "execution_count": null,
   "id": "d86ea117-1154-4732-aa9f-1cb1651f712b",
   "metadata": {},
   "outputs": [],
   "source": []
  }
 ],
 "metadata": {
  "kernelspec": {
   "display_name": "pytorch",
   "language": "python",
   "name": "pytorch"
  },
  "language_info": {
   "codemirror_mode": {
    "name": "ipython",
    "version": 3
   },
   "file_extension": ".py",
   "mimetype": "text/x-python",
   "name": "python",
   "nbconvert_exporter": "python",
   "pygments_lexer": "ipython3",
   "version": "3.8.19"
  }
 },
 "nbformat": 4,
 "nbformat_minor": 5
}
