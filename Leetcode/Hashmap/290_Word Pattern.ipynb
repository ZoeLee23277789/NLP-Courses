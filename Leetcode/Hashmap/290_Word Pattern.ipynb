{
 "cells": [
  {
   "cell_type": "markdown",
   "id": "4eb38855-1a48-4bd1-8dfc-4c67bc3a80d1",
   "metadata": {},
   "source": [
    "## 290. Word Pattern\n",
    "Given a pattern and a string s, find if s follows the same pattern.\n",
    "\n",
    "Here follow means a full match, such that there is a bijection between a letter in pattern and a non-empty word in s. Specifically:\n",
    "\n",
    "Each letter in pattern maps to exactly one unique word in s.\n",
    "Each unique word in s maps to exactly one letter in pattern.\n",
    "No two letters map to the same word, and no two words map to the same letter."
   ]
  },
  {
   "cell_type": "code",
   "execution_count": 5,
   "id": "6e4b04c4-417b-484c-9787-c509e9bf9985",
   "metadata": {
    "tags": []
   },
   "outputs": [],
   "source": [
    "class Solution(object): \n",
    "    def wordPattern(self, pattern, s):\n",
    "        \"\"\"\n",
    "        :type pattern: str\n",
    "        :type s: str\n",
    "        :rtype: bool\n",
    "        \"\"\"\n",
    "        dic = {}  # pattern -> word 映射\n",
    "        used_words = set()  # word -> pattern 檢查\n",
    "        words = s.split(' ')\n",
    "        \n",
    "        if len(words) != len(pattern):  # 長度不匹配直接回傳 False\n",
    "            return False\n",
    "\n",
    "        index = 0\n",
    "        for i in pattern:\n",
    "            # print(\"pattern = \", i)\n",
    "            # print(\"word = \", words[index])\n",
    "            \n",
    "            if i in dic:\n",
    "                # print(\"key is in dic\")\n",
    "                if dic[i] != words[index]:  # pattern 對應的 word 不同，回傳 False\n",
    "                    return False\n",
    "            else:\n",
    "                if words[index] in used_words:  # 該 word 已經對應其他 pattern，回傳 False\n",
    "                    return False\n",
    "                # print(\"Key not found, adding mapping\")\n",
    "                dic[i] = words[index]\n",
    "                used_words.add(words[index])  # 記錄已經被使用過的 word\n",
    "            \n",
    "            index += 1\n",
    "        \n",
    "        return True\n"
   ]
  },
  {
   "cell_type": "code",
   "execution_count": 7,
   "id": "c310dfaf-0083-4087-ad67-70785d8e580e",
   "metadata": {
    "tags": []
   },
   "outputs": [
    {
     "name": "stdout",
     "output_type": "stream",
     "text": [
      "True\n",
      "False\n",
      "False\n",
      "False\n"
     ]
    }
   ],
   "source": [
    "sol = Solution()\n",
    "print(sol.wordPattern(\"abba\", \"dog cat cat dog\"))  # True\n",
    "print(sol.wordPattern(\"abba\", \"dog cat cat fish\"))  # False\n",
    "print(sol.wordPattern(\"aaaa\", \"dog cat cat dog\"))  # False\n",
    "print(sol.wordPattern(\"abba\", \"dog dog dog dog\"))  # False\n"
   ]
  },
  {
   "cell_type": "code",
   "execution_count": null,
   "id": "e38c640b-30e8-4a85-8dac-07306874ac95",
   "metadata": {},
   "outputs": [],
   "source": []
  }
 ],
 "metadata": {
  "kernelspec": {
   "display_name": "Python (NLP203)",
   "language": "python",
   "name": "nlp203"
  },
  "language_info": {
   "codemirror_mode": {
    "name": "ipython",
    "version": 3
   },
   "file_extension": ".py",
   "mimetype": "text/x-python",
   "name": "python",
   "nbconvert_exporter": "python",
   "pygments_lexer": "ipython3",
   "version": "3.9.21"
  }
 },
 "nbformat": 4,
 "nbformat_minor": 5
}
