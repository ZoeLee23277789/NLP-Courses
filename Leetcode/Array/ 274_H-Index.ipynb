{
 "cells": [
  {
   "cell_type": "markdown",
   "id": "2467589e-8757-4b36-9621-c5cd7692e300",
   "metadata": {},
   "source": [
    "# 274. H-Index\n",
    "## Hint: h = i：至少有 i 篇論文被引用 ≥ i\n",
    "Given an array of integers citations where citations[i] is the number of citations a researcher received for their ith paper, return the researcher's h-index.\n",
    "\n",
    "According to the definition of h-index on Wikipedia: The h-index is defined as the maximum value of h such that the given researcher has published at least h papers that have each been cited at least h times."
   ]
  },
  {
   "cell_type": "code",
   "execution_count": 3,
   "id": "db97dfd1-fd90-4e55-9f2a-87fe8330d063",
   "metadata": {
    "tags": []
   },
   "outputs": [],
   "source": [
    "class Solution(object):\n",
    "    def hIndex(self, citations):\n",
    "        \"\"\"\n",
    "        :type citations: List[int]\n",
    "        :rtype: int\n",
    "        \"\"\"\n",
    "        citations.sort(reverse = True)\n",
    "        H_index = 0\n",
    "        for i in range(len(citations)):\n",
    "            if citations[i] >= i+1:\n",
    "                H_index+=1\n",
    "            else:\n",
    "                break\n",
    "        return H_index\n",
    "        "
   ]
  },
  {
   "cell_type": "code",
   "execution_count": 5,
   "id": "7f270226-9aa1-4c2d-89c9-52782632f0b6",
   "metadata": {
    "tags": []
   },
   "outputs": [
    {
     "name": "stdout",
     "output_type": "stream",
     "text": [
      "3\n"
     ]
    }
   ],
   "source": [
    "citations = [3, 0, 6, 1, 5]\n",
    "solution = Solution()\n",
    "print(solution.hIndex(citations))\n"
   ]
  },
  {
   "cell_type": "code",
   "execution_count": 7,
   "id": "b94d728b-a29a-4ac6-9e74-7b7fc6bbbcae",
   "metadata": {
    "tags": []
   },
   "outputs": [
    {
     "name": "stdout",
     "output_type": "stream",
     "text": [
      "1\n"
     ]
    }
   ],
   "source": [
    "citations = [1, 3, 1]\n",
    "solution = Solution()\n",
    "print(solution.hIndex(citations))\n"
   ]
  },
  {
   "cell_type": "code",
   "execution_count": null,
   "id": "532d7b1e-b30a-4628-ad70-82483e829082",
   "metadata": {},
   "outputs": [],
   "source": []
  }
 ],
 "metadata": {
  "kernelspec": {
   "display_name": "Python (NLP203)",
   "language": "python",
   "name": "nlp203"
  },
  "language_info": {
   "codemirror_mode": {
    "name": "ipython",
    "version": 3
   },
   "file_extension": ".py",
   "mimetype": "text/x-python",
   "name": "python",
   "nbconvert_exporter": "python",
   "pygments_lexer": "ipython3",
   "version": "3.9.21"
  }
 },
 "nbformat": 4,
 "nbformat_minor": 5
}
