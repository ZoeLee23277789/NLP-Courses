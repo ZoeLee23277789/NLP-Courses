{
 "cells": [
  {
   "cell_type": "markdown",
   "id": "bd8b06b9-5f68-4188-826b-5fee71cb5dcc",
   "metadata": {},
   "source": [
    "# 2418. Sort the People\n",
    "You are given an array of strings names, and an array heights that consists of distinct positive integers. Both arrays are of length n.\n",
    "\n",
    "For each index i, names[i] and heights[i] denote the name and height of the ith person.\n",
    "\n",
    "Return names sorted in descending order by the people's heights."
   ]
  },
  {
   "cell_type": "code",
   "execution_count": 4,
   "id": "f494aa82-7200-452f-b096-b168b85a2232",
   "metadata": {},
   "outputs": [],
   "source": [
    "class Solution(object):\n",
    "    def sortPeople(self, names, heights):\n",
    "        \"\"\"\n",
    "        :type names: List[str]\n",
    "        :type heights: List[int]\n",
    "        :rtype: List[str]\n",
    "        \"\"\"\n",
    "        ans = []\n",
    "        dic = {heights[i]: names[i] for i in range(len(heights))}\n",
    "        for i in sorted(dic.keys(),reverse = True):\n",
    "            ans.append(dic[i])\n",
    "        return ans\n",
    " "
   ]
  },
  {
   "cell_type": "code",
   "execution_count": 5,
   "id": "b0df1933-de02-4406-9aa7-3feeae22fc2c",
   "metadata": {},
   "outputs": [
    {
     "name": "stdout",
     "output_type": "stream",
     "text": [
      "['Mary', 'Emma', 'John']\n",
      "['Bob', 'Alice', 'Bob']\n"
     ]
    }
   ],
   "source": [
    "solution = Solution()\n",
    "print(solution.sortPeople([\"Mary\",\"John\",\"Emma\"],[180,165,170]))\n",
    "print(solution.sortPeople([\"Alice\",\"Bob\",\"Bob\"],[155,185,150]))"
   ]
  },
  {
   "cell_type": "code",
   "execution_count": null,
   "id": "f0d6ed3c-5747-4c6a-865d-bd30edfead9c",
   "metadata": {},
   "outputs": [],
   "source": []
  }
 ],
 "metadata": {
  "kernelspec": {
   "display_name": "pytorch",
   "language": "python",
   "name": "pytorch"
  },
  "language_info": {
   "codemirror_mode": {
    "name": "ipython",
    "version": 3
   },
   "file_extension": ".py",
   "mimetype": "text/x-python",
   "name": "python",
   "nbconvert_exporter": "python",
   "pygments_lexer": "ipython3",
   "version": "3.8.19"
  }
 },
 "nbformat": 4,
 "nbformat_minor": 5
}
