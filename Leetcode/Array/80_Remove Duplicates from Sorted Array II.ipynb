{
 "cells": [
  {
   "cell_type": "markdown",
   "id": "effc1566-3397-4c95-9bfa-7c2ca482c74a",
   "metadata": {},
   "source": [
    "# Remove Duplicates \n",
    "Given an integer array nums sorted in non-decreasing order, remove some duplicates in-place such that each unique element appears at most twice."
   ]
  },
  {
   "cell_type": "code",
   "execution_count": 9,
   "id": "8fb0574d-8dc4-44c0-9f7f-91e77ee4b832",
   "metadata": {
    "tags": []
   },
   "outputs": [],
   "source": [
    "class Solution(object):\n",
    "    def removeDuplicates(self, nums):\n",
    "        \"\"\"\n",
    "        :type nums: List[int]\n",
    "        :rtype: int\n",
    "        \"\"\"\n",
    "        # ans = len(set(nums))\n",
    "        if len(nums) <=2 :\n",
    "            return len(nums)\n",
    "        first = 2\n",
    "        for tail in range(2,len(nums)):\n",
    "            if nums[tail] != nums[first - 2]:\n",
    "                nums[first] = nums[tail]\n",
    "                first+=1\n",
    "        return first\n",
    "        "
   ]
  },
  {
   "cell_type": "code",
   "execution_count": 11,
   "id": "405c7d34-fb7b-49d8-b813-a7dffe8edabe",
   "metadata": {
    "tags": []
   },
   "outputs": [
    {
     "data": {
      "text/plain": [
       "5"
      ]
     },
     "execution_count": 11,
     "metadata": {},
     "output_type": "execute_result"
    }
   ],
   "source": [
    "Solution().removeDuplicates([1,1,1,2,2,3])"
   ]
  },
  {
   "cell_type": "code",
   "execution_count": null,
   "id": "774e0fd3-62ab-4182-a8aa-fa385d9ff20c",
   "metadata": {},
   "outputs": [],
   "source": []
  }
 ],
 "metadata": {
  "kernelspec": {
   "display_name": "\"Python/Mu (mu_venv-38-20230727-115305)\"",
   "language": "python",
   "name": "mu_venv-38-20230727-115305"
  },
  "language_info": {
   "codemirror_mode": {
    "name": "ipython",
    "version": 3
   },
   "file_extension": ".py",
   "mimetype": "text/x-python",
   "name": "python",
   "nbconvert_exporter": "python",
   "pygments_lexer": "ipython3",
   "version": "3.8.12"
  }
 },
 "nbformat": 4,
 "nbformat_minor": 5
}
