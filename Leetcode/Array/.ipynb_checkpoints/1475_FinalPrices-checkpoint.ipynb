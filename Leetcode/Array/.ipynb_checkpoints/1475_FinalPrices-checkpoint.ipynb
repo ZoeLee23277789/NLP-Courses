{
 "cells": [
  {
   "cell_type": "markdown",
   "id": "aa1fc511-2db2-4b6c-8d9a-a842b8274094",
   "metadata": {},
   "source": [
    "# 1475. Final Prices With a Special Discount in a Shop"
   ]
  },
  {
   "cell_type": "markdown",
   "id": "e615a3f6-7a1e-4782-9d6b-e90b8d86262c",
   "metadata": {},
   "source": [
    "You are given an integer array prices where prices[i] is the price of the ith item in a shop.\n",
    "\n",
    "There is a special discount for items in the shop. If you buy the ith item, then you will receive a discount equivalent to prices[j] where j is the minimum index such that j > i and prices[j] <= prices[i]. Otherwise, you will not receive any discount at all.\n",
    "\n",
    "Return an integer array answer where answer[i] is the final price you will pay for the ith item of the shop, considering the special discount."
   ]
  },
  {
   "cell_type": "code",
   "execution_count": 6,
   "id": "aedfcb77-b054-4db5-8e76-2e14312fc379",
   "metadata": {},
   "outputs": [],
   "source": [
    "class Solution(object):\n",
    "    def finalPrices(self, prices):\n",
    "        \"\"\"\n",
    "        :type prices: List[int]\n",
    "        :rtype: List[int]\n",
    "        \"\"\"\n",
    "        ans = list()\n",
    "        for i in range(len(prices)):\n",
    "            discount  = 0 \n",
    "            # print(\"i = \" , prices[i])\n",
    "            for j in range(i+1,len(prices)):\n",
    "                # print(\"j = \" , prices[j])\n",
    "                if prices[j]<=prices[i]:\n",
    "                    discount = prices[j]\n",
    "                    # print(\"Discount = \" ,  prices[i]-prices[j])\n",
    "                    break\n",
    "            ans.append(prices[i]-discount)\n",
    "        return ans\n",
    "        "
   ]
  },
  {
   "cell_type": "code",
   "execution_count": 7,
   "id": "65d8d194-5b7c-4b75-aee0-b78b6d929670",
   "metadata": {},
   "outputs": [
    {
     "name": "stdout",
     "output_type": "stream",
     "text": [
      "[4, 2, 4, 2, 3]\n",
      "[1, 2, 3, 4, 5]\n",
      "[9, 0, 1, 6]\n"
     ]
    }
   ],
   "source": [
    "solution = Solution()\n",
    "print(solution.finalPrices([8, 4, 6, 2, 3]))  # Output: [4, 2, 4, 2, 3]\n",
    "print(solution.finalPrices([1, 2, 3, 4, 5]))  # Output: [1, 2, 3, 4, 5]\n",
    "print(solution.finalPrices([10, 1, 1, 6]))    # Output: [9, 0, 1, 6]"
   ]
  },
  {
   "cell_type": "code",
   "execution_count": null,
   "id": "43a9dec4-90b6-4539-b8a4-c27c3a02fff6",
   "metadata": {},
   "outputs": [],
   "source": []
  }
 ],
 "metadata": {
  "kernelspec": {
   "display_name": "pytorch",
   "language": "python",
   "name": "pytorch"
  },
  "language_info": {
   "codemirror_mode": {
    "name": "ipython",
    "version": 3
   },
   "file_extension": ".py",
   "mimetype": "text/x-python",
   "name": "python",
   "nbconvert_exporter": "python",
   "pygments_lexer": "ipython3",
   "version": "3.8.19"
  }
 },
 "nbformat": 4,
 "nbformat_minor": 5
}
