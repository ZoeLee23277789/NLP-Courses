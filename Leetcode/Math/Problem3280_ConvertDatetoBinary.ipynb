{
 "cells": [
  {
   "cell_type": "markdown",
   "id": "ab126428-8735-4851-9f18-4437f2991399",
   "metadata": {},
   "source": [
    "# 3280. Convert Date to Binary"
   ]
  },
  {
   "cell_type": "markdown",
   "id": "0cdb8a97-ac48-4c55-b4ab-7e3b454e8523",
   "metadata": {},
   "source": [
    "You are given a string date representing a Gregorian calendar date in the yyyy-mm-dd format.\n",
    "\n",
    "date can be written in its binary representation obtained by converting year, month, and day to their binary representations without any leading zeroes and writing them down in year-month-day format.\n",
    "\n",
    "Return the binary representation of date."
   ]
  },
  {
   "cell_type": "code",
   "execution_count": 1,
   "id": "59745ecf-c0d1-4d39-a194-2088356a5168",
   "metadata": {},
   "outputs": [],
   "source": [
    "class Solution(object):\n",
    "    def convertDateToBinary(self, date):\n",
    "        \"\"\"\n",
    "        :type date: str\n",
    "        :rtype: str\n",
    "        \"\"\"\n",
    "        ans = \"\"\n",
    "        for i in date.split(\"-\"):\n",
    "            ans +=str(format(int(i),'b'))+\"-\"\n",
    "        return ans[:len(ans)-1]"
   ]
  },
  {
   "cell_type": "code",
   "execution_count": null,
   "id": "0cbec066-fd39-4312-b608-54a462963c94",
   "metadata": {},
   "outputs": [],
   "source": [
    "class Solution(object):\n",
    "    def convertDateToBinary(self, date):\n",
    "        \"\"\"\n",
    "        :type date: str\n",
    "        :rtype: str\n",
    "        \"\"\"\n",
    "        return \"-\".join(format(int(part), 'b') for part in date.split(\"-\"))"
   ]
  },
  {
   "cell_type": "code",
   "execution_count": 2,
   "id": "623a693b-1ceb-4ffc-8945-6f18df3cf493",
   "metadata": {},
   "outputs": [
    {
     "name": "stdout",
     "output_type": "stream",
     "text": [
      "100000100000-10-11101\n"
     ]
    }
   ],
   "source": [
    "# Example usage\n",
    "solution = Solution()\n",
    "date = \"2080-02-29\"\n",
    "print(solution.convertDateToBinary(date))  # Output: \"100000100000-10-11101\"\n"
   ]
  },
  {
   "cell_type": "code",
   "execution_count": 4,
   "id": "aa83740e-ff4c-4149-b4b1-a3b075d8fbdd",
   "metadata": {},
   "outputs": [
    {
     "name": "stdout",
     "output_type": "stream",
     "text": [
      "11101101100-1-1\n"
     ]
    }
   ],
   "source": [
    "solution = Solution()\n",
    "date = \"1900-01-01\"\n",
    "print(solution.convertDateToBinary(date)) "
   ]
  },
  {
   "cell_type": "code",
   "execution_count": null,
   "id": "86fede70-2af8-4c3f-81b2-640f0159efee",
   "metadata": {},
   "outputs": [],
   "source": []
  }
 ],
 "metadata": {
  "kernelspec": {
   "display_name": "pytorch",
   "language": "python",
   "name": "pytorch"
  },
  "language_info": {
   "codemirror_mode": {
    "name": "ipython",
    "version": 3
   },
   "file_extension": ".py",
   "mimetype": "text/x-python",
   "name": "python",
   "nbconvert_exporter": "python",
   "pygments_lexer": "ipython3",
   "version": "3.8.19"
  }
 },
 "nbformat": 4,
 "nbformat_minor": 5
}
