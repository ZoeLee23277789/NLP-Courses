{
 "cells": [
  {
   "cell_type": "code",
   "execution_count": 1,
   "id": "dba6bcb2-3129-4295-b5f6-63b941ab8d2a",
   "metadata": {},
   "outputs": [],
   "source": [
    "class Solution(object):\n",
    "    def isPalindrome(self, s):\n",
    "        \"\"\"\n",
    "        :type s: str\n",
    "        :rtype: bool\n",
    "        \"\"\"\n",
    "        # Step 1: Convert to lowercase and filter out non-alphanumeric characters\n",
    "        filtered_string = ''.join(c.lower() for c in s if c.isalnum())\n",
    "        \n",
    "        # Step 2: Check if the string is equal to its reverse\n",
    "        return filtered_string == filtered_string[::-1]"
   ]
  },
  {
   "cell_type": "code",
   "execution_count": null,
   "id": "cbf3b291-e0fe-4020-a5ca-80a1852962ce",
   "metadata": {},
   "outputs": [],
   "source": []
  }
 ],
 "metadata": {
  "kernelspec": {
   "display_name": "pytorch",
   "language": "python",
   "name": "pytorch"
  },
  "language_info": {
   "codemirror_mode": {
    "name": "ipython",
    "version": 3
   },
   "file_extension": ".py",
   "mimetype": "text/x-python",
   "name": "python",
   "nbconvert_exporter": "python",
   "pygments_lexer": "ipython3",
   "version": "3.8.19"
  }
 },
 "nbformat": 4,
 "nbformat_minor": 5
}
