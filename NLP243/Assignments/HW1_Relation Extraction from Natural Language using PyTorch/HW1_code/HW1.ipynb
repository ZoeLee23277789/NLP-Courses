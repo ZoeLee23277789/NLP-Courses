{
 "cells": [
  {
   "cell_type": "code",
   "execution_count": 5,
   "id": "adb2c5b2-cf7e-487e-b469-20f0e33af2d0",
   "metadata": {
    "tags": []
   },
   "outputs": [
    {
     "ename": "AttributeError",
     "evalue": "module 'matplotlib' has no attribute 'get_data_path'",
     "output_type": "error",
     "traceback": [
      "\u001b[1;31m---------------------------------------------------------------------------\u001b[0m",
      "\u001b[1;31mAttributeError\u001b[0m                            Traceback (most recent call last)",
      "Cell \u001b[1;32mIn[5], line 2\u001b[0m\n\u001b[0;32m      1\u001b[0m \u001b[38;5;28;01mimport\u001b[39;00m \u001b[38;5;21;01mpandas\u001b[39;00m \u001b[38;5;28;01mas\u001b[39;00m \u001b[38;5;21;01mpd\u001b[39;00m\n\u001b[1;32m----> 2\u001b[0m \u001b[38;5;28;01mimport\u001b[39;00m \u001b[38;5;21;01mmatplotlib\u001b[39;00m\u001b[38;5;21;01m.\u001b[39;00m\u001b[38;5;21;01mpyplot\u001b[39;00m \u001b[38;5;28;01mas\u001b[39;00m \u001b[38;5;21;01mplt\u001b[39;00m\n\u001b[0;32m      3\u001b[0m \u001b[38;5;28;01mimport\u001b[39;00m \u001b[38;5;21;01mnumpy\u001b[39;00m \u001b[38;5;28;01mas\u001b[39;00m \u001b[38;5;21;01mnp\u001b[39;00m  \u001b[38;5;66;03m# 用於設置 NaN 值\u001b[39;00m\n\u001b[0;32m      4\u001b[0m \u001b[38;5;28;01mimport\u001b[39;00m \u001b[38;5;21;01mtorch\u001b[39;00m\n",
      "File \u001b[1;32m~\\AppData\\Roaming\\Python\\Python38\\site-packages\\matplotlib\\__init__.py:980\u001b[0m\n\u001b[0;32m    973\u001b[0m     \u001b[38;5;28;01mreturn\u001b[39;00m config\n\u001b[0;32m    976\u001b[0m \u001b[38;5;66;03m# When constructing the global instances, we need to perform certain updates\u001b[39;00m\n\u001b[0;32m    977\u001b[0m \u001b[38;5;66;03m# by explicitly calling the superclass (dict.update, dict.items) to avoid\u001b[39;00m\n\u001b[0;32m    978\u001b[0m \u001b[38;5;66;03m# triggering resolution of _auto_backend_sentinel.\u001b[39;00m\n\u001b[0;32m    979\u001b[0m rcParamsDefault \u001b[38;5;241m=\u001b[39m _rc_params_in_file(\n\u001b[1;32m--> 980\u001b[0m     \u001b[43mcbook\u001b[49m\u001b[38;5;241;43m.\u001b[39;49m\u001b[43m_get_data_path\u001b[49m\u001b[43m(\u001b[49m\u001b[38;5;124;43m\"\u001b[39;49m\u001b[38;5;124;43mmatplotlibrc\u001b[39;49m\u001b[38;5;124;43m\"\u001b[39;49m\u001b[43m)\u001b[49m,\n\u001b[0;32m    981\u001b[0m     \u001b[38;5;66;03m# Strip leading comment.\u001b[39;00m\n\u001b[0;32m    982\u001b[0m     transform\u001b[38;5;241m=\u001b[39m\u001b[38;5;28;01mlambda\u001b[39;00m line: line[\u001b[38;5;241m1\u001b[39m:] \u001b[38;5;28;01mif\u001b[39;00m line\u001b[38;5;241m.\u001b[39mstartswith(\u001b[38;5;124m\"\u001b[39m\u001b[38;5;124m#\u001b[39m\u001b[38;5;124m\"\u001b[39m) \u001b[38;5;28;01melse\u001b[39;00m line,\n\u001b[0;32m    983\u001b[0m     fail_on_error\u001b[38;5;241m=\u001b[39m\u001b[38;5;28;01mTrue\u001b[39;00m)\n\u001b[0;32m    984\u001b[0m \u001b[38;5;28mdict\u001b[39m\u001b[38;5;241m.\u001b[39mupdate(rcParamsDefault, rcsetup\u001b[38;5;241m.\u001b[39m_hardcoded_defaults)\n\u001b[0;32m    985\u001b[0m \u001b[38;5;66;03m# Normally, the default matplotlibrc file contains *no* entry for backend (the\u001b[39;00m\n\u001b[0;32m    986\u001b[0m \u001b[38;5;66;03m# corresponding line starts with ##, not #; we fill on _auto_backend_sentinel\u001b[39;00m\n\u001b[0;32m    987\u001b[0m \u001b[38;5;66;03m# in that case.  However, packagers can set a different default backend\u001b[39;00m\n\u001b[0;32m    988\u001b[0m \u001b[38;5;66;03m# (resulting in a normal `#backend: foo` line) in which case we should *not*\u001b[39;00m\n\u001b[0;32m    989\u001b[0m \u001b[38;5;66;03m# fill in _auto_backend_sentinel.\u001b[39;00m\n",
      "File \u001b[1;32m~\\AppData\\Roaming\\Python\\Python38\\site-packages\\matplotlib\\cbook\\__init__.py:566\u001b[0m, in \u001b[0;36m_get_data_path\u001b[1;34m(*args)\u001b[0m\n\u001b[0;32m    560\u001b[0m \u001b[38;5;28;01mdef\u001b[39;00m \u001b[38;5;21m_get_data_path\u001b[39m(\u001b[38;5;241m*\u001b[39margs):\n\u001b[0;32m    561\u001b[0m \u001b[38;5;250m    \u001b[39m\u001b[38;5;124;03m\"\"\"\u001b[39;00m\n\u001b[0;32m    562\u001b[0m \u001b[38;5;124;03m    Return the `pathlib.Path` to a resource file provided by Matplotlib.\u001b[39;00m\n\u001b[0;32m    563\u001b[0m \n\u001b[0;32m    564\u001b[0m \u001b[38;5;124;03m    ``*args`` specify a path relative to the base data path.\u001b[39;00m\n\u001b[0;32m    565\u001b[0m \u001b[38;5;124;03m    \"\"\"\u001b[39;00m\n\u001b[1;32m--> 566\u001b[0m     \u001b[38;5;28;01mreturn\u001b[39;00m Path(\u001b[43mmatplotlib\u001b[49m\u001b[38;5;241;43m.\u001b[39;49m\u001b[43mget_data_path\u001b[49m(), \u001b[38;5;241m*\u001b[39margs)\n",
      "\u001b[1;31mAttributeError\u001b[0m: module 'matplotlib' has no attribute 'get_data_path'"
     ]
    }
   ],
   "source": [
    "import pandas as pd\n",
    "import matplotlib.pyplot as plt\n",
    "import numpy as np  # 用於設置 NaN 值\n",
    "import torch\n",
    "import torch.nn as nn \n",
    "import torch.optim as optim\n",
    "from sklearn.feature_extraction.text import CountVectorizer\n",
    "from sklearn.preprocessing import MultiLabelBinarizer\n",
    "from sklearn.model_selection import train_test_split\n",
    "from torch.utils.data import TensorDataset, DataLoader\n",
    "# path\n",
    "train_file_path = r\"C:\\Users\\USER\\Downloads\\NLP-Courses\\NLP243\\Assignments\\HW1_Relation Extraction from Natural Language using PyTorch\\hw1_train-1.csv\"\n",
    "\n",
    "# read\n",
    "train_df = pd.read_csv(train_file_path)\n",
    "\n",
    "# check the nan\n",
    "train_df['CORE RELATIONS'] = train_df['CORE RELATIONS'].fillna('')\n",
    "\n",
    "# \n",
    "train_df['CORE RELATIONS'] = train_df['CORE RELATIONS'].apply(lambda x: x.split() if isinstance(x, str) else [])\n",
    "print(train_df.head())\n"
   ]
  },
  {
   "cell_type": "code",
   "execution_count": 1,
   "id": "f46397a8-f047-4f3c-b362-dd0f21541561",
   "metadata": {
    "tags": []
   },
   "outputs": [
    {
     "ename": "NameError",
     "evalue": "name 'CountVectorizer' is not defined",
     "output_type": "error",
     "traceback": [
      "\u001b[1;31m---------------------------------------------------------------------------\u001b[0m",
      "\u001b[1;31mNameError\u001b[0m                                 Traceback (most recent call last)",
      "Cell \u001b[1;32mIn[1], line 2\u001b[0m\n\u001b[0;32m      1\u001b[0m \u001b[38;5;66;03m# 初始化詞袋模型，設定最大特徵數量 (這裡設置為 1000)\u001b[39;00m\n\u001b[1;32m----> 2\u001b[0m vectorizer \u001b[38;5;241m=\u001b[39m \u001b[43mCountVectorizer\u001b[49m(max_features\u001b[38;5;241m=\u001b[39m\u001b[38;5;241m1000\u001b[39m)\n\u001b[0;32m      4\u001b[0m \u001b[38;5;66;03m# 將訓練資料中的語句轉換為數值向量\u001b[39;00m\n\u001b[0;32m      5\u001b[0m X_train \u001b[38;5;241m=\u001b[39m vectorizer\u001b[38;5;241m.\u001b[39mfit_transform(train_df[\u001b[38;5;124m'\u001b[39m\u001b[38;5;124mUTTERANCES\u001b[39m\u001b[38;5;124m'\u001b[39m])\u001b[38;5;241m.\u001b[39mtoarray()\n",
      "\u001b[1;31mNameError\u001b[0m: name 'CountVectorizer' is not defined"
     ]
    }
   ],
   "source": [
    "# 初始化詞袋模型，設定最大特徵數量 (這裡設置為 1000)\n",
    "vectorizer = CountVectorizer(max_features=1000)\n",
    "\n",
    "# 將訓練資料中的語句轉換為數值向量\n",
    "X_train = vectorizer.fit_transform(train_df['UTTERANCES']).toarray()\n",
    "\n",
    "# 檢查轉換後的數據\n",
    "print(X_train.shape)  # 輸出形狀為 (樣本數, 特徵數)\n"
   ]
  },
  {
   "cell_type": "code",
   "execution_count": 3,
   "id": "f379cafd-fb90-4651-93c7-35cbda6d06d0",
   "metadata": {
    "tags": []
   },
   "outputs": [
    {
     "name": "stdout",
     "output_type": "stream",
     "text": [
      "(2312, 19)\n",
      "['actor.gender' 'gr.amount' 'movie.country' 'movie.directed_by'\n",
      " 'movie.estimated_budget' 'movie.genre' 'movie.gross_revenue'\n",
      " 'movie.initial_release_date' 'movie.language' 'movie.locations'\n",
      " 'movie.music' 'movie.produced_by' 'movie.production_companies'\n",
      " 'movie.rating' 'movie.starring.actor' 'movie.starring.character'\n",
      " 'movie.subjects' 'none' 'person.date_of_birth']\n"
     ]
    }
   ],
   "source": [
    "mlb = MultiLabelBinarizer() # have mult label\n",
    "\n",
    "y_train = mlb.fit_transform(train_df['CORE RELATIONS']) # label to num\n",
    "\n",
    "print(y_train.shape)  # output = (sample , total label)\n",
    "print(mlb.classes_)    # label class name\n"
   ]
  },
  {
   "cell_type": "code",
   "execution_count": 5,
   "id": "3ff5f490-a176-46c8-a33a-cb347edba92f",
   "metadata": {
    "tags": []
   },
   "outputs": [
    {
     "name": "stdout",
     "output_type": "stream",
     "text": [
      "(1849, 1000) (463, 1000)\n"
     ]
    }
   ],
   "source": [
    "# split\n",
    "X_train, X_val, y_train, y_val = train_test_split(X_train, y_train, test_size=0.2, random_state=42)\n",
    "\n",
    "# the size of the dataset\n",
    "print(X_train.shape, X_val.shape)\n"
   ]
  },
  {
   "cell_type": "code",
   "execution_count": 6,
   "id": "631c2c77-6ccd-4491-b806-28568a13ec1a",
   "metadata": {
    "tags": []
   },
   "outputs": [],
   "source": [
    "# data to pytorch format\n",
    "X_train_tensor = torch.tensor(X_train, dtype=torch.float32)\n",
    "y_train_tensor = torch.tensor(y_train, dtype=torch.float32)\n",
    "X_val_tensor = torch.tensor(X_val, dtype=torch.float32)\n",
    "y_val_tensor = torch.tensor(y_val, dtype=torch.float32)\n",
    "\n",
    "train_dataset = TensorDataset(X_train_tensor, y_train_tensor)\n",
    "val_dataset = TensorDataset(X_val_tensor, y_val_tensor)\n",
    "train_loader = DataLoader(train_dataset, batch_size=32, shuffle=True)\n",
    "val_loader = DataLoader(val_dataset, batch_size=32, shuffle=False)\n"
   ]
  },
  {
   "cell_type": "code",
   "execution_count": 7,
   "id": "a2c65353-29ab-4641-99ae-2e18ff322df3",
   "metadata": {
    "tags": []
   },
   "outputs": [],
   "source": [
    "# MLP model\n",
    "class MLPRelationModel(nn.Module):\n",
    "    def __init__(self, input_dim, output_dim):\n",
    "        super(MLPRelationModel, self).__init__()\n",
    "        self.fc1 = nn.Linear(input_dim, 128)\n",
    "        self.fc2 = nn.Linear(128, 64)\n",
    "        self.fc3 = nn.Linear(64, output_dim)\n",
    "        self.relu = nn.ReLU()\n",
    "        self.dropout = nn.Dropout(0.5)\n",
    "    \n",
    "    def forward(self, x):\n",
    "        x = self.relu(self.fc1(x))\n",
    "        x = self.dropout(x)\n",
    "        x = self.relu(self.fc2(x))\n",
    "        x = self.fc3(x)\n",
    "        return x\n",
    "\n",
    "input_dim = X_train.shape[1]\n",
    "output_dim = len(mlb.classes_)\n",
    "\n",
    "# init model and loss function\n",
    "model = MLPRelationModel(input_dim, output_dim)\n",
    "criterion = nn.BCEWithLogitsLoss()  # mult label\n",
    "optimizer = optim.Adam(model.parameters(), lr=0.001)\n",
    "\n"
   ]
  },
  {
   "cell_type": "code",
   "execution_count": 8,
   "id": "adb25d90-3d9d-4ced-a1ab-a1097e9cc192",
   "metadata": {
    "tags": []
   },
   "outputs": [
    {
     "name": "stdout",
     "output_type": "stream",
     "text": [
      "Epoch 1, Loss: 0.44332131927144036, Training Accuracy: 0.04%\n",
      "Epoch 2, Loss: 0.1994039781697809, Training Accuracy: 0.04%\n",
      "Epoch 3, Loss: 0.1801788080228518, Training Accuracy: 0.39%\n",
      "Epoch 4, Loss: 0.14730277626890026, Training Accuracy: 24.09%\n",
      "Epoch 5, Loss: 0.11377506151999513, Training Accuracy: 50.48%\n",
      "Epoch 6, Loss: 0.08948609564606458, Training Accuracy: 62.11%\n",
      "Epoch 7, Loss: 0.07256514660707891, Training Accuracy: 71.37%\n",
      "Epoch 8, Loss: 0.059052753198432596, Training Accuracy: 76.12%\n",
      "Epoch 9, Loss: 0.04842157307246776, Training Accuracy: 83.91%\n",
      "Epoch 10, Loss: 0.04069708961330048, Training Accuracy: 86.72%\n",
      "Epoch 11, Loss: 0.035313249463598206, Training Accuracy: 89.58%\n",
      "Epoch 12, Loss: 0.0302760143930169, Training Accuracy: 90.79%\n",
      "Epoch 13, Loss: 0.027345953853673315, Training Accuracy: 92.52%\n",
      "Epoch 14, Loss: 0.024334036962014353, Training Accuracy: 93.64%\n",
      "Epoch 15, Loss: 0.02234113893841636, Training Accuracy: 94.90%\n",
      "Epoch 16, Loss: 0.01970113909560932, Training Accuracy: 95.63%\n",
      "Epoch 17, Loss: 0.0191244935195842, Training Accuracy: 96.19%\n",
      "Epoch 18, Loss: 0.01709756563889654, Training Accuracy: 96.28%\n",
      "Epoch 19, Loss: 0.015648480307004633, Training Accuracy: 96.45%\n",
      "Epoch 20, Loss: 0.014594915035907945, Training Accuracy: 96.71%\n",
      "Epoch 21, Loss: 0.013338364466182785, Training Accuracy: 97.15%\n",
      "Epoch 22, Loss: 0.012503729884397902, Training Accuracy: 97.19%\n",
      "Epoch 23, Loss: 0.011430533577318061, Training Accuracy: 97.06%\n",
      "Epoch 24, Loss: 0.011588470120467756, Training Accuracy: 97.53%\n",
      "Epoch 25, Loss: 0.010519066433205384, Training Accuracy: 97.45%\n",
      "Epoch 26, Loss: 0.009423672460810575, Training Accuracy: 97.36%\n",
      "Epoch 27, Loss: 0.009889058690607445, Training Accuracy: 97.84%\n",
      "Epoch 28, Loss: 0.008442182119374406, Training Accuracy: 98.01%\n",
      "Epoch 29, Loss: 0.008295643532470073, Training Accuracy: 97.97%\n",
      "Epoch 30, Loss: 0.007416553670948703, Training Accuracy: 98.23%\n",
      "Epoch 31, Loss: 0.008120870080534113, Training Accuracy: 98.36%\n",
      "Epoch 32, Loss: 0.006990364883477761, Training Accuracy: 98.49%\n",
      "Epoch 33, Loss: 0.007285705171142743, Training Accuracy: 98.53%\n",
      "Epoch 34, Loss: 0.006215346349588251, Training Accuracy: 98.66%\n",
      "Epoch 35, Loss: 0.005607022384774858, Training Accuracy: 98.57%\n",
      "Epoch 36, Loss: 0.006341909153876533, Training Accuracy: 98.66%\n",
      "Epoch 37, Loss: 0.005485910471777547, Training Accuracy: 98.88%\n",
      "Epoch 38, Loss: 0.005617514333993911, Training Accuracy: 99.05%\n",
      "Epoch 39, Loss: 0.00536435202229768, Training Accuracy: 99.09%\n",
      "Epoch 40, Loss: 0.004644885521672334, Training Accuracy: 99.22%\n",
      "Epoch 41, Loss: 0.00480888558357112, Training Accuracy: 99.48%\n",
      "Epoch 42, Loss: 0.004655702312298323, Training Accuracy: 99.48%\n",
      "Epoch 43, Loss: 0.003920940625679054, Training Accuracy: 99.48%\n",
      "Epoch 44, Loss: 0.004719300336708404, Training Accuracy: 99.35%\n",
      "Epoch 45, Loss: 0.004069016047925624, Training Accuracy: 99.57%\n",
      "Epoch 46, Loss: 0.004282221222002927, Training Accuracy: 99.57%\n",
      "Epoch 47, Loss: 0.0037891585702771857, Training Accuracy: 99.61%\n",
      "Epoch 48, Loss: 0.0034495936762477743, Training Accuracy: 99.65%\n",
      "Epoch 49, Loss: 0.0032529651804520964, Training Accuracy: 99.65%\n",
      "Epoch 50, Loss: 0.0034376643350896466, Training Accuracy: 99.70%\n",
      "Epoch 51, Loss: 0.003320082668884823, Training Accuracy: 99.65%\n",
      "Epoch 52, Loss: 0.0031980688498101885, Training Accuracy: 99.70%\n",
      "Epoch 53, Loss: 0.00315715078334643, Training Accuracy: 99.70%\n",
      "Epoch 54, Loss: 0.0033879784224491107, Training Accuracy: 99.70%\n",
      "Epoch 55, Loss: 0.0025740535762352385, Training Accuracy: 99.83%\n",
      "Epoch 56, Loss: 0.002623222775881702, Training Accuracy: 99.74%\n",
      "Epoch 57, Loss: 0.002663968480192125, Training Accuracy: 99.70%\n",
      "Epoch 58, Loss: 0.003364526144227281, Training Accuracy: 99.78%\n",
      "Epoch 59, Loss: 0.003006336271439118, Training Accuracy: 99.83%\n",
      "Epoch 60, Loss: 0.002659701121084341, Training Accuracy: 99.83%\n",
      "Epoch 61, Loss: 0.002532307548952378, Training Accuracy: 99.78%\n",
      "Epoch 62, Loss: 0.0022940888300407294, Training Accuracy: 99.83%\n",
      "Epoch 63, Loss: 0.0024734173240762024, Training Accuracy: 99.83%\n",
      "Epoch 64, Loss: 0.002340347608168648, Training Accuracy: 99.83%\n",
      "Epoch 65, Loss: 0.0023260428391302115, Training Accuracy: 99.83%\n",
      "Epoch 66, Loss: 0.0024709890326261776, Training Accuracy: 99.78%\n",
      "Epoch 67, Loss: 0.002134165244993486, Training Accuracy: 99.83%\n",
      "Epoch 68, Loss: 0.002020031092560863, Training Accuracy: 99.83%\n",
      "Epoch 69, Loss: 0.0019895295638029708, Training Accuracy: 99.83%\n",
      "Epoch 70, Loss: 0.0018414283533698611, Training Accuracy: 99.83%\n",
      "Epoch 71, Loss: 0.0020545008460742305, Training Accuracy: 99.83%\n",
      "Epoch 72, Loss: 0.0019600999104823877, Training Accuracy: 99.83%\n",
      "Epoch 73, Loss: 0.0016533919964511943, Training Accuracy: 99.83%\n",
      "Epoch 74, Loss: 0.0019813270187675185, Training Accuracy: 99.83%\n",
      "Epoch 75, Loss: 0.001957683788918673, Training Accuracy: 99.83%\n",
      "Epoch 76, Loss: 0.0018693756441504389, Training Accuracy: 99.83%\n",
      "Epoch 77, Loss: 0.0017223715880241449, Training Accuracy: 99.83%\n",
      "Epoch 78, Loss: 0.001493323453098427, Training Accuracy: 99.83%\n",
      "Epoch 79, Loss: 0.0019261179585966651, Training Accuracy: 99.83%\n",
      "Epoch 80, Loss: 0.0015738549945662308, Training Accuracy: 99.83%\n",
      "Epoch 81, Loss: 0.0016410247166003165, Training Accuracy: 99.83%\n",
      "Epoch 82, Loss: 0.0014850345072623546, Training Accuracy: 99.83%\n",
      "Epoch 83, Loss: 0.0015794760095073574, Training Accuracy: 99.83%\n",
      "Epoch 84, Loss: 0.001695455192693522, Training Accuracy: 99.83%\n",
      "Epoch 85, Loss: 0.001463443559284676, Training Accuracy: 99.83%\n",
      "Epoch 86, Loss: 0.0015259829244364295, Training Accuracy: 99.78%\n",
      "Epoch 87, Loss: 0.0015690390679481748, Training Accuracy: 99.83%\n",
      "Epoch 88, Loss: 0.0014614679359062255, Training Accuracy: 99.83%\n",
      "Epoch 89, Loss: 0.0014918021042332889, Training Accuracy: 99.83%\n",
      "Epoch 90, Loss: 0.0014113935589417975, Training Accuracy: 99.83%\n",
      "Epoch 91, Loss: 0.0011470832897891203, Training Accuracy: 99.87%\n",
      "Epoch 92, Loss: 0.0012775152362125594, Training Accuracy: 99.83%\n",
      "Epoch 93, Loss: 0.0014029761383825058, Training Accuracy: 99.83%\n",
      "Epoch 94, Loss: 0.0011660761824029192, Training Accuracy: 99.83%\n",
      "Epoch 95, Loss: 0.0010975176633296977, Training Accuracy: 99.83%\n",
      "Epoch 96, Loss: 0.0012714564115275894, Training Accuracy: 99.87%\n",
      "Epoch 97, Loss: 0.0011821055594151552, Training Accuracy: 99.87%\n",
      "Epoch 98, Loss: 0.0010178315733604879, Training Accuracy: 99.83%\n",
      "Epoch 99, Loss: 0.001442456435005911, Training Accuracy: 99.83%\n",
      "Epoch 100, Loss: 0.0012050945720583925, Training Accuracy: 99.83%\n"
     ]
    }
   ],
   "source": [
    "# save the loss and accuracies\n",
    "losses = []\n",
    "accuracies = []\n",
    "\n",
    "# train model\n",
    "for epoch in range(10):  # 10 time\n",
    "    model.train()\n",
    "    running_loss = 0.0\n",
    "    for inputs, labels in train_loader:\n",
    "        optimizer.zero_grad()\n",
    "        outputs = model(inputs)\n",
    "        loss = criterion(outputs, labels)\n",
    "        loss.backward()\n",
    "        optimizer.step()\n",
    "        running_loss += loss.item()\n",
    "\n",
    "    # avg_loss\n",
    "    avg_loss = running_loss / len(train_loader)\n",
    "    losses.append(avg_loss)\n",
    "\n",
    "    model.eval() # cal accuracies\n",
    "    correct_predictions = 0\n",
    "    total_samples = 0\n",
    "    \n",
    "    with torch.no_grad():\n",
    "        for inputs, labels in train_loader:\n",
    "            outputs = model(inputs)\n",
    "            # let the ans to 0 ~ 1\n",
    "            predicted = (torch.sigmoid(outputs) > 0.5).float()\n",
    "            correct_predictions += (predicted == labels).all(dim=1).sum().item()\n",
    "            total_samples += labels.size(0)\n",
    "    \n",
    "    accuracy = correct_predictions / total_samples\n",
    "    accuracies.append(accuracy * 100)\n",
    "\n",
    "    print(f'Epoch {epoch+1}, Loss: {avg_loss}, Training Accuracy: {accuracy * 100:.2f}%')\n",
    "\n"
   ]
  },
  {
   "cell_type": "code",
   "execution_count": 9,
   "id": "a8d80b1d-6a29-460f-98da-8b93be0a5d96",
   "metadata": {
    "tags": []
   },
   "outputs": [
    {
     "data": {
      "image/png": "[encoded data removed]",
      "text/plain": [
       "<Figure size 1200x500 with 2 Axes>"
      ]
     },
     "metadata": {},
     "output_type": "display_data"
    }
   ],
   "source": [
    "plt.figure(figsize=(12,5))\n",
    "\n",
    "# Loss pic\n",
    "plt.subplot(1, 2, 1)\n",
    "plt.plot(losses, label='Loss')\n",
    "plt.xlabel('Epoch')\n",
    "plt.ylabel('Loss')\n",
    "plt.title('Loss over Epochs')\n",
    "plt.legend()\n",
    "\n",
    "# Accuracy pic\n",
    "plt.subplot(1, 2, 2)\n",
    "plt.plot(accuracies, label='Accuracy', color='green')\n",
    "plt.xlabel('Epoch')\n",
    "plt.ylabel('Accuracy (%)')\n",
    "plt.title('Accuracy over Epochs')\n",
    "plt.legend()\n",
    "\n",
    "plt.tight_layout()\n",
    "plt.show()"
   ]
  },
  {
   "cell_type": "code",
   "execution_count": 40,
   "id": "5c39d5b1-d099-4ace-b2ee-3ebb5fc771ab",
   "metadata": {
    "tags": []
   },
   "outputs": [
    {
     "name": "stdout",
     "output_type": "stream",
     "text": [
      "Submission file generated successfully with 'none' for no predictions!\n"
     ]
    }
   ],
   "source": [
    "# read test_file\n",
    "test_file_path = r\"C:\\Users\\USER\\Downloads\\NLP-Courses\\NLP243\\Assignments\\HW1_Relation Extraction from Natural Language using PyTorch\\hw1_test-2.csv\"\n",
    "test_df = pd.read_csv(test_file_path)\n",
    "X_test = vectorizer.transform(test_df['UTTERANCES']).toarray()\n",
    "X_test_tensor = torch.tensor(X_test, dtype=torch.float32)\n",
    "\n",
    "# used model to predict\n",
    "model.eval()\n",
    "with torch.no_grad():\n",
    "    outputs = model(X_test_tensor)\n",
    "    predicted = (torch.sigmoid(outputs) > 0.5).float()\n",
    "\n",
    "# result mach the answer \n",
    "predicted_relations = mlb.inverse_transform(predicted.numpy())\n",
    "\n",
    "# if nothing match than give it nan for the ans\n",
    "submission_df = pd.DataFrame({\n",
    "    'ID': test_df['ID'],\n",
    "    'CORE RELATIONS': ['none' if len(relations) == 0 else ' '.join(relations) for relations in predicted_relations]\n",
    "})\n",
    "\n",
    "# save the ans\n",
    "submission_df.to_csv('submission.csv', index=False)\n",
    "print(\"Submission file generated successfully with 'none' for no predictions!\")\n"
   ]
  },
  {
   "cell_type": "code",
   "execution_count": null,
   "id": "c2b81591-62ca-40de-b01d-5431af67ea99",
   "metadata": {},
   "outputs": [],
   "source": []
  }
 ],
 "metadata": {
  "kernelspec": {
   "display_name": "pytorch",
   "language": "python",
   "name": "pytorch"
  },
  "language_info": {
   "codemirror_mode": {
    "name": "ipython",
    "version": 3
   },
   "file_extension": ".py",
   "mimetype": "text/x-python",
   "name": "python",
   "nbconvert_exporter": "python",
   "pygments_lexer": "ipython3",
   "version": "3.8.19"
  }
 },
 "nbformat": 4,
 "nbformat_minor": 5
}
