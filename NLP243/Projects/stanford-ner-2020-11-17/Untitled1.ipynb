{
 "cells": [
  {
   "cell_type": "code",
   "execution_count": 5,
   "id": "40f927d7-a658-4c0e-b9f4-c8d616484b8d",
   "metadata": {},
   "outputs": [
    {
     "name": "stderr",
     "output_type": "stream",
     "text": [
      "Generating train split: 100%|████████████████████████████████████████| 231266/231266 [00:08<00:00, 28025.68 examples/s]\n",
      "Generating test split: 100%|█████████████████████████████████████████████| 8549/8549 [00:00<00:00, 17174.59 examples/s]\n",
      "Generating validation split: 100%|█████████████████████████████████████████| 879/879 [00:00<00:00, 17578.34 examples/s]\n"
     ]
    },
    {
     "name": "stdout",
     "output_type": "stream",
     "text": [
      "Loaded sentences:\n",
      "English: [\"Thank you so much, Chris. And it's truly a great honor to have the opportunity to come to this stage twice; I'm extremely grateful.\", 'I have been blown away by this conference, and I want to thank all of you for the many nice comments about what I had to say the other night.', 'And I say that sincerely, partly because  I need that.  Put yourselves in my position.']\n",
      "Chinese: ['非常谢谢，克里斯。的确非常荣幸 能有第二次站在这个台上的机会，我真是非常感激。', '这个会议真是让我感到惊叹不已，我还要谢谢你们留下的 关于我上次演讲的精彩评论', '我是非常真诚的，部分原因是因为----我的确非常需要！ 你设身处地为我想想！']\n"
     ]
    },
    {
     "name": "stderr",
     "output_type": "stream",
     "text": [
      "Processing English NER:   1%|▍                                                | 1828/231266 [38:40<80:53:32,  1.27s/it]\n",
      "\n",
      "KeyboardInterrupt\n",
      "\n"
     ]
    }
   ],
   "source": [
    "from datasets import load_dataset\n",
    "import pandas as pd\n",
    "from nltk.tag import StanfordNERTagger\n",
    "from nltk.tokenize import word_tokenize\n",
    "from tqdm import tqdm\n",
    "\n",
    "# 設置 Stanford NER jar 和模型的完整路徑\n",
    "jar = r\"C:\\Users\\USER\\Downloads\\NLP-Courses\\NLP243\\Projects\\stanford-ner-2020-11-17\\stanford-ner-4.2.0.jar\"\n",
    "english_model = r\"C:\\Users\\USER\\Downloads\\NLP-Courses\\NLP243\\Projects\\stanford-ner-2020-11-17\\classifiers\\english.all.3class.distsim.crf.ser.gz\"\n",
    "chinese_model = r\"C:\\Users\\USER\\Downloads\\NLP-Courses\\NLP243\\Projects\\stanford-ner-2020-11-17\\classifiers\\chinese.misc.distsim.crf.ser.gz\"\n",
    "\n",
    "english_ner_tagger = StanfordNERTagger(english_model, jar, encoding='utf-8')\n",
    "chinese_ner_tagger = StanfordNERTagger(chinese_model, jar, encoding='utf-8')\n",
    "\n",
    "# 使用 datasets 套件載入 IWSLT 2017 英中翻譯資料集，設置 trust_remote_code=True\n",
    "dataset = load_dataset('iwslt2017', 'iwslt2017-en-zh', split='train', trust_remote_code=True)\n",
    "\n",
    "# 提取中英文句子\n",
    "english_sentences = [example['translation']['en'] for example in dataset]\n",
    "chinese_sentences = [example['translation']['zh'] for example in dataset]\n",
    "\n",
    "print(\"Loaded sentences:\")\n",
    "print(\"English:\", english_sentences[:3])\n",
    "print(\"Chinese:\", chinese_sentences[:3])\n",
    "\n",
    "# 使用 tqdm 查看進度並進行英文命名實體識別\n",
    "english_ner_results = []\n",
    "for sentence in tqdm(english_sentences, desc=\"Processing English NER\"):\n",
    "    words = word_tokenize(sentence)\n",
    "    tagged_words = english_ner_tagger.tag(words)\n",
    "    english_ner_results.append(tagged_words)\n",
    "\n",
    "# 使用 tqdm 查看進度並進行中文命名實體識別\n",
    "chinese_ner_results = []\n",
    "for sentence in tqdm(chinese_sentences, desc=\"Processing Chinese NER\"):\n",
    "    words = list(sentence)  # 中文不需要分詞，直接逐字標記\n",
    "    tagged_words = chinese_ner_tagger.tag(words)\n",
    "    chinese_ner_results.append(tagged_words)\n",
    "\n",
    "# 將結果轉換為 DataFrame 便於檢視\n",
    "ner_df = pd.DataFrame({\n",
    "    \"English Sentence\": english_sentences,\n",
    "    \"English NER Tagged\": english_ner_results,\n",
    "    \"Chinese Sentence\": chinese_sentences,\n",
    "    \"Chinese NER Tagged\": chinese_ner_results\n",
    "})\n",
    "\n",
    "# 顯示結果\n",
    "ner_df.head()\n",
    "\n",
    "# 保存 NER 標記結果到 CSV 文件（可選）\n",
    "ner_df.to_csv(r\"C:\\Users\\USER\\Downloads\\NLP-Courses\\NLP243\\Projects\\iwslt2017_ner_tagged.csv\", index=False)\n"
   ]
  },
  {
   "cell_type": "code",
   "execution_count": null,
   "id": "1ed3dfc6-006f-4c61-8552-add0e0e57dfe",
   "metadata": {},
   "outputs": [],
   "source": []
  }
 ],
 "metadata": {
  "kernelspec": {
   "display_name": "pytorch",
   "language": "python",
   "name": "pytorch"
  },
  "language_info": {
   "codemirror_mode": {
    "name": "ipython",
    "version": 3
   },
   "file_extension": ".py",
   "mimetype": "text/x-python",
   "name": "python",
   "nbconvert_exporter": "python",
   "pygments_lexer": "ipython3",
   "version": "3.8.19"
  }
 },
 "nbformat": 4,
 "nbformat_minor": 5
}
