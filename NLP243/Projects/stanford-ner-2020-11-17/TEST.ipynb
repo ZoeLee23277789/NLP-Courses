{
 "cells": [
  {
   "cell_type": "code",
   "execution_count": 2,
   "id": "b01b12de-5122-4a45-8be3-568198480c23",
   "metadata": {},
   "outputs": [
    {
     "name": "stdout",
     "output_type": "stream",
     "text": [
      "Sample sentences for testing:\n",
      "English: [\"And deterrence theory is a very simple theory of human behavior: If you want somebody to do less of something, add a punishment and they'll do less of it.\", 'If you were to walk into one of these rooms, you would see this.', 'We tried to answer this simple question: Can you find a unifying language that cuts across age and income and culture that will help people themselves find a new way of living, see spaces around them differently, think about the resources they use differently, interact differently?']\n",
      "Chinese: ['威慑理论是人类行为最简单的理论。 如果你不想要人们做某些事情， 只需要加上惩罚，人们便不会去做了。', '如果你走进这其中一个房间，你就会看到这个。', '我们试图回答这个简单的问题 你能找到一种统一的语言 即使跨越时代 收入和文化却仍然能够帮助人们自己 找到一种新的生活方式 看看身边独特的空间 想想人们别出心裁的 不同交流方式 的不同资源']\n"
     ]
    },
    {
     "name": "stderr",
     "output_type": "stream",
     "text": [
      "Processing English NER: 100%|████████████████████████████████████████████████████████| 100/100 [02:18<00:00,  1.39s/it]\n",
      "Processing Chinese NER: 100%|████████████████████████████████████████████████████████| 100/100 [04:07<00:00,  2.48s/it]\n"
     ]
    }
   ],
   "source": [
    "from datasets import load_dataset\n",
    "import pandas as pd\n",
    "from nltk.tag import StanfordNERTagger\n",
    "from nltk.tokenize import word_tokenize\n",
    "from tqdm import tqdm\n",
    "import random\n",
    "\n",
    "# 設置 Stanford NER jar 和模型的完整路徑\n",
    "jar = r\"C:\\Users\\USER\\Downloads\\NLP-Courses\\NLP243\\Projects\\stanford-ner-2020-11-17\\stanford-ner-4.2.0.jar\"\n",
    "english_model = r\"C:\\Users\\USER\\Downloads\\NLP-Courses\\NLP243\\Projects\\stanford-ner-2020-11-17\\classifiers\\english.all.3class.distsim.crf.ser.gz\"\n",
    "chinese_model = r\"C:\\Users\\USER\\Downloads\\NLP-Courses\\NLP243\\Projects\\stanford-ner-2020-11-17\\classifiers\\chinese.misc.distsim.crf.ser.gz\"\n",
    "\n",
    "english_ner_tagger = StanfordNERTagger(english_model, jar, encoding='utf-8')\n",
    "chinese_ner_tagger = StanfordNERTagger(chinese_model, jar, encoding='utf-8')\n",
    "\n",
    "# 使用 datasets 套件載入 IWSLT 2017 英中翻譯資料集，設置 trust_remote_code=True\n",
    "dataset = load_dataset('iwslt2017', 'iwslt2017-en-zh', split='train', trust_remote_code=True)\n",
    "\n",
    "# 隨機選取 1000 個樣本作為測試資料，剩餘的保留為縮小的訓練資料集\n",
    "sample_size = 100\n",
    "test_samples = dataset.shuffle(seed=42).select(range(sample_size))\n",
    "train_samples = dataset.select(range(sample_size, len(dataset)))\n",
    "\n",
    "# 提取中英文句子\n",
    "english_sentences = [example['translation']['en'] for example in test_samples]\n",
    "chinese_sentences = [example['translation']['zh'] for example in test_samples]\n",
    "\n",
    "print(\"Sample sentences for testing:\")\n",
    "print(\"English:\", english_sentences[:3])\n",
    "print(\"Chinese:\", chinese_sentences[:3])\n",
    "\n",
    "# 使用 tqdm 查看進度並進行英文命名實體識別\n",
    "english_ner_results = []\n",
    "for sentence in tqdm(english_sentences, desc=\"Processing English NER\"):\n",
    "    words = word_tokenize(sentence)\n",
    "    tagged_words = english_ner_tagger.tag(words)\n",
    "    english_ner_results.append(tagged_words)\n",
    "\n",
    "# 使用 tqdm 查看進度並進行中文命名實體識別\n",
    "chinese_ner_results = []\n",
    "for sentence in tqdm(chinese_sentences, desc=\"Processing Chinese NER\"):\n",
    "    words = list(sentence)  # 中文不需要分詞，直接逐字標記\n",
    "    tagged_words = chinese_ner_tagger.tag(words)\n",
    "    chinese_ner_results.append(tagged_words)\n",
    "\n",
    "# 將結果轉換為 DataFrame 便於檢視\n",
    "ner_df = pd.DataFrame({\n",
    "    \"English Sentence\": english_sentences,\n",
    "    \"English NER Tagged\": english_ner_results,\n",
    "    \"Chinese Sentence\": chinese_sentences,\n",
    "    \"Chinese NER Tagged\": chinese_ner_results\n",
    "})\n",
    "\n",
    "# 顯示結果\n",
    "ner_df.head()\n",
    "\n",
    "# 保存 NER 標記結果到 CSV 文件（可選）\n",
    "ner_df.to_csv(r\"C:\\Users\\USER\\Downloads\\NLP-Courses\\NLP243\\Projects\\iwslt2017_ner_tagged_test_sample.csv\", index=False)\n"
   ]
  },
  {
   "cell_type": "code",
   "execution_count": 7,
   "id": "af66d9dc-5ab0-4643-b1d3-f74bdd8ca43d",
   "metadata": {},
   "outputs": [
    {
     "name": "stdout",
     "output_type": "stream",
     "text": [
      "All unique NER tags: {'LOCATION', 'O', 'MISC', 'ORGANIZATION', 'GPE', 'PERSON'}\n"
     ]
    }
   ],
   "source": [
    "import pandas as pd\n",
    "\n",
    "# 載入 CSV 文件\n",
    "file_path = 'C:\\\\Users\\\\USER\\\\Downloads\\\\NLP-Courses\\\\NLP243\\\\Projects\\\\iwslt2017_ner_tagged_test_sample.csv'\n",
    "\n",
    "ner_df = pd.read_csv(file_path)\n",
    "\n",
    "# 提取 English NER 和 Chinese NER 標記欄位中的標記\n",
    "english_tags = ner_df['English NER Tagged'].apply(lambda x: eval(x))\n",
    "chinese_tags = ner_df['Chinese NER Tagged'].apply(lambda x: eval(x))\n",
    "\n",
    "# 取得 English NER 中的獨特標記\n",
    "unique_english_tags = set(tag for sentence in english_tags for _, tag in sentence)\n",
    "\n",
    "# 取得 Chinese NER 中的獨特標記\n",
    "unique_chinese_tags = set(tag for sentence in chinese_tags for _, tag in sentence)\n",
    "\n",
    "# 結合兩種語言中的所有獨特標記\n",
    "all_unique_tags = unique_english_tags.union(unique_chinese_tags)\n",
    "\n",
    "# 輸出結果\n",
    "print(\"All unique NER tags:\", all_unique_tags)\n"
   ]
  },
  {
   "cell_type": "markdown",
   "id": "2c04183d-28cf-4ee5-a3e5-e49b9b908368",
   "metadata": {},
   "source": [
    "# 命名實體標記（NER tags）有以下幾種類型：\n",
    "\n",
    "## GPE - 地理政治實體，例如國家、城市等。\n",
    "\n",
    "## LOCATION - 一般地點名稱。\n",
    "\n",
    "## MISC - 其他未分類的實體類別。\n",
    "\n",
    "## O - 表示該詞或字不是任何命名實體。\n",
    "## ORGANIZATION - 組織名稱，例如公司、機構等。\n",
    "## PERSON - 人名。"
   ]
  },
  {
   "cell_type": "code",
   "execution_count": 11,
   "id": "d57c4551-2c69-4c0f-85fa-b47f350e4faa",
   "metadata": {},
   "outputs": [
    {
     "name": "stdout",
     "output_type": "stream",
     "text": [
      "                           Original English Sentence  \\\n",
      "0  And deterrence theory is a very simple theory ...   \n",
      "1  If you were to walk into one of these rooms, y...   \n",
      "2  We tried to answer this simple question: Can y...   \n",
      "3  Here's how a philosopher explains the sawing-t...   \n",
      "4  So you create a bridge between the media and t...   \n",
      "\n",
      "                             Tagged English Sentence  \\\n",
      "0  And deterrence theory is a very simple theory ...   \n",
      "1  If you were to walk into one of these rooms , ...   \n",
      "2  We tried to answer this simple question : Can ...   \n",
      "3  Here 's how a philosopher explains the sawing-...   \n",
      "4  So you create a bridge between the media and t...   \n",
      "\n",
      "                           Original Chinese Sentence  \\\n",
      "0  威慑理论是人类行为最简单的理论。 如果你不想要人们做某些事情， 只需要加上惩罚，人们便不会去做了。   \n",
      "1                              如果你走进这其中一个房间，你就会看到这个。   \n",
      "2  我们试图回答这个简单的问题 你能找到一种统一的语言 即使跨越时代 收入和文化却仍然能够帮助人...   \n",
      "3                                哲学家如何解释将女士锯成两半的魔术呢。   \n",
      "4                    所以你就架起了一座桥梁， 一头是媒体，一头是那些不知名的妇女。   \n",
      "\n",
      "                             Tagged Chinese Sentence  \n",
      "0  威 慑 理 论 是 人 类 行 为 最 简 单 的 理 论 。 如 果 你 不 想 要 人 ...  \n",
      "1          如 果 你 走 进 这 其 中 一 个 房 间 ， 你 就 会 看 到 这 个 。  \n",
      "2  我 们 试 图 回 答 这 个 简 单 的 问 题 你 能 找 到 <MISC>一 <\\MI...  \n",
      "3  哲 学 家 如 何 解 释 将 女 士 锯 成 <MISC>两 <\\MISC> <MISC>...  \n",
      "4  所 以 你 就 架 起 了 <MISC>一 <\\MISC> 座 桥 梁 ， <MISC>一 ...  \n"
     ]
    }
   ],
   "source": [
    "# 將命名實體替換為帶有標籤的格式\n",
    "def replace_with_tags(sentence, tagged_words):\n",
    "    tagged_sentence = \"\"\n",
    "    inside_tag = False\n",
    "    current_tag = None\n",
    "\n",
    "    for word, tag in tagged_words:\n",
    "        if tag == 'O':\n",
    "            tagged_sentence += word + \" \"\n",
    "            inside_tag = False\n",
    "            current_tag = None\n",
    "        else:\n",
    "            if not inside_tag:\n",
    "                tagged_sentence += f\"<{tag}>\"\n",
    "                inside_tag = True\n",
    "                current_tag = tag\n",
    "            tagged_sentence += word + \" \"\n",
    "            if tag != current_tag or (tag == current_tag and word != tagged_words[-1][0]):\n",
    "                tagged_sentence += f\"<\\\\{tag}> \"\n",
    "                inside_tag = False\n",
    "                current_tag = None\n",
    "    return tagged_sentence.strip()\n",
    "\n",
    "# 應用標籤替換\n",
    "tagged_english_sentences = [replace_with_tags(sentence, tagged_words) for sentence, tagged_words in zip(english_sentences, english_ner_results)]\n",
    "tagged_chinese_sentences = [replace_with_tags(sentence, tagged_words) for sentence, tagged_words in zip(chinese_sentences, chinese_ner_results)]\n",
    "\n",
    "# 將結果轉換為 DataFrame 便於檢視\n",
    "tagged_df = pd.DataFrame({\n",
    "    \"Original English Sentence\": english_sentences,\n",
    "    \"Tagged English Sentence\": tagged_english_sentences,\n",
    "    \"Original Chinese Sentence\": chinese_sentences,\n",
    "    \"Tagged Chinese Sentence\": tagged_chinese_sentences\n",
    "})\n",
    "\n",
    "# 顯示結果\n",
    "print(tagged_df.head())\n",
    "\n",
    "# 保存帶標籤的 NER 標記結果到 CSV 文件\n",
    "# 保存帶標籤的 NER 標記結果到 CSV 文件，指定編碼為 UTF-8\n",
    "# 保存帶標籤的 NER 標記結果到 CSV 文件，並指定 UTF-8 編碼以避免亂碼\n",
    "tagged_df.to_csv(r\"C:\\Users\\USER\\Downloads\\NLP-Courses\\NLP243\\Projects\\iwslt2017_tagged_sentences.csv\", index=False, encoding='utf-8-sig')\n"
   ]
  },
  {
   "cell_type": "code",
   "execution_count": null,
   "id": "5c20d4aa-db10-4e45-82b3-cbec68e6edb8",
   "metadata": {
    "scrolled": true
   },
   "outputs": [],
   "source": []
  },
  {
   "cell_type": "code",
   "execution_count": null,
   "id": "d27fae1d-4f0f-43c3-95a8-8c0b070035ab",
   "metadata": {},
   "outputs": [],
   "source": []
  }
 ],
 "metadata": {
  "kernelspec": {
   "display_name": "pytorch",
   "language": "python",
   "name": "pytorch"
  },
  "language_info": {
   "codemirror_mode": {
    "name": "ipython",
    "version": 3
   },
   "file_extension": ".py",
   "mimetype": "text/x-python",
   "name": "python",
   "nbconvert_exporter": "python",
   "pygments_lexer": "ipython3",
   "version": "3.8.19"
  }
 },
 "nbformat": 4,
 "nbformat_minor": 5
}
