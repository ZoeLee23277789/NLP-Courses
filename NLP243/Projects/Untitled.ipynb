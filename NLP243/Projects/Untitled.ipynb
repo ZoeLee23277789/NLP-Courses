{
 "cells": [
  {
   "cell_type": "code",
   "execution_count": 5,
   "id": "b118314a-668b-49f7-a314-cfc553748bbe",
   "metadata": {},
   "outputs": [
    {
     "name": "stderr",
     "output_type": "stream",
     "text": [
      "wandb: Currently logged in as: zoe23277789 (zoe23277789-university-of-california). Use `wandb login --relogin` to force relogin\n",
      "wandb: WARNING If you're specifying your api key in code, ensure this code is not shared publicly.\n",
      "wandb: WARNING Consider setting the WANDB_API_KEY environment variable, or running `wandb login` from the command line.\n",
      "wandb: Appending key for api.wandb.ai to your netrc file: C:\\Users\\USER\\_netrc\n"
     ]
    },
    {
     "data": {
      "text/plain": [
       "True"
      ]
     },
     "execution_count": 5,
     "metadata": {},
     "output_type": "execute_result"
    }
   ],
   "source": [
    "import wandb\n",
    "wandb.login\n",
    "\n",
    "wandb.login(key=\"ecb274029c5b58bfc7f56540aa287607be764bd9\")\n",
    "\n"
   ]
  },
  {
   "cell_type": "code",
   "execution_count": 2,
   "id": "aa1230e3-db53-47d4-b823-49f577a3b7cd",
   "metadata": {},
   "outputs": [
    {
     "name": "stdout",
     "output_type": "stream",
     "text": [
      "Collecting wandb\n",
      "  Downloading wandb-0.18.7-py3-none-win_amd64.whl.metadata (9.7 kB)\n",
      "Requirement already satisfied: click!=8.0.0,>=7.1 in c:\\users\\user\\anaconda3\\envs\\pytorch\\lib\\site-packages (from wandb) (8.1.7)\n",
      "Collecting docker-pycreds>=0.4.0 (from wandb)\n",
      "  Downloading docker_pycreds-0.4.0-py2.py3-none-any.whl.metadata (1.8 kB)\n",
      "Collecting gitpython!=3.1.29,>=1.0.0 (from wandb)\n",
      "  Downloading GitPython-3.1.43-py3-none-any.whl.metadata (13 kB)\n",
      "Requirement already satisfied: platformdirs in c:\\users\\user\\appdata\\roaming\\python\\python38\\site-packages (from wandb) (4.2.0)\n",
      "Requirement already satisfied: protobuf!=4.21.0,!=5.28.0,<6,>=3.19.0 in c:\\users\\user\\anaconda3\\envs\\pytorch\\lib\\site-packages (from wandb) (3.20.3)\n",
      "Requirement already satisfied: psutil>=5.0.0 in c:\\users\\user\\appdata\\roaming\\python\\python38\\site-packages (from wandb) (5.9.8)\n",
      "Requirement already satisfied: pyyaml in c:\\users\\user\\appdata\\roaming\\python\\python38\\site-packages (from wandb) (6.0.1)\n",
      "Requirement already satisfied: requests<3,>=2.0.0 in c:\\users\\user\\anaconda3\\envs\\pytorch\\lib\\site-packages (from wandb) (2.32.3)\n",
      "Collecting sentry-sdk>=2.0.0 (from wandb)\n",
      "  Downloading sentry_sdk-2.18.0-py2.py3-none-any.whl.metadata (9.9 kB)\n",
      "Collecting setproctitle (from wandb)\n",
      "  Downloading setproctitle-1.3.3-cp38-cp38-win_amd64.whl.metadata (10 kB)\n",
      "Requirement already satisfied: setuptools in c:\\users\\user\\anaconda3\\envs\\pytorch\\lib\\site-packages (from wandb) (75.1.0)\n",
      "Requirement already satisfied: typing-extensions<5,>=4.4 in c:\\users\\user\\appdata\\roaming\\python\\python38\\site-packages (from wandb) (4.10.0)\n",
      "Requirement already satisfied: colorama in c:\\users\\user\\appdata\\roaming\\python\\python38\\site-packages (from click!=8.0.0,>=7.1->wandb) (0.4.6)\n",
      "Requirement already satisfied: six>=1.4.0 in c:\\users\\user\\appdata\\roaming\\python\\python38\\site-packages (from docker-pycreds>=0.4.0->wandb) (1.16.0)\n",
      "Collecting gitdb<5,>=4.0.1 (from gitpython!=3.1.29,>=1.0.0->wandb)\n",
      "  Using cached gitdb-4.0.11-py3-none-any.whl.metadata (1.2 kB)\n",
      "Requirement already satisfied: charset-normalizer<4,>=2 in c:\\users\\user\\appdata\\roaming\\python\\python38\\site-packages (from requests<3,>=2.0.0->wandb) (3.3.2)\n",
      "Requirement already satisfied: idna<4,>=2.5 in c:\\users\\user\\anaconda3\\envs\\pytorch\\lib\\site-packages (from requests<3,>=2.0.0->wandb) (3.7)\n",
      "Requirement already satisfied: urllib3<3,>=1.21.1 in c:\\users\\user\\appdata\\roaming\\python\\python38\\site-packages (from requests<3,>=2.0.0->wandb) (2.2.1)\n",
      "Requirement already satisfied: certifi>=2017.4.17 in c:\\users\\user\\anaconda3\\envs\\pytorch\\lib\\site-packages (from requests<3,>=2.0.0->wandb) (2024.8.30)\n",
      "Collecting smmap<6,>=3.0.1 (from gitdb<5,>=4.0.1->gitpython!=3.1.29,>=1.0.0->wandb)\n",
      "  Using cached smmap-5.0.1-py3-none-any.whl.metadata (4.3 kB)\n",
      "Downloading wandb-0.18.7-py3-none-win_amd64.whl (15.5 MB)\n",
      "   ---------------------------------------- 0.0/15.5 MB ? eta -:--:--\n",
      "   ---------------------------------------- 0.2/15.5 MB 3.3 MB/s eta 0:00:05\n",
      "   - -------------------------------------- 0.6/15.5 MB 5.9 MB/s eta 0:00:03\n",
      "   --- ------------------------------------ 1.2/15.5 MB 8.4 MB/s eta 0:00:02\n",
      "   --- ------------------------------------ 1.5/15.5 MB 9.5 MB/s eta 0:00:02\n",
      "   --- ------------------------------------ 1.5/15.5 MB 9.5 MB/s eta 0:00:02\n",
      "   ------ --------------------------------- 2.5/15.5 MB 9.0 MB/s eta 0:00:02\n",
      "   ------- -------------------------------- 2.8/15.5 MB 8.4 MB/s eta 0:00:02\n",
      "   -------- ------------------------------- 3.5/15.5 MB 9.2 MB/s eta 0:00:02\n",
      "   ---------- ----------------------------- 4.2/15.5 MB 9.9 MB/s eta 0:00:02\n",
      "   ------------ --------------------------- 4.9/15.5 MB 10.4 MB/s eta 0:00:02\n",
      "   -------------- ------------------------- 5.6/15.5 MB 10.8 MB/s eta 0:00:01\n",
      "   ---------------- ----------------------- 6.3/15.5 MB 11.6 MB/s eta 0:00:01\n",
      "   ------------------ --------------------- 7.1/15.5 MB 11.9 MB/s eta 0:00:01\n",
      "   -------------------- ------------------- 8.1/15.5 MB 12.3 MB/s eta 0:00:01\n",
      "   ------------------------ --------------- 9.3/15.5 MB 12.9 MB/s eta 0:00:01\n",
      "   -------------------------- ------------- 10.2/15.5 MB 13.3 MB/s eta 0:00:01\n",
      "   ---------------------------- ----------- 11.1/15.5 MB 14.5 MB/s eta 0:00:01\n",
      "   ------------------------------ --------- 11.8/15.5 MB 17.3 MB/s eta 0:00:01\n",
      "   -------------------------------- ------- 12.6/15.5 MB 16.0 MB/s eta 0:00:01\n",
      "   --------------------------------- ------ 13.1/15.5 MB 16.4 MB/s eta 0:00:01\n",
      "   ------------------------------------ --- 14.1/15.5 MB 16.8 MB/s eta 0:00:01\n",
      "   -------------------------------------- - 15.0/15.5 MB 17.2 MB/s eta 0:00:01\n",
      "   ---------------------------------------- 15.5/15.5 MB 16.8 MB/s eta 0:00:00\n",
      "Downloading docker_pycreds-0.4.0-py2.py3-none-any.whl (9.0 kB)\n",
      "Downloading GitPython-3.1.43-py3-none-any.whl (207 kB)\n",
      "   ---------------------------------------- 0.0/207.3 kB ? eta -:--:--\n",
      "   ---------------------------------------- 207.3/207.3 kB ? eta 0:00:00\n",
      "Downloading sentry_sdk-2.18.0-py2.py3-none-any.whl (317 kB)\n",
      "   ---------------------------------------- 0.0/317.5 kB ? eta -:--:--\n",
      "   --------------------------------------- 317.5/317.5 kB 20.5 MB/s eta 0:00:00\n",
      "Downloading setproctitle-1.3.3-cp38-cp38-win_amd64.whl (11 kB)\n",
      "Using cached gitdb-4.0.11-py3-none-any.whl (62 kB)\n",
      "Using cached smmap-5.0.1-py3-none-any.whl (24 kB)\n",
      "Installing collected packages: smmap, setproctitle, sentry-sdk, docker-pycreds, gitdb, gitpython, wandb\n",
      "Successfully installed docker-pycreds-0.4.0 gitdb-4.0.11 gitpython-3.1.43 sentry-sdk-2.18.0 setproctitle-1.3.3 smmap-5.0.1 wandb-0.18.7\n"
     ]
    },
    {
     "name": "stderr",
     "output_type": "stream",
     "text": [
      "DEPRECATION: omegaconf 2.0.6 has a non-standard dependency specifier PyYAML>=5.1.*. pip 24.1 will enforce this behaviour change. A possible replacement is to upgrade to a newer version of omegaconf or contact the author to suggest that they release a version with a conforming dependency specifiers. Discussion can be found at https://github.com/pypa/pip/issues/12063\n",
      "\n",
      "[notice] A new release of pip is available: 24.0 -> 24.3.1\n",
      "[notice] To update, run: python.exe -m pip install --upgrade pip\n"
     ]
    }
   ],
   "source": [
    "!pip install wandb\n"
   ]
  },
  {
   "cell_type": "code",
   "execution_count": null,
   "id": "b6c4c819-6753-4ad0-a233-df0cdd3cb403",
   "metadata": {},
   "outputs": [],
   "source": []
  }
 ],
 "metadata": {
  "kernelspec": {
   "display_name": "pytorch",
   "language": "python",
   "name": "pytorch"
  },
  "language_info": {
   "codemirror_mode": {
    "name": "ipython",
    "version": 3
   },
   "file_extension": ".py",
   "mimetype": "text/x-python",
   "name": "python",
   "nbconvert_exporter": "python",
   "pygments_lexer": "ipython3",
   "version": "3.8.19"
  }
 },
 "nbformat": 4,
 "nbformat_minor": 5
}
