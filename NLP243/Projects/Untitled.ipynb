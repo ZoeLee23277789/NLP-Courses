{
 "cells": [
  {
   "cell_type": "code",
   "execution_count": null,
   "id": "23c59e96-0e58-4bb6-8b9c-6a033a85965d",
   "metadata": {},
   "outputs": [
    {
     "name": "stderr",
     "output_type": "stream",
     "text": [
      "Processing NER:   5%|██▌                                                   | 10981/231266 [3:30:30<64:37:23,  1.06s/it]"
     ]
    }
   ],
   "source": [
    "import pandas as pd\n",
    "from nltk.tag import StanfordNERTagger\n",
    "from nltk.tokenize import word_tokenize\n",
    "from tqdm import tqdm\n",
    "\n",
    "# 設置 Stanford NER jar 和模型的完整路徑\n",
    "jar = r\"C:\\Users\\USER\\Downloads\\NLP-Courses\\NLP243\\Projects\\stanford-ner-2020-11-17\\stanford-ner-4.2.0.jar\"\n",
    "model = r\"C:\\Users\\USER\\Downloads\\NLP-Courses\\NLP243\\Projects\\stanford-ner-2020-11-17\\classifiers\\english.all.3class.distsim.crf.ser.gz\"\n",
    "\n",
    "# 初始化 Stanford NER Tagger\n",
    "stanford_ner_tagger = StanfordNERTagger(model, jar, encoding='utf-8')\n",
    "\n",
    "# 讀取 CSV 文件中的 'translation.en' 列，使用完整路徑\n",
    "train_df = pd.read_csv(r\"C:\\Users\\USER\\Downloads\\NLP-Courses\\NLP243\\Projects\\train.csv\")\n",
    "sentences = train_df['translation.en'].dropna().tolist()  # 去除空值並轉換為列表\n",
    "\n",
    "# 使用 tqdm 查看進度並進行命名實體識別\n",
    "ner_results = []\n",
    "for sentence in tqdm(sentences, desc=\"Processing NER\"):\n",
    "    words = word_tokenize(sentence)\n",
    "    tagged_words = stanford_ner_tagger.tag(words)\n",
    "    ner_results.append(tagged_words)\n",
    "\n",
    "# 將結果轉換為 DataFrame 便於檢視\n",
    "ner_df = pd.DataFrame({\n",
    "    \"Original Sentence\": sentences,\n",
    "    \"NER Tagged\": ner_results\n",
    "})\n",
    "\n",
    "# 顯示結果\n",
    "ner_df.head()\n",
    "\n",
    "# 保存 NER 標記結果到 CSV 文件（可選）\n",
    "ner_df.to_csv(r\"C:\\Users\\USER\\Downloads\\NLP-Courses\\NLP243\\Projects\\ner_tagged_train.csv\", index=False)\n"
   ]
  },
  {
   "cell_type": "code",
   "execution_count": null,
   "id": "a85fbd1f-e3a9-4a3f-8e6e-bdc72ecc6728",
   "metadata": {},
   "outputs": [],
   "source": []
  }
 ],
 "metadata": {
  "kernelspec": {
   "display_name": "pytorch",
   "language": "python",
   "name": "pytorch"
  },
  "language_info": {
   "codemirror_mode": {
    "name": "ipython",
    "version": 3
   },
   "file_extension": ".py",
   "mimetype": "text/x-python",
   "name": "python",
   "nbconvert_exporter": "python",
   "pygments_lexer": "ipython3",
   "version": "3.8.19"
  }
 },
 "nbformat": 4,
 "nbformat_minor": 5
}
