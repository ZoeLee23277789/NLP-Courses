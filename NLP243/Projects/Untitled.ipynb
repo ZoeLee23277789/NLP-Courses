{
 "cells": [
  {
   "cell_type": "code",
   "execution_count": null,
   "id": "b03e33f4-0c3b-44c8-8eac-ab5b36cc2218",
   "metadata": {
    "scrolled": true
   },
   "outputs": [
    {
     "name": "stderr",
     "output_type": "stream",
     "text": [
      "Processing Chinese NER with HanLP:  53%|██████████████████                | 122782/231266 [8:54:28<16:13:01,  1.86it/s]"
     ]
    }
   ],
   "source": [
    "from datasets import load_dataset\n",
    "import pandas as pd\n",
    "from tqdm import tqdm\n",
    "import hanlp\n",
    "\n",
    "# 載入 HanLP 模型\n",
    "hanlp_model = hanlp.load(hanlp.pretrained.mtl.CLOSE_TOK_POS_NER_SRL_DEP_SDP_CON_ELECTRA_SMALL_ZH)\n",
    "\n",
    "# 使用 datasets 套件載入 IWSLT 2017 英中翻譯資料集，設置 trust_remote_code=True\n",
    "dataset = load_dataset('iwslt2017', 'iwslt2017-en-zh', split='train', trust_remote_code=True)\n",
    "\n",
    "# 提取中文句子\n",
    "chinese_sentences = [example['translation']['zh'] for example in dataset]\n",
    "# print(\"chinese_sentences = \",chinese_sentences)\n",
    "# 進行中文命名實體識別使用 HanLP\n",
    "chinese_ner_results = []\n",
    "for sentence in tqdm(chinese_sentences, desc=\"Processing Chinese NER with HanLP\"):\n",
    "    tagged_words = hanlp_model(sentence)['ner/pku']\n",
    "    chinese_ner_results.append(tagged_words)\n",
    "\n",
    "# 將結果轉換為 DataFrame 便於檢視\n",
    "ner_df = pd.DataFrame({\n",
    "    \"Chinese Sentence\": chinese_sentences,\n",
    "    \"Chinese NER Tagged\": chinese_ner_results\n",
    "})\n",
    "\n",
    "# 保存 NER 標記結果到 CSV 文件\n",
    "ner_df.to_csv(r\"C:\\Users\\USER\\Downloads\\NLP-Courses\\NLP243\\Projects\\Chience_ner_tagged.csv\", index=False, encoding='utf-8-sig')\n",
    "\n"
   ]
  },
  {
   "cell_type": "code",
   "execution_count": 4,
   "id": "026eb760-05cc-416f-bbfe-ea1d803b1ecc",
   "metadata": {},
   "outputs": [
    {
     "ename": "ValueError",
     "evalue": "too many values to unpack (expected 2)",
     "output_type": "error",
     "traceback": [
      "\u001b[1;31m---------------------------------------------------------------------------\u001b[0m",
      "\u001b[1;31mValueError\u001b[0m                                Traceback (most recent call last)",
      "Cell \u001b[1;32mIn[4], line 12\u001b[0m\n\u001b[0;32m      9\u001b[0m     \u001b[38;5;28;01mreturn\u001b[39;00m tagged_sentence\n\u001b[0;32m     11\u001b[0m \u001b[38;5;66;03m# 替換中文句子的標籤\u001b[39;00m\n\u001b[1;32m---> 12\u001b[0m tagged_chinese_sentences \u001b[38;5;241m=\u001b[39m [replace_with_tags(tagged_words) \u001b[38;5;28;01mfor\u001b[39;00m tagged_words \u001b[38;5;129;01min\u001b[39;00m chinese_ner_results]\n\u001b[0;32m     14\u001b[0m \u001b[38;5;66;03m# 創建 DataFrame 以便於查看\u001b[39;00m\n\u001b[0;32m     15\u001b[0m tagged_df \u001b[38;5;241m=\u001b[39m pd\u001b[38;5;241m.\u001b[39mDataFrame({\n\u001b[0;32m     16\u001b[0m     \u001b[38;5;124m\"\u001b[39m\u001b[38;5;124mOriginal Chinese Sentence\u001b[39m\u001b[38;5;124m\"\u001b[39m: ner_df[\u001b[38;5;124m'\u001b[39m\u001b[38;5;124mChinese Sentence\u001b[39m\u001b[38;5;124m'\u001b[39m],\n\u001b[0;32m     17\u001b[0m     \u001b[38;5;124m\"\u001b[39m\u001b[38;5;124mTagged Chinese Sentence\u001b[39m\u001b[38;5;124m\"\u001b[39m: tagged_chinese_sentences\n\u001b[0;32m     18\u001b[0m })\n",
      "Cell \u001b[1;32mIn[4], line 12\u001b[0m, in \u001b[0;36m<listcomp>\u001b[1;34m(.0)\u001b[0m\n\u001b[0;32m      9\u001b[0m     \u001b[38;5;28;01mreturn\u001b[39;00m tagged_sentence\n\u001b[0;32m     11\u001b[0m \u001b[38;5;66;03m# 替換中文句子的標籤\u001b[39;00m\n\u001b[1;32m---> 12\u001b[0m tagged_chinese_sentences \u001b[38;5;241m=\u001b[39m [\u001b[43mreplace_with_tags\u001b[49m\u001b[43m(\u001b[49m\u001b[43mtagged_words\u001b[49m\u001b[43m)\u001b[49m \u001b[38;5;28;01mfor\u001b[39;00m tagged_words \u001b[38;5;129;01min\u001b[39;00m chinese_ner_results]\n\u001b[0;32m     14\u001b[0m \u001b[38;5;66;03m# 創建 DataFrame 以便於查看\u001b[39;00m\n\u001b[0;32m     15\u001b[0m tagged_df \u001b[38;5;241m=\u001b[39m pd\u001b[38;5;241m.\u001b[39mDataFrame({\n\u001b[0;32m     16\u001b[0m     \u001b[38;5;124m\"\u001b[39m\u001b[38;5;124mOriginal Chinese Sentence\u001b[39m\u001b[38;5;124m\"\u001b[39m: ner_df[\u001b[38;5;124m'\u001b[39m\u001b[38;5;124mChinese Sentence\u001b[39m\u001b[38;5;124m'\u001b[39m],\n\u001b[0;32m     17\u001b[0m     \u001b[38;5;124m\"\u001b[39m\u001b[38;5;124mTagged Chinese Sentence\u001b[39m\u001b[38;5;124m\"\u001b[39m: tagged_chinese_sentences\n\u001b[0;32m     18\u001b[0m })\n",
      "Cell \u001b[1;32mIn[4], line 4\u001b[0m, in \u001b[0;36mreplace_with_tags\u001b[1;34m(tagged_words)\u001b[0m\n\u001b[0;32m      2\u001b[0m \u001b[38;5;28;01mdef\u001b[39;00m \u001b[38;5;21mreplace_with_tags\u001b[39m(tagged_words):\n\u001b[0;32m      3\u001b[0m     tagged_sentence \u001b[38;5;241m=\u001b[39m \u001b[38;5;124m\"\u001b[39m\u001b[38;5;124m\"\u001b[39m\n\u001b[1;32m----> 4\u001b[0m     \u001b[38;5;28;01mfor\u001b[39;00m word, tag \u001b[38;5;129;01min\u001b[39;00m tagged_words:\n\u001b[0;32m      5\u001b[0m         \u001b[38;5;28;01mif\u001b[39;00m tag \u001b[38;5;241m==\u001b[39m \u001b[38;5;124m'\u001b[39m\u001b[38;5;124mO\u001b[39m\u001b[38;5;124m'\u001b[39m:\n\u001b[0;32m      6\u001b[0m             tagged_sentence \u001b[38;5;241m+\u001b[39m\u001b[38;5;241m=\u001b[39m word \u001b[38;5;241m+\u001b[39m \u001b[38;5;124m\"\u001b[39m\u001b[38;5;124m \u001b[39m\u001b[38;5;124m\"\u001b[39m\n",
      "\u001b[1;31mValueError\u001b[0m: too many values to unpack (expected 2)"
     ]
    }
   ],
   "source": [
    "# 定義函數以用指定格式替換實體\n",
    "def replace_with_tags(tagged_words):\n",
    "    tagged_sentence = \"\"\n",
    "    for word, tag in tagged_words:\n",
    "        if tag == 'O':\n",
    "            tagged_sentence += word + \" \"\n",
    "        else:\n",
    "            tagged_sentence += f\"<\\\\{tag}, {word}> \"\n",
    "    return tagged_sentence\n",
    "\n",
    "# 替換中文句子的標籤\n",
    "tagged_chinese_sentences = [replace_with_tags(tagged_words) for tagged_words in chinese_ner_results]\n",
    "\n",
    "# 創建 DataFrame 以便於查看\n",
    "tagged_df = pd.DataFrame({\n",
    "    \"Original Chinese Sentence\": ner_df['Chinese Sentence'],\n",
    "    \"Tagged Chinese Sentence\": tagged_chinese_sentences\n",
    "})\n",
    "\n",
    "# 顯示結果\n",
    "print(tagged_df.head())\n",
    "\n",
    "# 保存替換後的 NER 標記結果到 CSV 文件\n",
    "tagged_df.to_csv(r\"C:\\Users\\USER\\Downloads\\NLP-Courses\\NLP243\\Projects\\Temp_iwslt2017_tagged_sentences.csv\", index=False, encoding='utf-8-sig')\n"
   ]
  },
  {
   "cell_type": "code",
   "execution_count": null,
   "id": "0c2dbddb-8b17-4821-aa00-92a5336c162c",
   "metadata": {},
   "outputs": [],
   "source": []
  }
 ],
 "metadata": {
  "kernelspec": {
   "display_name": "pytorch",
   "language": "python",
   "name": "pytorch"
  },
  "language_info": {
   "codemirror_mode": {
    "name": "ipython",
    "version": 3
   },
   "file_extension": ".py",
   "mimetype": "text/x-python",
   "name": "python",
   "nbconvert_exporter": "python",
   "pygments_lexer": "ipython3",
   "version": "3.8.19"
  }
 },
 "nbformat": 4,
 "nbformat_minor": 5
}
