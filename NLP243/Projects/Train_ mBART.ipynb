{
 "cells": [
  {
   "cell_type": "code",
   "execution_count": null,
   "id": "259b1bc3-82cd-4e16-abf4-40c31aac18a5",
   "metadata": {},
   "outputs": [],
   "source": [
    "from datasets import load_dataset\n",
    "from transformers import MBartForConditionalGeneration, MBart50Tokenizer\n",
    "import torch\n",
    "\n",
    "# 載入 IWSLT 2017 英中翻譯資料集\n",
    "dataset = load_dataset('iwslt2017', 'iwslt2017-en-zh', split='train', trust_remote_code=True)\n",
    "\n",
    "# 載入 mBART 模型和 Tokenizer\n",
    "model_name = \"facebook/mbart-large-50-many-to-many-mmt\"\n",
    "tokenizer = MBart50Tokenizer.from_pretrained(model_name)\n",
    "model = MBartForConditionalGeneration.from_pretrained(model_name)\n",
    "\n",
    "# 設定源語言和目標語言\n",
    "tokenizer.src_lang = \"en_XX\"  # 英文\n",
    "tokenizer.tgt_lang = \"zh_CN\"  # 簡體中文\n"
   ]
  },
  {
   "cell_type": "code",
   "execution_count": null,
   "id": "9ca9ef88-af15-40cc-84a1-be068734ba64",
   "metadata": {},
   "outputs": [],
   "source": [
    "def preprocess_function(examples):\n",
    "    inputs = [ex[\"en\"] for ex in examples[\"translation\"]]\n",
    "    targets = [ex[\"zh\"] for ex in examples[\"translation\"]]\n",
    "    \n",
    "    # Tokenize 輸入和標籤\n",
    "    model_inputs = tokenizer(inputs, max_length=128, truncation=True, padding=\"max_length\")\n",
    "    labels = tokenizer(targets, max_length=128, truncation=True, padding=\"max_length\")\n",
    "    \n",
    "    # 將標籤添加到模型輸入中\n",
    "    model_inputs[\"labels\"] = labels[\"input_ids\"]\n",
    "    return model_inputs\n",
    "\n",
    "# 對數據集進行 Tokenize\n",
    "tokenized_dataset = dataset.map(preprocess_function, batched=True)\n"
   ]
  },
  {
   "cell_type": "code",
   "execution_count": null,
   "id": "69b1384c-ae39-470e-9b00-098c798c4bd3",
   "metadata": {},
   "outputs": [],
   "source": [
    "from transformers import Seq2SeqTrainer, Seq2SeqTrainingArguments\n",
    "\n",
    "# 設置訓練參數\n",
    "training_args = Seq2SeqTrainingArguments(\n",
    "    output_dir=\"./mbart_finetuned\",\n",
    "    evaluation_strategy=\"epoch\",\n",
    "    learning_rate=2e-5,\n",
    "    per_device_train_batch_size=4,\n",
    "    per_device_eval_batch_size=4,\n",
    "    weight_decay=0.01,\n",
    "    save_total_limit=3,\n",
    "    num_train_epochs=3,\n",
    "    predict_with_generate=True,\n",
    "    logging_dir='./logs',\n",
    ")\n",
    "\n",
    "# 將數據集劃分為訓練集和驗證集\n",
    "train_size = 0.9  # 使用90%的數據訓練\n",
    "train_test_split = tokenized_dataset.train_test_split(test_size=1-train_size)\n",
    "train_dataset = train_test_split[\"train\"]\n",
    "eval_dataset = train_test_split[\"test\"]\n",
    "\n",
    "# 初始化 Trainer\n",
    "trainer = Seq2SeqTrainer(\n",
    "    model=model,\n",
    "    args=training_args,\n",
    "    train_dataset=train_dataset,\n",
    "    eval_dataset=eval_dataset,\n",
    "    tokenizer=tokenizer,\n",
    ")\n",
    "\n",
    "# 開始訓練\n",
    "trainer.train()\n"
   ]
  },
  {
   "cell_type": "code",
   "execution_count": null,
   "id": "f5dd7b0d-a1d7-46c5-a3e1-94c2ea9fdf6d",
   "metadata": {},
   "outputs": [],
   "source": [
    "# 評估模型\n",
    "results = trainer.evaluate()\n",
    "print(\"Evaluation results:\", results)\n",
    "\n",
    "# 保存模型和 Tokenizer\n",
    "trainer.save_model(\"./mbart_finetuned\")\n",
    "tokenizer.save_pretrained(\"./mbart_finetuned\")\n"
   ]
  }
 ],
 "metadata": {
  "kernelspec": {
   "display_name": "pytorch",
   "language": "python",
   "name": "pytorch"
  },
  "language_info": {
   "codemirror_mode": {
    "name": "ipython",
    "version": 3
   },
   "file_extension": ".py",
   "mimetype": "text/x-python",
   "name": "python",
   "nbconvert_exporter": "python",
   "pygments_lexer": "ipython3",
   "version": "3.8.19"
  }
 },
 "nbformat": 4,
 "nbformat_minor": 5
}
