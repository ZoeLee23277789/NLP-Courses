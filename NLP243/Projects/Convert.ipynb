{
 "cells": [
  {
   "cell_type": "code",
   "execution_count": 3,
   "id": "45eddf21-226b-4c9a-a6eb-aa1bdb1be85c",
   "metadata": {},
   "outputs": [
    {
     "name": "stdout",
     "output_type": "stream",
     "text": [
      "轉換的 CSV 檔案路徑: ['./test.csv', './valid.csv', './train.csv']\n"
     ]
    }
   ],
   "source": [
    "import pandas as pd\n",
    "import os\n",
    "\n",
    "# 使用相對路徑的檔案路徑\n",
    "file_paths = [\n",
    "    \"./test.parquet\",\n",
    "    \"./valid.parquet\",\n",
    "    \"./train.parquet\"\n",
    "]\n",
    "\n",
    "# 轉換每個 parquet 檔案到 CSV，並使用相同檔名\n",
    "csv_paths = []\n",
    "for file_path in file_paths:\n",
    "    # 讀取 parquet 檔案\n",
    "    df = pd.read_parquet(file_path)\n",
    "    \n",
    "    # 提取原來的檔名並更改副檔名為 .csv\n",
    "    base_name = os.path.basename(file_path).replace(\".parquet\", \".csv\")\n",
    "    csv_path = f\"./{base_name}\"  # 儲存在相同目錄下\n",
    "    \n",
    "    # 儲存為 CSV 檔案\n",
    "    df.to_csv(csv_path, index=False)\n",
    "    csv_paths.append(csv_path)\n",
    "\n",
    "print(\"轉換的 CSV 檔案路徑:\", csv_paths)\n"
   ]
  },
  {
   "cell_type": "code",
   "execution_count": null,
   "id": "d3d0aa13-4f78-4671-8e66-391e9d2b970e",
   "metadata": {},
   "outputs": [],
   "source": []
  },
  {
   "cell_type": "code",
   "execution_count": null,
   "id": "3615495e-4b2e-4333-b9ae-bf8338caa94f",
   "metadata": {},
   "outputs": [],
   "source": []
  }
 ],
 "metadata": {
  "kernelspec": {
   "display_name": "pytorch",
   "language": "python",
   "name": "pytorch"
  },
  "language_info": {
   "codemirror_mode": {
    "name": "ipython",
    "version": 3
   },
   "file_extension": ".py",
   "mimetype": "text/x-python",
   "name": "python",
   "nbconvert_exporter": "python",
   "pygments_lexer": "ipython3",
   "version": "3.8.19"
  }
 },
 "nbformat": 4,
 "nbformat_minor": 5
}
