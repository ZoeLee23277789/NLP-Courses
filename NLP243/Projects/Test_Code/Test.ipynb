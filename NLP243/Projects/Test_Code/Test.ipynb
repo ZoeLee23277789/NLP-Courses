{
 "cells": [
  {
   "cell_type": "code",
   "execution_count": 1,
   "id": "643e1e47-9148-43b1-acc0-637a58502195",
   "metadata": {},
   "outputs": [],
   "source": [
    "# import sentencepiece as spm\n",
    "# spm.SentencePieceTrainer.train(input='train.en', model_prefix='spm', vocab_size=32000)\n"
   ]
  },
  {
   "cell_type": "code",
   "execution_count": 2,
   "id": "ab42c691-42fd-401b-b411-f8d65e1bf31a",
   "metadata": {},
   "outputs": [],
   "source": [
    "# import sentencepiece as spm\n",
    "\n",
    "# # 訓練 SentencePiece 模型\n",
    "# spm.SentencePieceTrainer.Train('--input=data/iwslt14.tokenized.en-zh.en --model_prefix=m --vocab_size=16000')\n",
    "\n",
    "# # 加載並分割句子\n",
    "# sp = spm.SentencePieceProcessor(model_file='m.model')\n",
    "# tokenized_sentence = sp.encode(\"This is a sample sentence.\", out_type=str)\n"
   ]
  },
  {
   "cell_type": "code",
   "execution_count": null,
   "id": "66ef0237-150a-4088-b144-276693daf1bb",
   "metadata": {},
   "outputs": [],
   "source": []
  }
 ],
 "metadata": {
  "kernelspec": {
   "display_name": "pytorch",
   "language": "python",
   "name": "pytorch"
  },
  "language_info": {
   "codemirror_mode": {
    "name": "ipython",
    "version": 3
   },
   "file_extension": ".py",
   "mimetype": "text/x-python",
   "name": "python",
   "nbconvert_exporter": "python",
   "pygments_lexer": "ipython3",
   "version": "3.8.19"
  }
 },
 "nbformat": 4,
 "nbformat_minor": 5
}
