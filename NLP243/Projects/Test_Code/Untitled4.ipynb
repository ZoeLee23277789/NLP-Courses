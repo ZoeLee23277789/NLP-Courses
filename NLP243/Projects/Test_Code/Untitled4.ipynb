{
 "cells": [
  {
   "cell_type": "code",
   "execution_count": null,
   "id": "afac304f-3224-405e-b504-63a5129bf6b6",
   "metadata": {},
   "outputs": [],
   "source": [
    "from datasets import load_dataset\n",
    "import pandas as pd\n",
    "from transformers import pipeline\n",
    "from tqdm import tqdm\n",
    "\n",
    "# 使用 Hugging Face 的多語言 NER pipeline，載入 XLM-R 模型\n",
    "ner_pipeline = pipeline(\"ner\", model=\"xlm-roberta-large-finetuned-conll03-english\")\n",
    "\n",
    "# 使用 datasets 套件載入 IWSLT 2017 英中翻譯資料集，僅取前 2000 筆數據\n",
    "dataset = load_dataset('iwslt2017', 'iwslt2017-en-zh', split='train', trust_remote_code=True)\n",
    "\n",
    "# 提取中英文句子\n",
    "english_sentences = [example['translation']['en'] for example in dataset]\n",
    "chinese_sentences = [example['translation']['zh'] for example in dataset]\n",
    "\n",
    "# 進行英文命名實體識別\n",
    "english_ner_results = []\n",
    "for sentence in tqdm(english_sentences, desc=\"Processing English NER\"):\n",
    "    tagged_words = ner_pipeline(sentence)\n",
    "    english_ner_results.append(tagged_words)\n",
    "\n",
    "# 進行中文命名實體識別\n",
    "chinese_ner_results = []\n",
    "for sentence in tqdm(chinese_sentences, desc=\"Processing Chinese NER\"):\n",
    "    tagged_words = ner_pipeline(sentence)\n",
    "    chinese_ner_results.append(tagged_words)\n",
    "\n",
    "# 將結果轉換為 DataFrame 便於檢視\n",
    "ner_df = pd.DataFrame({\n",
    "    \"English Sentence\": english_sentences,\n",
    "    \"English NER Tagged\": english_ner_results,\n",
    "    \"Chinese Sentence\": chinese_sentences,\n",
    "    \"Chinese NER Tagged\": chinese_ner_results\n",
    "})\n",
    "\n",
    "# 保存 NER 標記結果到 CSV 文件\n",
    "ner_df.to_csv(r\"C:\\Users\\USER\\Downloads\\NLP-Courses\\NLP243\\Projects\\Test_tagged.csv\", index=False, encoding='utf-8-sig')\n"
   ]
  }
 ],
 "metadata": {
  "kernelspec": {
   "display_name": "pytorch",
   "language": "python",
   "name": "pytorch"
  },
  "language_info": {
   "codemirror_mode": {
    "name": "ipython",
    "version": 3
   },
   "file_extension": ".py",
   "mimetype": "text/x-python",
   "name": "python",
   "nbconvert_exporter": "python",
   "pygments_lexer": "ipython3",
   "version": "3.8.19"
  }
 },
 "nbformat": 4,
 "nbformat_minor": 5
}
