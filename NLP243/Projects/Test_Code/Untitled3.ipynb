{
 "cells": [
  {
   "cell_type": "code",
   "execution_count": 1,
   "id": "0b9c7dac-4a1b-4032-a3c2-8aa66ee1aa94",
   "metadata": {},
   "outputs": [
    {
     "name": "stderr",
     "output_type": "stream",
     "text": [
      "C:\\Users\\USER\\anaconda3\\envs\\pytorch\\lib\\site-packages\\tqdm\\auto.py:21: TqdmWarning: IProgress not found. Please update jupyter and ipywidgets. See https://ipywidgets.readthedocs.io/en/stable/user_install.html\n",
      "  from .autonotebook import tqdm as notebook_tqdm\n",
      "[nltk_data] Downloading package wordnet to\n",
      "[nltk_data]     C:\\Users\\USER\\AppData\\Roaming\\nltk_data...\n",
      "[nltk_data]   Package wordnet is already up-to-date!\n",
      "[nltk_data] Downloading package punkt_tab to\n",
      "[nltk_data]     C:\\Users\\USER\\AppData\\Roaming\\nltk_data...\n",
      "[nltk_data]   Package punkt_tab is already up-to-date!\n",
      "[nltk_data] Downloading package omw-1.4 to\n",
      "[nltk_data]     C:\\Users\\USER\\AppData\\Roaming\\nltk_data...\n",
      "[nltk_data]   Package omw-1.4 is already up-to-date!\n"
     ]
    },
    {
     "name": "stdout",
     "output_type": "stream",
     "text": [
      "Evaluating on Validation Set...\n"
     ]
    },
    {
     "name": "stderr",
     "output_type": "stream",
     "text": [
      "Processing Validation Set:   0%|                                                                | 0/10 [00:00<?, ?it/s]C:\\Users\\USER\\anaconda3\\envs\\pytorch\\lib\\site-packages\\transformers\\generation\\utils.py:1493: UserWarning: You have modified the pretrained model configuration to control generation. This is a deprecated strategy to control generation and will be removed in v5. Please use and modify the model generation configuration (see https://huggingface.co/docs/transformers/generation_strategies#default-text-generation-configuration )\n",
      "  warnings.warn(\n"
     ]
    },
    {
     "name": "stdout",
     "output_type": "stream",
     "text": [
      "Original Text: Last year I showed these two slides so that  demonstrate that the arctic ice cap,  which for most of the last three million years  has been the size of the lower 48 states,  has shrunk by 40 percent.\n",
      "\n",
      "Marked Text: <<DATE:Last year>> I showed these <<CARDINAL:two>> slides so that  demonstrate that <<LOC:the arctic ice cap>>,  which for most of <<DATE:the last three million years>>  has been the size of the lower <<CARDINAL:48>> states,  has shrunk by <<PERCENT:40 percent>>.\n",
      "Entities: [('Last year', 'DATE'), ('two', 'CARDINAL'), ('the arctic ice cap', 'LOC'), ('the last three million years', 'DATE'), ('48', 'CARDINAL'), ('40 percent', 'PERCENT')]\n",
      "\n"
     ]
    },
    {
     "name": "stderr",
     "output_type": "stream",
     "text": [
      "Processing Validation Set:  10%|█████▌                                                  | 1/10 [00:09<01:25,  9.46s/it]"
     ]
    },
    {
     "name": "stdout",
     "output_type": "stream",
     "text": [
      "Translated Text: “DATE:去年” 我展示了这两张“大陆”幻灯片, 说明着“洛克:北极的冰盖” 在“Date:过去300万年”大部分时间里都是 较小的“大陆48” 的大小, 缩小了40%。\n",
      "Reference Text: 去年我给各位展示了两个 关于北极冰帽的演示 在过去三百万年中 其面积由相当于美国南方48州面积总和 缩减了40%\n",
      "Translated Text: “DATE:去年” 我展示了这两张“大陆”幻灯片, 说明着“洛克:北极的冰盖” 在“Date:过去300万年”大部分时间里都是 较小的“大陆48” 的大小, 缩小了40%。\n",
      "==================================================\n",
      "Original Text: But this understates the seriousness of this particular problem  because it doesn't show the thickness of the ice.\n",
      "\n",
      "Marked Text: But this understates the seriousness of this particular problem  because it doesn't show the thickness of the ice.\n",
      "Entities: []\n",
      "\n"
     ]
    },
    {
     "name": "stderr",
     "output_type": "stream",
     "text": [
      "Processing Validation Set:  20%|███████████▏                                            | 2/10 [00:11<00:41,  5.17s/it]"
     ]
    },
    {
     "name": "stdout",
     "output_type": "stream",
     "text": [
      "Translated Text: 但这不足以说明这个问题的严重性, 因为它没有显示冰的厚度。\n",
      "Reference Text: 但这些没能完全说明这个问题的严重性 因为这没有表示出冰帽的厚度\n",
      "Translated Text: 但这不足以说明这个问题的严重性, 因为它没有显示冰的厚度。\n",
      "==================================================\n",
      "Original Text: The arctic ice cap is, in a sense,  the beating heart of the global climate system.\n",
      "\n",
      "Marked Text: The arctic ice cap is, in a sense,  the beating heart of the global climate system.\n",
      "Entities: []\n",
      "\n"
     ]
    },
    {
     "name": "stderr",
     "output_type": "stream",
     "text": [
      "Processing Validation Set:  30%|████████████████▊                                       | 3/10 [00:14<00:27,  3.91s/it]"
     ]
    },
    {
     "name": "stdout",
     "output_type": "stream",
     "text": [
      "Translated Text: 北极的冰盖,在某种意义上, 是全球气候系统的活跃中心。\n",
      "Reference Text: 感觉上，北极冰帽 就好象全球气候系统中跳动的心脏\n",
      "Translated Text: 北极的冰盖,在某种意义上, 是全球气候系统的活跃中心。\n",
      "==================================================\n",
      "Original Text: It expands in winter and contracts in summer.\n",
      "\n",
      "Marked Text: It expands in <<DATE:winter>> and contracts in <<DATE:summer>>.\n",
      "Entities: [('winter', 'DATE'), ('summer', 'DATE')]\n",
      "\n"
     ]
    },
    {
     "name": "stderr",
     "output_type": "stream",
     "text": [
      "Processing Validation Set:  40%|██████████████████████▍                                 | 4/10 [00:16<00:19,  3.29s/it]"
     ]
    },
    {
     "name": "stdout",
     "output_type": "stream",
     "text": [
      "Translated Text: 它在“DATE:冬天”中扩张, 然后在“DATE:夏天”中收缩。\n",
      "Reference Text: 冬天心脏舒张，夏天心脏收缩\n",
      "Translated Text: 它在“DATE:冬天”中扩张, 然后在“DATE:夏天”中收缩。\n",
      "==================================================\n",
      "Original Text: The next slide I show you will be  a rapid fast-forward of what's happened over the last 25 years.\n",
      "\n",
      "Marked Text: The next slide I show you will be  a rapid fast-forward of what's happened over <<DATE:the last 25 years>>.\n",
      "Entities: [('the last 25 years', 'DATE')]\n",
      "\n"
     ]
    },
    {
     "name": "stderr",
     "output_type": "stream",
     "text": [
      "Processing Validation Set:  50%|████████████████████████████                            | 5/10 [00:24<00:24,  4.85s/it]"
     ]
    },
    {
     "name": "stdout",
     "output_type": "stream",
     "text": [
      "Translated Text: 下一张幻灯片是关于过去25年发生的事的快速进度。 下一张幻灯片是关于过去25年发生的事的快速进度。 下一张幻灯片是关于过去25年发生的事的快速进度。 下一张幻灯片是关于过去25年发生的事的快速进度。\n",
      "Reference Text: 下面我要展示的是 在过去25年里的极剧变化\n",
      "Translated Text: 下一张幻灯片是关于过去25年发生的事的快速进度。 下一张幻灯片是关于过去25年发生的事的快速进度。 下一张幻灯片是关于过去25年发生的事的快速进度。 下一张幻灯片是关于过去25年发生的事的快速进度。\n",
      "==================================================\n",
      "Original Text: The permanent ice is marked in red.\n",
      "\n",
      "Marked Text: The permanent ice is marked in red.\n",
      "Entities: []\n",
      "\n"
     ]
    },
    {
     "name": "stderr",
     "output_type": "stream",
     "text": [
      "Processing Validation Set:  60%|█████████████████████████████████▌                      | 6/10 [00:25<00:14,  3.59s/it]"
     ]
    },
    {
     "name": "stdout",
     "output_type": "stream",
     "text": [
      "Translated Text: 永久的冰层以红色标记。\n",
      "Reference Text: 红色的是永冻冰\n",
      "Translated Text: 永久的冰层以红色标记。\n",
      "==================================================\n",
      "Original Text: As you see, it expands to the dark blue --  that's the annual ice in winter,  and it contracts in summer.\n",
      "\n",
      "Marked Text: As you see, it expands to the dark blue --  that's the annual ice in <<DATE:winter>>,  and it contracts in <<DATE:summer>>.\n",
      "Entities: [('winter', 'DATE'), ('summer', 'DATE')]\n",
      "\n"
     ]
    },
    {
     "name": "stderr",
     "output_type": "stream",
     "text": [
      "Processing Validation Set:  70%|███████████████████████████████████████▏                | 7/10 [00:33<00:15,  5.02s/it]"
     ]
    },
    {
     "name": "stdout",
     "output_type": "stream",
     "text": [
      "Translated Text: 正如你所看到的,它变为深蓝色, 那是在“DATE:winter”中的年冰, 在“DATE:winter”中的年冰, 它在“Date:winter”中的年冰, 它在“Date:winter”中的年冰, 它在“Date:winter”中的\n",
      "Reference Text: 你看，它正在变成深蓝色 这是每年冬天形成的年度冰 在夏天永冻冰收缩\n",
      "Translated Text: 正如你所看到的,它变为深蓝色, 那是在“DATE:winter”中的年冰, 在“DATE:winter”中的年冰, 它在“Date:winter”中的年冰, 它在“Date:winter”中的年冰, 它在“Date:winter”中的\n",
      "==================================================\n",
      "Original Text: The so-called permanent ice, five years old or older,  you can see is almost like blood,  spilling out of the body here.\n",
      "\n",
      "Marked Text: The so-called permanent ice, <<DATE:five years old>> or older,  you can see is almost like blood,  spilling out of the body here.\n",
      "Entities: [('five years old', 'DATE')]\n",
      "\n"
     ]
    },
    {
     "name": "stderr",
     "output_type": "stream",
     "text": [
      "Processing Validation Set:  80%|████████████████████████████████████████████▊           | 8/10 [00:35<00:08,  4.27s/it]"
     ]
    },
    {
     "name": "stdout",
     "output_type": "stream",
     "text": [
      "Translated Text: 所谓永久的冰层,或更老的冰层, 你们能看到的几乎就像血一般 从我们的身体里冒出来。\n",
      "Reference Text: 所谓的“永冻”，是指形成五年或更久的冰 你看，这也像血液一样 输送到身体各部位\n",
      "Translated Text: 所谓永久的冰层,或更老的冰层, 你们能看到的几乎就像血一般 从我们的身体里冒出来。\n",
      "==================================================\n",
      "Original Text: In 25 years it's gone from this, to this.\n",
      "\n",
      "Marked Text: In <<DATE:25 years>> it's gone from this, to this.\n",
      "Entities: [('25 years', 'DATE')]\n",
      "\n"
     ]
    },
    {
     "name": "stderr",
     "output_type": "stream",
     "text": [
      "Processing Validation Set:  90%|██████████████████████████████████████████████████▍     | 9/10 [00:37<00:03,  3.45s/it]"
     ]
    },
    {
     "name": "stdout",
     "output_type": "stream",
     "text": [
      "Translated Text: 在“DATE25年”里,它从这个变成了这个。\n",
      "Reference Text: 在25年的时间里，它从这里，到了这里\n",
      "Translated Text: 在“DATE25年”里,它从这个变成了这个。\n",
      "==================================================\n",
      "Original Text: This is a problem because the warming  heats up the frozen ground around the Arctic Ocean,  where there is a massive amount of frozen carbon  which, when it thaws, is turned into methane by microbes.\n",
      "\n",
      "Marked Text: This is a problem because the warming  heats up the frozen ground around <<LOC:the Arctic Ocean>>,  where there is a massive amount of frozen carbon  which, when it thaws, is turned into methane by microbes.\n",
      "Entities: [('the Arctic Ocean', 'LOC')]\n",
      "\n"
     ]
    },
    {
     "name": "stderr",
     "output_type": "stream",
     "text": [
      "Processing Validation Set: 100%|███████████████████████████████████████████████████████| 10/10 [00:42<00:00,  4.21s/it]"
     ]
    },
    {
     "name": "stdout",
     "output_type": "stream",
     "text": [
      "Translated Text: 这是一个问题,因为全球变暖加剧了 北冰洋附近冰层的温度, 那里有大量的冰冻碳, 当它融化后,由微生物 转化为甲烷。\n",
      "Reference Text: 值得注意的是 温室效应使得北冰洋周围的冻土层受热 而这里有大量被冻封的碳 解冻时，微生物降解碳形成甲烷\n",
      "Translated Text: 这是一个问题,因为全球变暖加剧了 北冰洋附近冰层的温度, 那里有大量的冰冻碳, 当它融化后,由微生物 转化为甲烷。\n",
      "==================================================\n"
     ]
    },
    {
     "name": "stderr",
     "output_type": "stream",
     "text": [
      "\n"
     ]
    },
    {
     "name": "stdout",
     "output_type": "stream",
     "text": [
      "Validation Set METEOR score: {'meteor': 0.005747126436781609}\n"
     ]
    }
   ],
   "source": [
    "from datasets import load_dataset\n",
    "from transformers import MBartForConditionalGeneration, MBart50Tokenizer\n",
    "import spacy\n",
    "import torch\n",
    "import evaluate\n",
    "from tqdm import tqdm\n",
    "import re\n",
    "\n",
    "# 加載 IWSLT 2017 英中翻譯資料集的驗證和測試集\n",
    "val_dataset = load_dataset('iwslt2017', 'iwslt2017-en-zh', split='validation[:10]', trust_remote_code=True)\n",
    "# test_dataset = load_dataset('iwslt2017', 'iwslt2017-en-zh', split='test[:10]', trust_remote_code=True)\n",
    "\n",
    "# 加載微調後的模型和 tokenizer\n",
    "model = MBartForConditionalGeneration.from_pretrained(\"./Weight/mbart_finetuned\")\n",
    "tokenizer = MBart50Tokenizer.from_pretrained(\"./Weight/mbart_finetuned\")\n",
    "\n",
    "\n",
    "# 設置源語言和目標語言\n",
    "tokenizer.src_lang = \"en_XX\"\n",
    "model.config.forced_bos_token_id = tokenizer.lang_code_to_id[\"zh_CN\"]\n",
    "\n",
    "# 加載 SpaCy 英文 NER 模型\n",
    "nlp = spacy.load(\"en_core_web_sm\")\n",
    "\n",
    "# METEOR 評估指標\n",
    "meteor_metric = evaluate.load(\"meteor\")\n",
    "\n",
    "# 步驟 1：實體標記和替換\n",
    "def mark_entities(text):\n",
    "    doc = nlp(text)\n",
    "    modified_text = text\n",
    "    entities = []\n",
    "    for ent in doc.ents:\n",
    "        entity_marker = f\"<<{ent.label_}:{ent.text}>>\"\n",
    "        modified_text = modified_text.replace(ent.text, entity_marker)\n",
    "        entities.append((ent.text, ent.label_))\n",
    "    return modified_text, entities\n",
    "\n",
    "\n",
    "# 步驟 2：翻譯帶有實體標記的句子，加入打印語句\n",
    "def translate_with_entities(text, max_length=80, length_penalty=1.2, num_beams=5):\n",
    "    marked_text, entities = mark_entities(text)\n",
    "    print(\"Original Text:\", text)\n",
    "    print(\"\")\n",
    "    print(\"Marked Text:\", marked_text)\n",
    "    print(\"Entities:\", entities)\n",
    "    print(\"\")\n",
    "    inputs = tokenizer(marked_text, return_tensors=\"pt\")\n",
    "    translated_tokens = model.generate(\n",
    "        inputs[\"input_ids\"],\n",
    "        max_length=max_length,\n",
    "        length_penalty=length_penalty,\n",
    "        num_beams=num_beams,\n",
    "        forced_bos_token_id=tokenizer.lang_code_to_id[\"zh_CN\"]\n",
    "    )\n",
    "    translated_text = tokenizer.decode(translated_tokens[0], skip_special_tokens=True)\n",
    "    print(\"Translated Text:\", translated_text)\n",
    "    # print(\"=\"*50)  # 分隔線便於區分不同句子的輸出\n",
    "\n",
    "    return translated_text, entities\n",
    "\n",
    "# 步驟 3：後處理還原實體\n",
    "def postprocess_translation(translated_text, entities):\n",
    "    for ent_text, ent_label in entities:\n",
    "        # 使用正則表達式來匹配標記，無論模型是否對標記進行了部分修改\n",
    "        entity_marker_pattern = re.escape(f\"<<{ent_label}:\") + r\"(.*?)>>\"\n",
    "        translated_text = re.sub(entity_marker_pattern, ent_text, translated_text)\n",
    "    return translated_text\n",
    "\n",
    "\n",
    "# 完整的 Entity-Aware 翻譯函數\n",
    "def entity_aware_translate(text):\n",
    "    translated_text, entities = translate_with_entities(text)\n",
    "    final_translation = postprocess_translation(translated_text, entities)\n",
    "    return final_translation\n",
    "\n",
    "\n",
    "# 評估 METEOR 分數\n",
    "def compute_meteor(predictions, references):\n",
    "    meteor_metric.add_batch(predictions=predictions, references=references)\n",
    "    result = meteor_metric.compute()\n",
    "    return result\n",
    "\n",
    "# 在驗證集上進行翻譯並計算 METEOR 分數\n",
    "print(\"Evaluating on Validation Set...\")\n",
    "val_predictions = []\n",
    "val_references = []\n",
    "for example in tqdm(val_dataset, desc=\"Processing Validation Set\"):\n",
    "    input_text = example[\"translation\"][\"en\"]\n",
    "    reference_text = example[\"translation\"][\"zh\"]\n",
    "    final_translation = entity_aware_translate(input_text)\n",
    "    print(\"Reference Text:\", reference_text)\n",
    "    print(\"Translated Text:\", final_translation)\n",
    "    print(\"=\" * 50)\n",
    "    val_predictions.append(final_translation)\n",
    "    val_references.append([reference_text])  # METEOR 要求 reference 為列表\n",
    "\n",
    "val_meteor_score = compute_meteor(val_predictions, val_references)\n",
    "print(\"Validation Set METEOR score:\", val_meteor_score)\n",
    "\n"
   ]
  },
  {
   "cell_type": "code",
   "execution_count": 7,
   "id": "88a03d9a-9e5a-4042-896d-303c12dc931e",
   "metadata": {},
   "outputs": [
    {
     "name": "stderr",
     "output_type": "stream",
     "text": [
      "Processing Validation Set:   0%|                                                                | 0/10 [00:00<?, ?it/s]"
     ]
    },
    {
     "name": "stdout",
     "output_type": "stream",
     "text": [
      "Original English Text: Last year I showed these two slides so that  demonstrate that the arctic ice cap,  which for most of the last three million years  has been the size of the lower 48 states,  has shrunk by 40 percent.\n",
      "Original Text: Last year I showed these two slides so that  demonstrate that the arctic ice cap,  which for most of the last three million years  has been the size of the lower 48 states,  has shrunk by 40 percent.\n",
      "\n",
      "Marked Text: <<DATE:Last year>> I showed these <<CARDINAL:two>> slides so that  demonstrate that <<LOC:the arctic ice cap>>,  which for most of <<DATE:the last three million years>>  has been the size of the lower <<CARDINAL:48>> states,  has shrunk by <<PERCENT:40 percent>>.\n",
      "Entities: [('Last year', 'DATE'), ('two', 'CARDINAL'), ('the arctic ice cap', 'LOC'), ('the last three million years', 'DATE'), ('48', 'CARDINAL'), ('40 percent', 'PERCENT')]\n",
      "\n"
     ]
    },
    {
     "name": "stderr",
     "output_type": "stream",
     "text": [
      "Processing Validation Set:  10%|█████▌                                                  | 1/10 [00:05<00:51,  5.74s/it]"
     ]
    },
    {
     "name": "stdout",
     "output_type": "stream",
     "text": [
      "Translated Text: “DATE:去年” 我展示了这两张“大陆”幻灯片, 说明着“洛克:北极的冰盖” 在“Date:过去300万年”大部分时间里都是 较小的“大陆48” 的大小, 缩小了40%。\n",
      "Reference Text: 去年我给各位展示了两个 关于北极冰帽的演示 在过去三百万年中 其面积由相当于美国南方48州面积总和 缩减了40%\n",
      "Translated Text: “DATE:去年” 我展示了这两张“大陆”幻灯片, 说明着“洛克:北极的冰盖” 在“Date:过去300万年”大部分时间里都是 较小的“大陆48” 的大小, 缩小了40%。\n",
      "==================================================\n",
      "Original English Text: But this understates the seriousness of this particular problem  because it doesn't show the thickness of the ice.\n",
      "Original Text: But this understates the seriousness of this particular problem  because it doesn't show the thickness of the ice.\n",
      "\n",
      "Marked Text: But this understates the seriousness of this particular problem  because it doesn't show the thickness of the ice.\n",
      "Entities: []\n",
      "\n"
     ]
    },
    {
     "name": "stderr",
     "output_type": "stream",
     "text": [
      "Processing Validation Set:  20%|███████████▏                                            | 2/10 [00:07<00:26,  3.36s/it]"
     ]
    },
    {
     "name": "stdout",
     "output_type": "stream",
     "text": [
      "Translated Text: 但这不足以说明这个问题的严重性, 因为它没有显示冰的厚度。\n",
      "Reference Text: 但这些没能完全说明这个问题的严重性 因为这没有表示出冰帽的厚度\n",
      "Translated Text: 但这不足以说明这个问题的严重性, 因为它没有显示冰的厚度。\n",
      "==================================================\n",
      "Original English Text: The arctic ice cap is, in a sense,  the beating heart of the global climate system.\n",
      "Original Text: The arctic ice cap is, in a sense,  the beating heart of the global climate system.\n",
      "\n",
      "Marked Text: The arctic ice cap is, in a sense,  the beating heart of the global climate system.\n",
      "Entities: []\n",
      "\n"
     ]
    },
    {
     "name": "stderr",
     "output_type": "stream",
     "text": [
      "Processing Validation Set:  30%|████████████████▊                                       | 3/10 [00:09<00:18,  2.70s/it]"
     ]
    },
    {
     "name": "stdout",
     "output_type": "stream",
     "text": [
      "Translated Text: 北极的冰盖,在某种意义上, 是全球气候系统的活跃中心。\n",
      "Reference Text: 感觉上，北极冰帽 就好象全球气候系统中跳动的心脏\n",
      "Translated Text: 北极的冰盖,在某种意义上, 是全球气候系统的活跃中心。\n",
      "==================================================\n",
      "Original English Text: It expands in winter and contracts in summer.\n",
      "Original Text: It expands in winter and contracts in summer.\n",
      "\n",
      "Marked Text: It expands in <<DATE:winter>> and contracts in <<DATE:summer>>.\n",
      "Entities: [('winter', 'DATE'), ('summer', 'DATE')]\n",
      "\n"
     ]
    },
    {
     "name": "stderr",
     "output_type": "stream",
     "text": [
      "Processing Validation Set:  40%|██████████████████████▍                                 | 4/10 [00:11<00:14,  2.47s/it]"
     ]
    },
    {
     "name": "stdout",
     "output_type": "stream",
     "text": [
      "Translated Text: 它在“DATE:冬天”中扩张, 然后在“DATE:夏天”中收缩。\n",
      "Reference Text: 冬天心脏舒张，夏天心脏收缩\n",
      "Translated Text: 它在“DATE:冬天”中扩张, 然后在“DATE:夏天”中收缩。\n",
      "==================================================\n",
      "Original English Text: The next slide I show you will be  a rapid fast-forward of what's happened over the last 25 years.\n",
      "Original Text: The next slide I show you will be  a rapid fast-forward of what's happened over the last 25 years.\n",
      "\n",
      "Marked Text: The next slide I show you will be  a rapid fast-forward of what's happened over <<DATE:the last 25 years>>.\n",
      "Entities: [('the last 25 years', 'DATE')]\n",
      "\n"
     ]
    },
    {
     "name": "stderr",
     "output_type": "stream",
     "text": [
      "Processing Validation Set:  50%|████████████████████████████                            | 5/10 [00:17<00:19,  3.81s/it]"
     ]
    },
    {
     "name": "stdout",
     "output_type": "stream",
     "text": [
      "Translated Text: 下一张幻灯片是关于过去25年发生的事的快速进度。 下一张幻灯片是关于过去25年发生的事的快速进度。 下一张幻灯片是关于过去25年发生的事的快速进度。 下一张幻灯片是关于过去25年发生的事的快速进度。\n",
      "Reference Text: 下面我要展示的是 在过去25年里的极剧变化\n",
      "Translated Text: 下一张幻灯片是关于过去25年发生的事的快速进度。 下一张幻灯片是关于过去25年发生的事的快速进度。 下一张幻灯片是关于过去25年发生的事的快速进度。 下一张幻灯片是关于过去25年发生的事的快速进度。\n",
      "==================================================\n",
      "Original English Text: The permanent ice is marked in red.\n",
      "Original Text: The permanent ice is marked in red.\n",
      "\n",
      "Marked Text: The permanent ice is marked in red.\n",
      "Entities: []\n",
      "\n"
     ]
    },
    {
     "name": "stderr",
     "output_type": "stream",
     "text": [
      "Processing Validation Set:  60%|█████████████████████████████████▌                      | 6/10 [00:18<00:11,  2.88s/it]"
     ]
    },
    {
     "name": "stdout",
     "output_type": "stream",
     "text": [
      "Translated Text: 永久的冰层以红色标记。\n",
      "Reference Text: 红色的是永冻冰\n",
      "Translated Text: 永久的冰层以红色标记。\n",
      "==================================================\n",
      "Original English Text: As you see, it expands to the dark blue --  that's the annual ice in winter,  and it contracts in summer.\n",
      "Original Text: As you see, it expands to the dark blue --  that's the annual ice in winter,  and it contracts in summer.\n",
      "\n",
      "Marked Text: As you see, it expands to the dark blue --  that's the annual ice in <<DATE:winter>>,  and it contracts in <<DATE:summer>>.\n",
      "Entities: [('winter', 'DATE'), ('summer', 'DATE')]\n",
      "\n"
     ]
    },
    {
     "name": "stderr",
     "output_type": "stream",
     "text": [
      "Processing Validation Set:  70%|███████████████████████████████████████▏                | 7/10 [00:24<00:11,  3.94s/it]"
     ]
    },
    {
     "name": "stdout",
     "output_type": "stream",
     "text": [
      "Translated Text: 正如你所看到的,它变为深蓝色, 那是在“DATE:winter”中的年冰, 在“DATE:winter”中的年冰, 它在“Date:winter”中的年冰, 它在“Date:winter”中的年冰, 它在“Date:winter”中的\n",
      "Reference Text: 你看，它正在变成深蓝色 这是每年冬天形成的年度冰 在夏天永冻冰收缩\n",
      "Translated Text: 正如你所看到的,它变为深蓝色, 那是在“DATE:winter”中的年冰, 在“DATE:winter”中的年冰, 它在“Date:winter”中的年冰, 它在“Date:winter”中的年冰, 它在“Date:winter”中的\n",
      "==================================================\n",
      "Original English Text: The so-called permanent ice, five years old or older,  you can see is almost like blood,  spilling out of the body here.\n",
      "Original Text: The so-called permanent ice, five years old or older,  you can see is almost like blood,  spilling out of the body here.\n",
      "\n",
      "Marked Text: The so-called permanent ice, <<DATE:five years old>> or older,  you can see is almost like blood,  spilling out of the body here.\n",
      "Entities: [('five years old', 'DATE')]\n",
      "\n"
     ]
    },
    {
     "name": "stderr",
     "output_type": "stream",
     "text": [
      "Processing Validation Set:  80%|████████████████████████████████████████████▊           | 8/10 [00:27<00:06,  3.45s/it]"
     ]
    },
    {
     "name": "stdout",
     "output_type": "stream",
     "text": [
      "Translated Text: 所谓永久的冰层,或更老的冰层, 你们能看到的几乎就像血一般 从我们的身体里冒出来。\n",
      "Reference Text: 所谓的“永冻”，是指形成五年或更久的冰 你看，这也像血液一样 输送到身体各部位\n",
      "Translated Text: 所谓永久的冰层,或更老的冰层, 你们能看到的几乎就像血一般 从我们的身体里冒出来。\n",
      "==================================================\n",
      "Original English Text: In 25 years it's gone from this, to this.\n",
      "Original Text: In 25 years it's gone from this, to this.\n",
      "\n",
      "Marked Text: In <<DATE:25 years>> it's gone from this, to this.\n",
      "Entities: [('25 years', 'DATE')]\n",
      "\n"
     ]
    },
    {
     "name": "stderr",
     "output_type": "stream",
     "text": [
      "Processing Validation Set:  90%|██████████████████████████████████████████████████▍     | 9/10 [00:28<00:02,  2.81s/it]"
     ]
    },
    {
     "name": "stdout",
     "output_type": "stream",
     "text": [
      "Translated Text: 在“DATE25年”里,它从这个变成了这个。\n",
      "Reference Text: 在25年的时间里，它从这里，到了这里\n",
      "Translated Text: 在“DATE25年”里,它从这个变成了这个。\n",
      "==================================================\n",
      "Original English Text: This is a problem because the warming  heats up the frozen ground around the Arctic Ocean,  where there is a massive amount of frozen carbon  which, when it thaws, is turned into methane by microbes.\n",
      "Original Text: This is a problem because the warming  heats up the frozen ground around the Arctic Ocean,  where there is a massive amount of frozen carbon  which, when it thaws, is turned into methane by microbes.\n",
      "\n",
      "Marked Text: This is a problem because the warming  heats up the frozen ground around <<LOC:the Arctic Ocean>>,  where there is a massive amount of frozen carbon  which, when it thaws, is turned into methane by microbes.\n",
      "Entities: [('the Arctic Ocean', 'LOC')]\n",
      "\n"
     ]
    },
    {
     "name": "stderr",
     "output_type": "stream",
     "text": [
      "Processing Validation Set: 100%|███████████████████████████████████████████████████████| 10/10 [00:32<00:00,  3.29s/it]"
     ]
    },
    {
     "name": "stdout",
     "output_type": "stream",
     "text": [
      "Translated Text: 这是一个问题,因为全球变暖加剧了 北冰洋附近冰层的温度, 那里有大量的冰冻碳, 当它融化后,由微生物 转化为甲烷。\n",
      "Reference Text: 值得注意的是 温室效应使得北冰洋周围的冻土层受热 而这里有大量被冻封的碳 解冻时，微生物降解碳形成甲烷\n",
      "Translated Text: 这是一个问题,因为全球变暖加剧了 北冰洋附近冰层的温度, 那里有大量的冰冻碳, 当它融化后,由微生物 转化为甲烷。\n",
      "==================================================\n"
     ]
    },
    {
     "name": "stderr",
     "output_type": "stream",
     "text": [
      "\n"
     ]
    },
    {
     "ename": "NameError",
     "evalue": "name 'bleu_metric' is not defined",
     "output_type": "error",
     "traceback": [
      "\u001b[1;31m---------------------------------------------------------------------------\u001b[0m",
      "\u001b[1;31mNameError\u001b[0m                                 Traceback (most recent call last)",
      "Cell \u001b[1;32mIn[7], line 38\u001b[0m\n\u001b[0;32m     35\u001b[0m     \u001b[38;5;28mprint\u001b[39m(\u001b[38;5;124m\"\u001b[39m\u001b[38;5;124mEntity Preservation Score:\u001b[39m\u001b[38;5;124m\"\u001b[39m, entity_preservation_score)\n\u001b[0;32m     37\u001b[0m \u001b[38;5;66;03m# Execute validation\u001b[39;00m\n\u001b[1;32m---> 38\u001b[0m \u001b[43mevaluate_model\u001b[49m\u001b[43m(\u001b[49m\u001b[43mval_dataset\u001b[49m\u001b[43m)\u001b[49m\n",
      "Cell \u001b[1;32mIn[7], line 28\u001b[0m, in \u001b[0;36mevaluate_model\u001b[1;34m(val_dataset)\u001b[0m\n\u001b[0;32m     26\u001b[0m \u001b[38;5;66;03m# Calculate METEOR and BLEU scores\u001b[39;00m\n\u001b[0;32m     27\u001b[0m val_meteor_score \u001b[38;5;241m=\u001b[39m meteor_metric\u001b[38;5;241m.\u001b[39mcompute(predictions\u001b[38;5;241m=\u001b[39mval_predictions, references\u001b[38;5;241m=\u001b[39mval_references)\n\u001b[1;32m---> 28\u001b[0m val_bleu_score \u001b[38;5;241m=\u001b[39m \u001b[43mbleu_metric\u001b[49m\u001b[38;5;241m.\u001b[39mcompute(predictions\u001b[38;5;241m=\u001b[39mval_predictions, references\u001b[38;5;241m=\u001b[39mval_references)\n\u001b[0;32m     30\u001b[0m \u001b[38;5;66;03m# Calculate Entity Preservation Score\u001b[39;00m\n\u001b[0;32m     31\u001b[0m entity_preservation_score \u001b[38;5;241m=\u001b[39m calculate_entity_preservation(val_predictions, val_references, entity_list)\n",
      "\u001b[1;31mNameError\u001b[0m: name 'bleu_metric' is not defined"
     ]
    }
   ],
   "source": [
    "# Enhanced Validation Function\n",
    "def evaluate_model(val_dataset):\n",
    "    val_predictions = []\n",
    "    val_references = []\n",
    "    entity_list = []\n",
    "    \n",
    "    for example in tqdm(val_dataset, desc=\"Processing Validation Set\"):\n",
    "        input_text = example[\"translation\"][\"en\"]\n",
    "        reference_text = example[\"translation\"][\"zh\"]\n",
    "        \n",
    "        # Show original English text\n",
    "        print(\"Original English Text:\", input_text)\n",
    "        \n",
    "        # Translation with entities marked\n",
    "        final_translation = entity_aware_translate(input_text)\n",
    "        print(\"Reference Text:\", reference_text)\n",
    "        print(\"Translated Text:\", final_translation)\n",
    "        print(\"=\" * 50)\n",
    "        \n",
    "        # Append translations and references\n",
    "        val_predictions.append(final_translation)\n",
    "        val_references.append([reference_text])\n",
    "        _, entities = mark_entities(input_text)  # Get entities for preservation check\n",
    "        entity_list.append(entities)\n",
    "    \n",
    "    # Calculate METEOR and BLEU scores\n",
    "    val_meteor_score = meteor_metric.compute(predictions=val_predictions, references=val_references)\n",
    "    val_bleu_score = bleu_metric.compute(predictions=val_predictions, references=val_references)\n",
    "    \n",
    "    # Calculate Entity Preservation Score\n",
    "    entity_preservation_score = calculate_entity_preservation(val_predictions, val_references, entity_list)\n",
    "    \n",
    "    print(\"Validation Set METEOR score:\", val_meteor_score)\n",
    "    print(\"Validation Set BLEU score:\", val_bleu_score)\n",
    "    print(\"Entity Preservation Score:\", entity_preservation_score)\n",
    "\n",
    "# Execute validation\n",
    "evaluate_model(val_dataset)\n"
   ]
  },
  {
   "cell_type": "code",
   "execution_count": 6,
   "id": "1af8e5f0-4ce6-4177-be04-b679a06e8ef7",
   "metadata": {},
   "outputs": [
    {
     "data": {
      "image/png": "[encoded data removed]",
      "text/plain": [
       "<Figure size 1000x700 with 1 Axes>"
      ]
     },
     "metadata": {},
     "output_type": "display_data"
    }
   ],
   "source": [
    "import matplotlib.pyplot as plt\n",
    "import matplotlib.patches as mpatches\n",
    "from matplotlib.sankey import Sankey\n",
    "\n",
    "# Create figure and axes\n",
    "fig, ax = plt.subplots(figsize=(10, 7))\n",
    "\n",
    "# Define text for each step in the flowchart\n",
    "texts = [\n",
    "    \"Start\",\n",
    "    \"Load English Text\",\n",
    "    \"Entity Recognition (Using SpaCy)\",\n",
    "    \"Mark Entities with Placeholders\",\n",
    "    \"Translate Marked Text (Using mBART)\",\n",
    "    \"Post-process Translation (Replace Placeholders)\",\n",
    "    \"Output Final Translation\"\n",
    "]\n",
    "\n",
    "# Define the positions for each text box\n",
    "positions = [\n",
    "    (0.5, 0.9),  # Start\n",
    "    (0.5, 0.8),  # Load English Text\n",
    "    (0.5, 0.7),  # Entity Recognition (Using SpaCy)\n",
    "    (0.5, 0.6),  # Mark Entities with Placeholders\n",
    "    (0.5, 0.5),  # Translate Marked Text (Using mBART)\n",
    "    (0.5, 0.4),  # Post-process Translation\n",
    "    (0.5, 0.3)   # Output Final Translation\n",
    "]\n",
    "\n",
    "# Plot text boxes for each step\n",
    "for i, (text, pos) in enumerate(zip(texts, positions)):\n",
    "    ax.text(pos[0], pos[1], text, ha=\"center\", va=\"center\", \n",
    "            bbox=dict(facecolor=\"skyblue\" if i % 2 == 0 else \"lightgreen\", alpha=0.5, boxstyle=\"round,pad=0.5\"))\n",
    "\n",
    "# Define arrows between steps\n",
    "arrow_props = dict(facecolor='gray', edgecolor='black', width=0.005, headwidth=8, headlength=10)\n",
    "for i in range(len(positions) - 1):\n",
    "    start_pos = positions[i]\n",
    "    end_pos = positions[i + 1]\n",
    "    ax.annotate(\"\", xy=end_pos, xytext=start_pos, arrowprops=arrow_props)\n",
    "\n",
    "# Hide axes for clarity\n",
    "ax.axis(\"off\")\n",
    "\n",
    "# Show the flowchart\n",
    "plt.show()\n"
   ]
  },
  {
   "cell_type": "code",
   "execution_count": null,
   "id": "16cddc6c-fd8a-4bd7-ae6b-fd38b52aa7cd",
   "metadata": {},
   "outputs": [],
   "source": []
  }
 ],
 "metadata": {
  "kernelspec": {
   "display_name": "pytorch",
   "language": "python",
   "name": "pytorch"
  },
  "language_info": {
   "codemirror_mode": {
    "name": "ipython",
    "version": 3
   },
   "file_extension": ".py",
   "mimetype": "text/x-python",
   "name": "python",
   "nbconvert_exporter": "python",
   "pygments_lexer": "ipython3",
   "version": "3.8.19"
  }
 },
 "nbformat": 4,
 "nbformat_minor": 5
}
