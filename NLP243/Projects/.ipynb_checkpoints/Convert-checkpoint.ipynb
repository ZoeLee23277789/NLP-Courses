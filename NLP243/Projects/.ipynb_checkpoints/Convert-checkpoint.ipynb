{
 "cells": [
  {
   "cell_type": "code",
   "execution_count": 3,
   "id": "d3d0aa13-4f78-4671-8e66-391e9d2b970e",
   "metadata": {},
   "outputs": [
    {
     "data": {
      "text/plain": [
       "['C:\\\\Users\\\\USER\\\\Downloads\\\\NLP-Courses\\\\NLP243\\\\Projects\\\\converted_file_1.csv',\n",
       " 'C:\\\\Users\\\\USER\\\\Downloads\\\\NLP-Courses\\\\NLP243\\\\Projects\\\\converted_file_2.csv',\n",
       " 'C:\\\\Users\\\\USER\\\\Downloads\\\\NLP-Courses\\\\NLP243\\\\Projects\\\\converted_file_3.csv']"
      ]
     },
     "execution_count": 3,
     "metadata": {},
     "output_type": "execute_result"
    }
   ],
   "source": [
    "import pandas as pd\n",
    "\n",
    "# 檔案的絕對路徑\n",
    "file_paths = [\n",
    "    r\"C:\\Users\\USER\\Downloads\\NLP-Courses\\NLP243\\Projects\\test.parquet\",\n",
    "    r\"C:\\Users\\USER\\Downloads\\NLP-Courses\\NLP243\\Projects\\valid.parquet\",\n",
    "    r\"C:\\Users\\USER\\Downloads\\NLP-Courses\\NLP243\\Projects\\train.parquet\"\n",
    "]\n",
    "\n",
    "# 轉換每個 parquet 檔案到 CSV\n",
    "csv_paths = []\n",
    "for i, file_path in enumerate(file_paths):\n",
    "    df = pd.read_parquet(file_path)\n",
    "    csv_path = f\"C:\\\\Users\\\\USER\\\\Downloads\\\\NLP-Courses\\\\NLP243\\\\Projects\\\\converted_file_{i+1}.csv\"\n",
    "    df.to_csv(csv_path, index=False)\n",
    "    csv_paths.append(csv_path)\n",
    "\n",
    "csv_paths\n"
   ]
  },
  {
   "cell_type": "code",
   "execution_count": null,
   "id": "45eddf21-226b-4c9a-a6eb-aa1bdb1be85c",
   "metadata": {},
   "outputs": [],
   "source": []
  },
  {
   "cell_type": "code",
   "execution_count": null,
   "id": "3615495e-4b2e-4333-b9ae-bf8338caa94f",
   "metadata": {},
   "outputs": [],
   "source": []
  }
 ],
 "metadata": {
  "kernelspec": {
   "display_name": "pytorch",
   "language": "python",
   "name": "pytorch"
  },
  "language_info": {
   "codemirror_mode": {
    "name": "ipython",
    "version": 3
   },
   "file_extension": ".py",
   "mimetype": "text/x-python",
   "name": "python",
   "nbconvert_exporter": "python",
   "pygments_lexer": "ipython3",
   "version": "3.8.19"
  }
 },
 "nbformat": 4,
 "nbformat_minor": 5
}
