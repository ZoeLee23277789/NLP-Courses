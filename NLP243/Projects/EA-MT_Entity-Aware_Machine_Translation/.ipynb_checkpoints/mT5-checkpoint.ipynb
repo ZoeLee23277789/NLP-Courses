{
 "cells": [
  {
   "cell_type": "markdown",
   "id": "5c4afa01-7164-42ae-a2ff-1d1a96032434",
   "metadata": {
    "jp-MarkdownHeadingCollapsed": true
   },
   "source": [
    "# Helsinki-NLP"
   ]
  },
  {
   "cell_type": "code",
   "execution_count": 10,
   "id": "3edf1c7a-fa3b-4800-abfe-6f0906e5e62c",
   "metadata": {
    "scrolled": true
   },
   "outputs": [
    {
     "name": "stderr",
     "output_type": "stream",
     "text": [
      "[nltk_data] Downloading package wordnet to\n",
      "[nltk_data]     C:\\Users\\USER\\AppData\\Roaming\\nltk_data...\n",
      "[nltk_data]   Package wordnet is already up-to-date!\n",
      "[nltk_data] Downloading package punkt_tab to\n",
      "[nltk_data]     C:\\Users\\USER\\AppData\\Roaming\\nltk_data...\n",
      "[nltk_data]   Package punkt_tab is already up-to-date!\n",
      "[nltk_data] Downloading package omw-1.4 to\n",
      "[nltk_data]     C:\\Users\\USER\\AppData\\Roaming\\nltk_data...\n",
      "[nltk_data]   Package omw-1.4 is already up-to-date!\n",
      "Processing Validation Set:  10%|█████▌                                                  | 1/10 [00:01<00:14,  1.63s/it]"
     ]
    },
    {
     "name": "stdout",
     "output_type": "stream",
     "text": [
      "Original English Text: Several years ago here at TED, Peter Skillman  introduced a design challenge  called the marshmallow challenge.\n",
      "Reference Text: 几年前，在TED大会上， Peter Skillman 介绍了一个设计挑战 叫做“棉花糖挑战”\n",
      "Translated Text: 几年前在rTED这里, rPeter Skillman介绍了一个设计挑战, 叫做棉花糖挑战。\n",
      "==================================================\n"
     ]
    },
    {
     "name": "stderr",
     "output_type": "stream",
     "text": [
      "Processing Validation Set:  20%|███████████▏                                            | 2/10 [00:02<00:09,  1.13s/it]"
     ]
    },
    {
     "name": "stdout",
     "output_type": "stream",
     "text": [
      "Original English Text: And the idea's pretty simple:  Teams of four have to build the tallest free-standing structure  out of 20 sticks of spaghetti,  one yard of tape, one yard of string  and a marshmallow.\n",
      "Reference Text: 是个非常简单的主意 要求一组四人的团队搭建一个独立的最高建筑 材料是20根意大利面条 一段胶带，一段绳子 一块棉花糖\n",
      "Translated Text: 这个想法很简单:四人小组必须从r20根意大利面条、一院带子、一院绳子和棉花糖中 建立最高标准的独立结构。\n",
      "==================================================\n"
     ]
    },
    {
     "name": "stderr",
     "output_type": "stream",
     "text": [
      "Processing Validation Set:  30%|████████████████▊                                       | 3/10 [00:02<00:05,  1.25it/s]"
     ]
    },
    {
     "name": "stdout",
     "output_type": "stream",
     "text": [
      "Original English Text: The marshmallow has to be on top.\n",
      "Reference Text: 棉花糖必须放在最上面\n",
      "Translated Text: 棉花糖必须在上面\n",
      "==================================================\n"
     ]
    },
    {
     "name": "stderr",
     "output_type": "stream",
     "text": [
      "Processing Validation Set:  40%|██████████████████████▍                                 | 4/10 [00:05<00:08,  1.40s/it]"
     ]
    },
    {
     "name": "stdout",
     "output_type": "stream",
     "text": [
      "Original English Text: And, though it seems really simple, it's actually pretty hard  because it forces people  to collaborate very quickly.\n",
      "Reference Text: 这虽然看似简单，其实并不容易 因为它要求人们 迅速地合作\n",
      "Translated Text: 而且,虽然这看起来很简单, 但其实是相当困难的, 因为它迫使人们迅速合作。\n",
      "==================================================\n"
     ]
    },
    {
     "name": "stderr",
     "output_type": "stream",
     "text": [
      "Processing Validation Set:  50%|████████████████████████████                            | 5/10 [00:05<00:05,  1.11s/it]"
     ]
    },
    {
     "name": "stdout",
     "output_type": "stream",
     "text": [
      "Original English Text: And so, I thought this was an interesting idea,  and I incorporated it into a design workshop.\n",
      "Reference Text: 我觉得这是个有趣的主意 我把它放到了设计专题讨论会上\n",
      "Translated Text: 所以,我认为这是一个有趣的想法, 我把它纳入了一个设计研讨会。\n",
      "==================================================\n"
     ]
    },
    {
     "name": "stderr",
     "output_type": "stream",
     "text": [
      "Processing Validation Set:  60%|█████████████████████████████████▌                      | 6/10 [00:06<00:03,  1.16it/s]"
     ]
    },
    {
     "name": "stdout",
     "output_type": "stream",
     "text": [
      "Original English Text: And it was a huge success.\n",
      "Reference Text: 结果非常成功\n",
      "Translated Text: 这是一个巨大的成功。\n",
      "==================================================\n"
     ]
    },
    {
     "name": "stderr",
     "output_type": "stream",
     "text": [
      "Processing Validation Set:  70%|███████████████████████████████████████▏                | 7/10 [00:07<00:02,  1.12it/s]"
     ]
    },
    {
     "name": "stdout",
     "output_type": "stream",
     "text": [
      "Original English Text: And since then, I've conducted  about 70 design workshops across the world  with students and designers and architects,  even the CTOs of the Fortune 50,  and there's something about this exercise  that reveals very deep lessons  about the nature of collaboration,  and I'd like to share some of them with you.\n",
      "Reference Text: 从那以后， 我在全球 70多个设计专题讨论活动中 让学生们和设计者，建筑师 甚至财富50强的首席技术官 这个练习在很多方面给了我们 深刻的启迪 教会我们合作的特性 在这里我跟你们分享一些\n",
      "Translated Text: 从那时起,我在世界各地举办了70个设计讲习班, 学生、设计师和建筑师, 甚至《财富50》的CTO, 这个练习中有些东西揭示了 合作性质的深刻教训, 我想和你们分享其中的一些。\n",
      "==================================================\n"
     ]
    },
    {
     "name": "stderr",
     "output_type": "stream",
     "text": [
      "Processing Validation Set:  80%|████████████████████████████████████████████▊           | 8/10 [00:12<00:04,  2.36s/it]"
     ]
    },
    {
     "name": "stdout",
     "output_type": "stream",
     "text": [
      "Original English Text: So, normally, most people begin  by orienting themselves to the task.\n",
      "Reference Text: 通常， 人们总是从 讨论开始着手完成这个任务\n",
      "Translated Text: 所以,通常,大多数人 都从引导自己去完成这项任务开始。\n",
      "==================================================\n"
     ]
    },
    {
     "name": "stderr",
     "output_type": "stream",
     "text": [
      "Processing Validation Set:  90%|██████████████████████████████████████████████████▍     | 9/10 [00:13<00:01,  1.78s/it]"
     ]
    },
    {
     "name": "stdout",
     "output_type": "stream",
     "text": [
      "Original English Text: They talk about it, they figure out what it's going to look like,  they jockey for power.\n",
      "Reference Text: 他们讨论一阵， 勾勒出结果会是什么样子 他们互相争论一番对错\n",
      "Translated Text: 他们谈论它,他们弄清楚 它会是什么样子, 他们骑的动力。\n",
      "==================================================\n"
     ]
    },
    {
     "name": "stderr",
     "output_type": "stream",
     "text": [
      "Processing Validation Set: 100%|███████████████████████████████████████████████████████| 10/10 [00:13<00:00,  1.39s/it]"
     ]
    },
    {
     "name": "stdout",
     "output_type": "stream",
     "text": [
      "Original English Text: Then they spend some time planning, organizing,  they sketch and they lay out spaghetti.\n",
      "Reference Text: 然后花费点时间计划，组织 他们画一下图纸然后拿出意大利面条\n",
      "Translated Text: 然后,他们花一些时间 规划,组织, 草图,他们放出意大利面条。\n",
      "==================================================\n"
     ]
    },
    {
     "name": "stderr",
     "output_type": "stream",
     "text": [
      "\n"
     ]
    },
    {
     "name": "stdout",
     "output_type": "stream",
     "text": [
      "Validation Set METEOR score: {'meteor': 0.0}\n",
      "Validation Set BLEU score: {'bleu': 0.0, 'precisions': [0.0, 0.0, 0.0, 0.0], 'brevity_penalty': 1.0, 'length_ratio': 1.7058823529411764, 'translation_length': 58, 'reference_length': 34}\n",
      "Validation Set ROUGE score: {'rouge1': 0.11333333333333333, 'rouge2': 0.06666666666666667, 'rougeL': 0.11333333333333333, 'rougeLsum': 0.11333333333333333}\n"
     ]
    }
   ],
   "source": [
    "from transformers import MarianMTModel, MarianTokenizer\n",
    "import spacy\n",
    "from datasets import load_dataset\n",
    "import torch\n",
    "import warnings\n",
    "from tqdm import tqdm\n",
    "import evaluate\n",
    "import re\n",
    "\n",
    "warnings.filterwarnings(\"ignore\")\n",
    "\n",
    "# 設定設備\n",
    "device = torch.device(\"cuda\" if torch.cuda.is_available() else \"cpu\")\n",
    "\n",
    "# 載入 SpaCy NER 模型\n",
    "nlp = spacy.load(\"en_core_web_trf\")\n",
    "\n",
    "# 載入 IWSLT 2017 英中翻譯資料集\n",
    "dataset = load_dataset('iwslt2017', 'iwslt2017-en-zh', split='test[:10]', trust_remote_code=True)\n",
    "\n",
    "# 使用 Helsinki-NLP 的英翻中模型\n",
    "model_name = \"Helsinki-NLP/opus-mt-en-zh\"\n",
    "tokenizer = MarianTokenizer.from_pretrained(model_name)\n",
    "model = MarianMTModel.from_pretrained(model_name).to(device)\n",
    "\n",
    "# 實體識別和標記的函數，不替換文本，僅保存實體位置信息\n",
    "def mark_entities(text):\n",
    "    doc = nlp(text)\n",
    "    entities = []\n",
    "    for ent in doc.ents:\n",
    "        entities.append((ent.text, ent.label_))\n",
    "    return text, entities\n",
    "\n",
    "# 後處理實體標記\n",
    "def postprocess_translation(translated_text, entities):\n",
    "    for ent_text, ent_label in entities:\n",
    "        # 添加實體標記周圍的文本，根據需要修改格式\n",
    "        entity_marker = f\"r{ent_text}\"  # 或使用 \"《{}》\".format(ent_text) 來加強顯示\n",
    "        translated_text = translated_text.replace(ent_text, entity_marker)\n",
    "    return translated_text\n",
    "\n",
    "# 使用已訓練好的模型進行翻譯\n",
    "def entity_aware_translate(input_text):\n",
    "    # 先獲取實體位置信息，然後去標記翻譯\n",
    "    clean_text, entities = mark_entities(input_text)\n",
    "    inputs = tokenizer(clean_text, return_tensors=\"pt\").to(device)\n",
    "    translated_tokens = model.generate(\n",
    "        inputs[\"input_ids\"],\n",
    "        max_length=256,\n",
    "        num_beams=5,\n",
    "        temperature=0.7,\n",
    "        top_k=50,\n",
    "        top_p=0.95\n",
    "    )\n",
    "    translated_text = tokenizer.decode(translated_tokens[0], skip_special_tokens=True)\n",
    "    # 在翻譯文本中還原實體\n",
    "    final_translation = postprocess_translation(translated_text, entities)\n",
    "    return final_translation\n",
    "\n",
    "# 計算 BLEU, METEOR 和 ROUGE 分數\n",
    "meteor_metric = evaluate.load(\"meteor\")\n",
    "bleu_metric = evaluate.load(\"bleu\")\n",
    "rouge_metric = evaluate.load(\"rouge\")\n",
    "\n",
    "def evaluate_model(dataset):\n",
    "    val_predictions = []\n",
    "    val_references = []\n",
    "    for example in tqdm(dataset, desc=\"Processing Validation Set\"):\n",
    "        input_text = example[\"translation\"][\"en\"]\n",
    "        reference_text = example[\"translation\"][\"zh\"]\n",
    "        \n",
    "        # 進行翻譯\n",
    "        final_translation = entity_aware_translate(input_text)\n",
    "        val_predictions.append(final_translation)\n",
    "        val_references.append([reference_text])\n",
    "        \n",
    "        # 顯示翻譯結果\n",
    "        print(\"Original English Text:\", input_text)\n",
    "        print(\"Reference Text:\", reference_text)\n",
    "        print(\"Translated Text:\", final_translation)\n",
    "        print(\"=\" * 50)\n",
    "    \n",
    "    # 計算 METEOR 和 BLEU 分數\n",
    "    val_meteor_score = meteor_metric.compute(predictions=val_predictions, references=val_references)\n",
    "    val_bleu_score = bleu_metric.compute(predictions=val_predictions, references=val_references)\n",
    "    val_rouge_score = rouge_metric.compute(predictions=val_predictions, references=val_references)\n",
    "    \n",
    "    print(\"Validation Set METEOR score:\", val_meteor_score)\n",
    "    print(\"Validation Set BLEU score:\", val_bleu_score)\n",
    "    print(\"Validation Set ROUGE score:\", val_rouge_score)\n",
    "\n",
    "# 執行評估\n",
    "evaluate_model(dataset)\n",
    "\n"
   ]
  },
  {
   "cell_type": "markdown",
   "id": "af750324-b9f3-43e9-9af5-480ec11f0bda",
   "metadata": {
    "jp-MarkdownHeadingCollapsed": true
   },
   "source": [
    "# mt5"
   ]
  },
  {
   "cell_type": "code",
   "execution_count": 1,
   "id": "09b0c181-325f-41de-a353-c359896c7474",
   "metadata": {},
   "outputs": [
    {
     "name": "stderr",
     "output_type": "stream",
     "text": [
      "C:\\Users\\USER\\anaconda3\\envs\\pytorch\\lib\\site-packages\\tqdm\\auto.py:21: TqdmWarning: IProgress not found. Please update jupyter and ipywidgets. See https://ipywidgets.readthedocs.io/en/stable/user_install.html\n",
      "  from .autonotebook import tqdm as notebook_tqdm\n"
     ]
    },
    {
     "name": "stdout",
     "output_type": "stream",
     "text": [
      "cuda\n"
     ]
    },
    {
     "name": "stderr",
     "output_type": "stream",
     "text": [
      "You are using the default legacy behaviour of the <class 'transformers.models.t5.tokenization_t5.T5Tokenizer'>. This is expected, and simply means that the `legacy` (previous) behavior will be used so nothing changes for you. If you want to use the new behaviour, set `legacy=False`. This should only be set if you understand what it means, and thoroughly read the reason why this was added as explained in https://github.com/huggingface/transformers/pull/24565\n",
      "[nltk_data] Downloading package wordnet to\n",
      "[nltk_data]     C:\\Users\\USER\\AppData\\Roaming\\nltk_data...\n",
      "[nltk_data]   Package wordnet is already up-to-date!\n",
      "[nltk_data] Downloading package punkt_tab to\n",
      "[nltk_data]     C:\\Users\\USER\\AppData\\Roaming\\nltk_data...\n",
      "[nltk_data]   Package punkt_tab is already up-to-date!\n",
      "[nltk_data] Downloading package omw-1.4 to\n",
      "[nltk_data]     C:\\Users\\USER\\AppData\\Roaming\\nltk_data...\n",
      "[nltk_data]   Package omw-1.4 is already up-to-date!\n",
      "Processing Validation Set:  10%|█████▌                                                  | 1/10 [00:12<01:53, 12.61s/it]"
     ]
    },
    {
     "name": "stdout",
     "output_type": "stream",
     "text": [
      "Original English Text: Several years ago here at TED, Peter Skillman  introduced a design challenge  called the marshmallow challenge.\n",
      "Reference Text: 几年前，在TED大会上， Peter Skillman 介绍了一个设计挑战 叫做“棉花糖挑战”\n",
      "Translated Text: <extra_id_0> translate 《English》: The marshmallow challenge <extra_id_1> translate 《English》: The marshmallow challenge at 《TED》 <extra_id_2> translate 《English》: The marshmallow challenge at 《TED》 <extra_id_3> translate 《English》: The marshmallow challenge at 《TED》 <extra_id_4> translate 《English》: The marshmallow challenge at 《TED》 <extra_id_5>  <extra_id_6> 《English》: The marshmallow challenge at 《TED》 <extra_id_7>  <extra_id_8> 《English》: The marshmallow challenge <extra_id_9> 《English》: The marshmallow challenge <extra_id_10> 《English》: <extra_id_11> 《English》 <extra_id_12> 《English》 <extra_id_13> 《English》 <extra_id_14> 《English》: <extra_id_15> 《English》 <extra_id_16> 《English》: <extra_id_17> 《English》: <extra_id_18> 《English》: <extra_id_19> 《English》: <extra_id_20> 《English》: <extra_id_21> 《English》: <extra_id_22> 《English》:\n",
      "==================================================\n"
     ]
    },
    {
     "name": "stderr",
     "output_type": "stream",
     "text": [
      "Processing Validation Set:  20%|███████████▏                                            | 2/10 [00:27<01:52, 14.11s/it]"
     ]
    },
    {
     "name": "stdout",
     "output_type": "stream",
     "text": [
      "Original English Text: And the idea's pretty simple:  Teams of four have to build the tallest free-standing structure  out of 20 sticks of spaghetti,  one yard of tape, one yard of string  and a marshmallow.\n",
      "Reference Text: 是个非常简单的主意 要求一组四人的团队搭建一个独立的最高建筑 材料是20根意大利面条 一段胶带，一段绳子 一块棉花糖\n",
      "Translated Text: <extra_id_0> translate 《English》: And the idea's pretty simple:  <extra_id_1> translate 《English》:  <extra_id_2> translate 《English》: And the idea's pretty simple:  <extra_id_3> translate 《English》: And the idea's pretty simple:  <extra_id_14> translate 《English》: And the idea's pretty simple:  <extra_id_15> translate <extra_id_16>:  <extra_id_17>  <extra_id_18>  <extra_id_19>  <extra_id_《20》>  <extra_id_21>  <extra_id_22>  <extra_id_23> . .  <extra_id_24> . .  <extra_id_25> . .  <extra_id_26> . .  <extra_id_27>  <extra_id_28> . .  <extra_id_29> . .  <extra_id_30> . .  <extra_id_31> . .  <extra_id_32> . .  <extra_id_33> . .  <extra_id_34> . .  <extra_id_35>  <extra_id_36> . .  <extra_id_37> . .  <extra_id_38> . .  <extra_id_39>  <extra_id_40>  <extra_id_41>  <extra_id_42> . .  <extra_id_43> . .  <extra_id_39>  <extra_id_40>  <extra_id_41>  <extra_id_42>  <extra_id_43>  <extra_id_44>  <extra_id_50> . . .  <extra_id_39>\n",
      "==================================================\n"
     ]
    },
    {
     "name": "stderr",
     "output_type": "stream",
     "text": [
      "Processing Validation Set:  30%|████████████████▊                                       | 3/10 [00:38<01:29, 12.76s/it]"
     ]
    },
    {
     "name": "stdout",
     "output_type": "stream",
     "text": [
      "Original English Text: The marshmallow has to be on top.\n",
      "Reference Text: 棉花糖必须放在最上面\n",
      "Translated Text: <extra_id_0>: The marshmallow has to be on top. The marshmallow has to be on top <extra_id_1>: The marshmallow has to be on top <extra_id_2>: The marshmallow has to be on top <extra_id_3>: The marshmallow has to be on top <extra_id_4>: The marshmallow has to be on top <extra_id_5>: The marshmallow has to be on top <extra_id_6>: The marshmallow has to be on top <extra_id_17>: <extra_id_18>: <extra_id_19>: <extra_id_20>: <extra_id_21>: <extra_id_22>: <extra_id_23>: The marshmallow has to be on top <extra_id_24>: The marshmallow has to be on top <extra_id_25>: The marshmallow has to be on top\n",
      "==================================================\n"
     ]
    },
    {
     "name": "stderr",
     "output_type": "stream",
     "text": [
      "Processing Validation Set:  40%|██████████████████████▍                                 | 4/10 [00:52<01:18, 13.00s/it]"
     ]
    },
    {
     "name": "stdout",
     "output_type": "stream",
     "text": [
      "Original English Text: And, though it seems really simple, it's actually pretty hard  because it forces people  to collaborate very quickly.\n",
      "Reference Text: 这虽然看似简单，其实并不容易 因为它要求人们 迅速地合作\n",
      "Translated Text: <extra_id_0>: How to <extra_id_1> 《English》 to 《Chinese》: How to translate 《English》 to 《Chinese》: How to translate 《English》 to 《Chinese》: How to translate 《English》 to 《Chinese》: How to translate 《English》 to 《Chinese》: How to translate 《English》 to 《Chinese》: How to translate 《English》 to 《Chinese》: How to translate 《English》 to 《Chinese》: How to translate 《English》 to 《Chinese》: How to translate <extra_id_2>: How to <extra_id_3>: How to <extra_id_14>: <extra_id_15>: How to <extra_id_16>: <extra_id_17>: <extra_id_18>: <extra_id_19>: How to <extra_id_20>: How to <extra_id_21>: How to <extra_id_22>: How to <extra_id_23>: How to <extra_id_24>: How to <extra_id_25>: How to <extra_id_26>: How to <extra_id_27>: How to <extra_id_28>: How to\n",
      "==================================================\n"
     ]
    },
    {
     "name": "stderr",
     "output_type": "stream",
     "text": [
      "Processing Validation Set:  50%|████████████████████████████                            | 5/10 [01:03<01:01, 12.29s/it]"
     ]
    },
    {
     "name": "stdout",
     "output_type": "stream",
     "text": [
      "Original English Text: And so, I thought this was an interesting idea,  and I incorporated it into a design workshop.\n",
      "Reference Text: 我觉得这是个有趣的主意 我把它放到了设计专题讨论会上\n",
      "Translated Text: <extra_id_0>.  <extra_id_1>.  <extra_id_2>. . .  <extra_id_3>. . .  <extra_id_4>. . .  <extra_id_5>. . .  <extra_id_6>. . .  <extra_id_7>. . .  <extra_id_8>. . .  <extra_id_9>. . .  <extra_id_10>. . .  <extra_id_11>. .  <extra_id_12>. .  <extra_id_13>.  <extra_id_14>. .  <extra_id_15>.  <extra_id_16>.  <extra_id_17>.  <extra_id_18>.  <extra_id_19>.  <extra_id_20>. .  <extra_id_21>.  <extra_id_22>.  <extra_id_23>.  <extra_id_24>.  <extra_id_25>.  <extra_id_26>.  <extra_id_27>.  <extra_id_28>.  <extra_id_29>.  <extra_id_30>.  <extra_id_31>.  <extra_id_32>.  <extra_id_33>.\n",
      "==================================================\n"
     ]
    },
    {
     "name": "stderr",
     "output_type": "stream",
     "text": [
      "Processing Validation Set:  60%|█████████████████████████████████▌                      | 6/10 [01:12<00:44, 11.21s/it]"
     ]
    },
    {
     "name": "stdout",
     "output_type": "stream",
     "text": [
      "Original English Text: And it was a huge success.\n",
      "Reference Text: 结果非常成功\n",
      "Translated Text: <extra_id_0> 《English》 to 《Chinese》: And it was huge success. <extra_id_1> 《English》 to 《Chinese》: And it was huge success. <extra_id_2> 《English》 to 《Chinese》: And it was huge success. <extra_id_3> 《English》 to 《Chinese》: And it was huge success. <extra_id_14> 《English》 to 《Chinese》: And it was huge success. <extra_id_15> 《English》 to 《Chinese》: And it was huge success <extra_id_16> 《English》 to <extra_id_17>: <extra_id_18>: <extra_id_19>: <extra_id_20>: <extra_id_21>: <extra_id_22>: <extra_id_23>: <extra_id_24>: <extra_id_25>: <extra_id_26>: <extra_id_27>: <extra_id_28>: <extra_id_29>: And it was huge success <extra_id_30>: And it was huge success <extra_id_31>: And it was\n",
      "==================================================\n"
     ]
    },
    {
     "name": "stderr",
     "output_type": "stream",
     "text": [
      "Processing Validation Set:  70%|███████████████████████████████████████▏                | 7/10 [01:24<00:34, 11.37s/it]"
     ]
    },
    {
     "name": "stdout",
     "output_type": "stream",
     "text": [
      "Original English Text: And since then, I've conducted  about 70 design workshops across the world  with students and designers and architects,  even the CTOs of the Fortune 50,  and there's something about this exercise  that reveals very deep lessons  about the nature of collaboration,  and I'd like to share some of them with you.\n",
      "Reference Text: 从那以后， 我在全球 70多个设计专题讨论活动中 让学生们和设计者，建筑师 甚至财富50强的首席技术官 这个练习在很多方面给了我们 深刻的启迪 教会我们合作的特性 在这里我跟你们分享一些\n",
      "Translated Text: <extra_id_0> you.  <extra_id_1> you.  <extra_id_2> you.  <extra_id_3> you. . .  <extra_id_4> you. . .  <extra_id_5> you. . .  <extra_id_6> you. . .  <extra_id_17> you. . .  <extra_id_18> you. .  <extra_id_19> you.  <extra_id_20> you.  <extra_id_21> you. .  <extra_id_22> you.  <extra_id_23> you.  <extra_id_24> you.  <extra_id_25> you. . .  <extra_id_26> you. .  <extra_id_27> you. .  <extra_id_28> you. .  <extra_id_29> you. . .  <extra_id_30> you. .  <extra_id_31> you. .  <extra_id_32> you.  <extra_id_33> you.  <extra_id_34> you. .  <extra_id_35> you. .  <extra_id_36> you. .  <extra_id_37> you\n",
      "==================================================\n"
     ]
    },
    {
     "name": "stderr",
     "output_type": "stream",
     "text": [
      "Processing Validation Set:  80%|████████████████████████████████████████████▊           | 8/10 [01:33<00:21, 10.84s/it]"
     ]
    },
    {
     "name": "stdout",
     "output_type": "stream",
     "text": [
      "Original English Text: So, normally, most people begin  by orienting themselves to the task.\n",
      "Reference Text: 通常， 人们总是从 讨论开始着手完成这个任务\n",
      "Translated Text: <extra_id_0> to 《Chinese》: So, normally most people begin by orienting themselves to the task. <extra_id_1> to 《Chinese》: So, normally most people begin by orienting themselves to the task. <extra_id_2> to 《Chinese》: So, normally most people begin by orienting themselves to the task <extra_id_3> to 《Chinese》: So <extra_id_4> to 《Chinese》: So <extra_id_5> to 《Chinese》:  <extra_id_6> to 《Chinese》:  <extra_id_7> to 《Chinese》:  <extra_id_8> to 《Chinese》:  <extra_id_9> to 《Chinese》:  <extra_id_10> to 《Chinese》:  <extra_id_11> to 《Chinese》 <extra_id_27> to 《Chinese》:  <extra_id_28> to 《Chinese》:  <extra_id_29>\n",
      "==================================================\n"
     ]
    },
    {
     "name": "stderr",
     "output_type": "stream",
     "text": [
      "Processing Validation Set:  90%|██████████████████████████████████████████████████▍     | 9/10 [01:42<00:10, 10.02s/it]"
     ]
    },
    {
     "name": "stdout",
     "output_type": "stream",
     "text": [
      "Original English Text: They talk about it, they figure out what it's going to look like,  they jockey for power.\n",
      "Reference Text: 他们讨论一阵， 勾勒出结果会是什么样子 他们互相争论一番对错\n",
      "Translated Text: <extra_id_0> 《English》 to 《Chinese》: They talk about it, they talk about it, they jockey for power. They talk about it, they talk about it, they jockey for power <extra_id_1> 《English》 to 《Chinese》: They translate 《English》 to 《Chinese》: They translate 《English》 to 《Chinese》: <extra_id_2> 《English》 to 《Chinese》: They translate 《English》 to 《Chinese》: They <extra_id_3> 《English》 to 《Chinese》: They translate <extra_id_4> 《English》 to 《Chinese》: They translate 《English》 to 《Chinese》: They <extra_id_5> 《English》 <extra_id_25> 《Chinese》: <extra_id_26> 《Chinese》 <extra_id_55>\n",
      "==================================================\n"
     ]
    },
    {
     "name": "stderr",
     "output_type": "stream",
     "text": [
      "Processing Validation Set: 100%|███████████████████████████████████████████████████████| 10/10 [01:54<00:00, 11.40s/it]"
     ]
    },
    {
     "name": "stdout",
     "output_type": "stream",
     "text": [
      "Original English Text: Then they spend some time planning, organizing,  they sketch and they lay out spaghetti.\n",
      "Reference Text: 然后花费点时间计划，组织 他们画一下图纸然后拿出意大利面条\n",
      "Translated Text: <extra_id_0> translate 《English》: Then they spend some time planning, organizing, organizing and they sketch and they lay out spaghetti. Then they spend some time planning, organizing.  <extra_id_15> translate 《English》:  <extra_id_16>:  <extra_id_17>:  <extra_id_18>:  <extra_id_19>:  <extra_id_20>:  <extra_id_21>:  <extra_id_22>:  <extra_id_23>:  <extra_id_18>:  <extra_id_19>:  <extra_id_20>:  <extra_id_21>:  <extra_id_22>:  <extra_id_23>:  <extra_id_24>:  <extra_id_25>:  <extra_id_26>:  <extra_id_27>:  <extra_id_28>:  <extra_id_29>:  <extra_id_30>: Then they spend some time planning, organizing, they sketch and spaghetti.  <extra_id_31>:  <extra_id_32>:  <extra_id_33>:  <extra_id_34>:  <extra_id_35>:  <extra_id_36>:  <extra_id_37>:  <extra_id_38>:\n",
      "==================================================\n"
     ]
    },
    {
     "name": "stderr",
     "output_type": "stream",
     "text": [
      "\n"
     ]
    },
    {
     "name": "stdout",
     "output_type": "stream",
     "text": [
      "Validation Set METEOR score: {'meteor': 0.0}\n",
      "Validation Set BLEU score: {'bleu': 0.0, 'precisions': [0.0, 0.0, 0.0, 0.0], 'brevity_penalty': 1.0, 'length_ratio': 73.29411764705883, 'translation_length': 2492, 'reference_length': 34}\n",
      "Validation Set ROUGE score: {'rouge1': 0.002749719416386083, 'rouge2': 0.0, 'rougeL': 0.002749719416386083, 'rougeLsum': 0.002749719416386083}\n"
     ]
    }
   ],
   "source": [
    "from transformers import MT5ForConditionalGeneration, MT5Tokenizer\n",
    "import spacy\n",
    "from datasets import load_dataset\n",
    "import torch\n",
    "import warnings\n",
    "from tqdm import tqdm\n",
    "import evaluate\n",
    "import re\n",
    "\n",
    "warnings.filterwarnings(\"ignore\")\n",
    "\n",
    "# 設定設備\n",
    "device = torch.device(\"cuda\" if torch.cuda.is_available() else \"cpu\")\n",
    "print(device)\n",
    "# 載入 SpaCy NER 模型\n",
    "nlp = spacy.load(\"en_core_web_trf\")\n",
    "\n",
    "# 載入 IWSLT 2017 英中翻譯資料集\n",
    "dataset = load_dataset('iwslt2017', 'iwslt2017-en-zh', split='test[:10]', trust_remote_code=True)\n",
    "\n",
    "# 使用 mT5-XXL 的模型和 Tokenizer\n",
    "model_name = \"google/mt5-large\"\n",
    "tokenizer = MT5Tokenizer.from_pretrained(model_name)\n",
    "model = MT5ForConditionalGeneration.from_pretrained(model_name).to(device)\n",
    "\n",
    "# 實體識別和標記的函數，不替換文本，僅保存實體位置信息\n",
    "def mark_entities(text):\n",
    "    doc = nlp(text)\n",
    "    entities = []\n",
    "    for ent in doc.ents:\n",
    "        entities.append((ent.text, ent.label_))\n",
    "    return text, entities\n",
    "\n",
    "# 後處理實體標記\n",
    "def postprocess_translation(translated_text, entities):\n",
    "    for ent_text, ent_label in entities:\n",
    "        # 添加實體標記周圍的文本\n",
    "        entity_marker = f\"《{ent_text}》\"\n",
    "        translated_text = translated_text.replace(ent_text, entity_marker)\n",
    "    return translated_text\n",
    "\n",
    "# 使用預訓練模型進行翻譯\n",
    "\n",
    "def entity_aware_translate(input_text):\n",
    "    # 加入提示詞，以引導模型翻譯至中文\n",
    "    prompt_text = f\"translate English to Chinese: {input_text}\"\n",
    "    \n",
    "    # 先獲取實體位置信息\n",
    "    clean_text, entities = mark_entities(prompt_text)\n",
    "    inputs = tokenizer(clean_text, return_tensors=\"pt\").to(device)\n",
    "    \n",
    "    # 生成翻譯\n",
    "    translated_tokens = model.generate(\n",
    "        inputs[\"input_ids\"],\n",
    "        max_length=256,\n",
    "        num_beams=5,\n",
    "        temperature=0.7,\n",
    "        top_k=50,\n",
    "        top_p=0.95\n",
    "    )\n",
    "    translated_text = tokenizer.decode(translated_tokens[0], skip_special_tokens=True)\n",
    "    \n",
    "    # 在翻譯文本中還原實體\n",
    "    final_translation = postprocess_translation(translated_text, entities)\n",
    "    return final_translation\n",
    "\n",
    "# 計算 BLEU, METEOR 和 ROUGE 分數\n",
    "meteor_metric = evaluate.load(\"meteor\")\n",
    "bleu_metric = evaluate.load(\"bleu\")\n",
    "rouge_metric = evaluate.load(\"rouge\")\n",
    "\n",
    "def evaluate_model(dataset):\n",
    "    val_predictions = []\n",
    "    val_references = []\n",
    "    for example in tqdm(dataset, desc=\"Processing Validation Set\"):\n",
    "        input_text = example[\"translation\"][\"en\"]\n",
    "        reference_text = example[\"translation\"][\"zh\"]\n",
    "        \n",
    "        # 進行翻譯\n",
    "        final_translation = entity_aware_translate(input_text)\n",
    "        val_predictions.append(final_translation)\n",
    "        val_references.append([reference_text])\n",
    "        \n",
    "        # 顯示翻譯結果\n",
    "        print(\"Original English Text:\", input_text)\n",
    "        print(\"Reference Text:\", reference_text)\n",
    "        print(\"Translated Text:\", final_translation)\n",
    "        print(\"=\" * 50)\n",
    "    \n",
    "    # 計算 METEOR, BLEU 和 ROUGE 分數\n",
    "    val_meteor_score = meteor_metric.compute(predictions=val_predictions, references=val_references)\n",
    "    val_bleu_score = bleu_metric.compute(predictions=val_predictions, references=val_references)\n",
    "    val_rouge_score = rouge_metric.compute(predictions=val_predictions, references=val_references)\n",
    "    \n",
    "    print(\"Validation Set METEOR score:\", val_meteor_score)\n",
    "    print(\"Validation Set BLEU score:\", val_bleu_score)\n",
    "    print(\"Validation Set ROUGE score:\", val_rouge_score)\n",
    "\n",
    "# 執行評估\n",
    "evaluate_model(dataset)\n"
   ]
  },
  {
   "cell_type": "code",
   "execution_count": null,
   "id": "8f0f9192-e710-4873-a2b9-634fe9fbb406",
   "metadata": {},
   "outputs": [],
   "source": []
  }
 ],
 "metadata": {
  "kernelspec": {
   "display_name": "pytorch",
   "language": "python",
   "name": "pytorch"
  },
  "language_info": {
   "codemirror_mode": {
    "name": "ipython",
    "version": 3
   },
   "file_extension": ".py",
   "mimetype": "text/x-python",
   "name": "python",
   "nbconvert_exporter": "python",
   "pygments_lexer": "ipython3",
   "version": "3.8.19"
  }
 },
 "nbformat": 4,
 "nbformat_minor": 5
}
