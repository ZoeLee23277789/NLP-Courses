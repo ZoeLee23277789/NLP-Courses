{
 "cells": [
  {
   "cell_type": "code",
   "execution_count": 6,
   "id": "b37e9e42-61f9-44e7-9aa2-d2767bd6cab2",
   "metadata": {},
   "outputs": [
    {
     "ename": "DatasetNotFoundError",
     "evalue": "Dataset 'iwslt2019' doesn't exist on the Hub or cannot be accessed.",
     "output_type": "error",
     "traceback": [
      "\u001b[1;31m---------------------------------------------------------------------------\u001b[0m",
      "\u001b[1;31mDatasetNotFoundError\u001b[0m                      Traceback (most recent call last)",
      "Cell \u001b[1;32mIn[6], line 6\u001b[0m\n\u001b[0;32m      2\u001b[0m \u001b[38;5;28;01mfrom\u001b[39;00m \u001b[38;5;21;01mdatasets\u001b[39;00m \u001b[38;5;28;01mimport\u001b[39;00m load_dataset\n\u001b[0;32m      4\u001b[0m \u001b[38;5;66;03m# 載入 IWSLT 2017 English-to-Chinese 資料集\u001b[39;00m\n\u001b[0;32m      5\u001b[0m \u001b[38;5;66;03m# dataset = load_dataset('iwslt2019', 'iwslt2019-en-zh', split='train', trust_remote_code=True)\u001b[39;00m\n\u001b[1;32m----> 6\u001b[0m dataset \u001b[38;5;241m=\u001b[39m \u001b[43mload_dataset\u001b[49m\u001b[43m(\u001b[49m\u001b[38;5;124;43m'\u001b[39;49m\u001b[38;5;124;43miwslt2019\u001b[39;49m\u001b[38;5;124;43m'\u001b[39;49m\u001b[43m,\u001b[49m\u001b[43m \u001b[49m\u001b[38;5;124;43m'\u001b[39;49m\u001b[38;5;124;43miwslt2019-en-zh\u001b[39;49m\u001b[38;5;124;43m'\u001b[39;49m\u001b[43m,\u001b[49m\u001b[43m \u001b[49m\u001b[43msplit\u001b[49m\u001b[38;5;241;43m=\u001b[39;49m\u001b[38;5;124;43m'\u001b[39;49m\u001b[38;5;124;43mtrain\u001b[39;49m\u001b[38;5;124;43m'\u001b[39;49m\u001b[43m,\u001b[49m\u001b[43m \u001b[49m\u001b[43mtrust_remote_code\u001b[49m\u001b[38;5;241;43m=\u001b[39;49m\u001b[38;5;28;43;01mTrue\u001b[39;49;00m\u001b[43m)\u001b[49m\n\u001b[0;32m      8\u001b[0m \u001b[38;5;66;03m# 定義幫助函數來計算句子長度\u001b[39;00m\n\u001b[0;32m      9\u001b[0m \u001b[38;5;28;01mdef\u001b[39;00m \u001b[38;5;21msentence_length_stats\u001b[39m(dataset):\n",
      "File \u001b[1;32m~\\anaconda3\\envs\\pytorch\\lib\\site-packages\\datasets\\load.py:2132\u001b[0m, in \u001b[0;36mload_dataset\u001b[1;34m(path, name, data_dir, data_files, split, cache_dir, features, download_config, download_mode, verification_mode, keep_in_memory, save_infos, revision, token, streaming, num_proc, storage_options, trust_remote_code, **config_kwargs)\u001b[0m\n\u001b[0;32m   2127\u001b[0m verification_mode \u001b[38;5;241m=\u001b[39m VerificationMode(\n\u001b[0;32m   2128\u001b[0m     (verification_mode \u001b[38;5;129;01mor\u001b[39;00m VerificationMode\u001b[38;5;241m.\u001b[39mBASIC_CHECKS) \u001b[38;5;28;01mif\u001b[39;00m \u001b[38;5;129;01mnot\u001b[39;00m save_infos \u001b[38;5;28;01melse\u001b[39;00m VerificationMode\u001b[38;5;241m.\u001b[39mALL_CHECKS\n\u001b[0;32m   2129\u001b[0m )\n\u001b[0;32m   2131\u001b[0m \u001b[38;5;66;03m# Create a dataset builder\u001b[39;00m\n\u001b[1;32m-> 2132\u001b[0m builder_instance \u001b[38;5;241m=\u001b[39m \u001b[43mload_dataset_builder\u001b[49m\u001b[43m(\u001b[49m\n\u001b[0;32m   2133\u001b[0m \u001b[43m    \u001b[49m\u001b[43mpath\u001b[49m\u001b[38;5;241;43m=\u001b[39;49m\u001b[43mpath\u001b[49m\u001b[43m,\u001b[49m\n\u001b[0;32m   2134\u001b[0m \u001b[43m    \u001b[49m\u001b[43mname\u001b[49m\u001b[38;5;241;43m=\u001b[39;49m\u001b[43mname\u001b[49m\u001b[43m,\u001b[49m\n\u001b[0;32m   2135\u001b[0m \u001b[43m    \u001b[49m\u001b[43mdata_dir\u001b[49m\u001b[38;5;241;43m=\u001b[39;49m\u001b[43mdata_dir\u001b[49m\u001b[43m,\u001b[49m\n\u001b[0;32m   2136\u001b[0m \u001b[43m    \u001b[49m\u001b[43mdata_files\u001b[49m\u001b[38;5;241;43m=\u001b[39;49m\u001b[43mdata_files\u001b[49m\u001b[43m,\u001b[49m\n\u001b[0;32m   2137\u001b[0m \u001b[43m    \u001b[49m\u001b[43mcache_dir\u001b[49m\u001b[38;5;241;43m=\u001b[39;49m\u001b[43mcache_dir\u001b[49m\u001b[43m,\u001b[49m\n\u001b[0;32m   2138\u001b[0m \u001b[43m    \u001b[49m\u001b[43mfeatures\u001b[49m\u001b[38;5;241;43m=\u001b[39;49m\u001b[43mfeatures\u001b[49m\u001b[43m,\u001b[49m\n\u001b[0;32m   2139\u001b[0m \u001b[43m    \u001b[49m\u001b[43mdownload_config\u001b[49m\u001b[38;5;241;43m=\u001b[39;49m\u001b[43mdownload_config\u001b[49m\u001b[43m,\u001b[49m\n\u001b[0;32m   2140\u001b[0m \u001b[43m    \u001b[49m\u001b[43mdownload_mode\u001b[49m\u001b[38;5;241;43m=\u001b[39;49m\u001b[43mdownload_mode\u001b[49m\u001b[43m,\u001b[49m\n\u001b[0;32m   2141\u001b[0m \u001b[43m    \u001b[49m\u001b[43mrevision\u001b[49m\u001b[38;5;241;43m=\u001b[39;49m\u001b[43mrevision\u001b[49m\u001b[43m,\u001b[49m\n\u001b[0;32m   2142\u001b[0m \u001b[43m    \u001b[49m\u001b[43mtoken\u001b[49m\u001b[38;5;241;43m=\u001b[39;49m\u001b[43mtoken\u001b[49m\u001b[43m,\u001b[49m\n\u001b[0;32m   2143\u001b[0m \u001b[43m    \u001b[49m\u001b[43mstorage_options\u001b[49m\u001b[38;5;241;43m=\u001b[39;49m\u001b[43mstorage_options\u001b[49m\u001b[43m,\u001b[49m\n\u001b[0;32m   2144\u001b[0m \u001b[43m    \u001b[49m\u001b[43mtrust_remote_code\u001b[49m\u001b[38;5;241;43m=\u001b[39;49m\u001b[43mtrust_remote_code\u001b[49m\u001b[43m,\u001b[49m\n\u001b[0;32m   2145\u001b[0m \u001b[43m    \u001b[49m\u001b[43m_require_default_config_name\u001b[49m\u001b[38;5;241;43m=\u001b[39;49m\u001b[43mname\u001b[49m\u001b[43m \u001b[49m\u001b[38;5;129;43;01mis\u001b[39;49;00m\u001b[43m \u001b[49m\u001b[38;5;28;43;01mNone\u001b[39;49;00m\u001b[43m,\u001b[49m\n\u001b[0;32m   2146\u001b[0m \u001b[43m    \u001b[49m\u001b[38;5;241;43m*\u001b[39;49m\u001b[38;5;241;43m*\u001b[39;49m\u001b[43mconfig_kwargs\u001b[49m\u001b[43m,\u001b[49m\n\u001b[0;32m   2147\u001b[0m \u001b[43m\u001b[49m\u001b[43m)\u001b[49m\n\u001b[0;32m   2149\u001b[0m \u001b[38;5;66;03m# Return iterable dataset in case of streaming\u001b[39;00m\n\u001b[0;32m   2150\u001b[0m \u001b[38;5;28;01mif\u001b[39;00m streaming:\n",
      "File \u001b[1;32m~\\anaconda3\\envs\\pytorch\\lib\\site-packages\\datasets\\load.py:1853\u001b[0m, in \u001b[0;36mload_dataset_builder\u001b[1;34m(path, name, data_dir, data_files, cache_dir, features, download_config, download_mode, revision, token, storage_options, trust_remote_code, _require_default_config_name, **config_kwargs)\u001b[0m\n\u001b[0;32m   1851\u001b[0m     download_config \u001b[38;5;241m=\u001b[39m download_config\u001b[38;5;241m.\u001b[39mcopy() \u001b[38;5;28;01mif\u001b[39;00m download_config \u001b[38;5;28;01melse\u001b[39;00m DownloadConfig()\n\u001b[0;32m   1852\u001b[0m     download_config\u001b[38;5;241m.\u001b[39mstorage_options\u001b[38;5;241m.\u001b[39mupdate(storage_options)\n\u001b[1;32m-> 1853\u001b[0m dataset_module \u001b[38;5;241m=\u001b[39m \u001b[43mdataset_module_factory\u001b[49m\u001b[43m(\u001b[49m\n\u001b[0;32m   1854\u001b[0m \u001b[43m    \u001b[49m\u001b[43mpath\u001b[49m\u001b[43m,\u001b[49m\n\u001b[0;32m   1855\u001b[0m \u001b[43m    \u001b[49m\u001b[43mrevision\u001b[49m\u001b[38;5;241;43m=\u001b[39;49m\u001b[43mrevision\u001b[49m\u001b[43m,\u001b[49m\n\u001b[0;32m   1856\u001b[0m \u001b[43m    \u001b[49m\u001b[43mdownload_config\u001b[49m\u001b[38;5;241;43m=\u001b[39;49m\u001b[43mdownload_config\u001b[49m\u001b[43m,\u001b[49m\n\u001b[0;32m   1857\u001b[0m \u001b[43m    \u001b[49m\u001b[43mdownload_mode\u001b[49m\u001b[38;5;241;43m=\u001b[39;49m\u001b[43mdownload_mode\u001b[49m\u001b[43m,\u001b[49m\n\u001b[0;32m   1858\u001b[0m \u001b[43m    \u001b[49m\u001b[43mdata_dir\u001b[49m\u001b[38;5;241;43m=\u001b[39;49m\u001b[43mdata_dir\u001b[49m\u001b[43m,\u001b[49m\n\u001b[0;32m   1859\u001b[0m \u001b[43m    \u001b[49m\u001b[43mdata_files\u001b[49m\u001b[38;5;241;43m=\u001b[39;49m\u001b[43mdata_files\u001b[49m\u001b[43m,\u001b[49m\n\u001b[0;32m   1860\u001b[0m \u001b[43m    \u001b[49m\u001b[43mcache_dir\u001b[49m\u001b[38;5;241;43m=\u001b[39;49m\u001b[43mcache_dir\u001b[49m\u001b[43m,\u001b[49m\n\u001b[0;32m   1861\u001b[0m \u001b[43m    \u001b[49m\u001b[43mtrust_remote_code\u001b[49m\u001b[38;5;241;43m=\u001b[39;49m\u001b[43mtrust_remote_code\u001b[49m\u001b[43m,\u001b[49m\n\u001b[0;32m   1862\u001b[0m \u001b[43m    \u001b[49m\u001b[43m_require_default_config_name\u001b[49m\u001b[38;5;241;43m=\u001b[39;49m\u001b[43m_require_default_config_name\u001b[49m\u001b[43m,\u001b[49m\n\u001b[0;32m   1863\u001b[0m \u001b[43m    \u001b[49m\u001b[43m_require_custom_configs\u001b[49m\u001b[38;5;241;43m=\u001b[39;49m\u001b[38;5;28;43mbool\u001b[39;49m\u001b[43m(\u001b[49m\u001b[43mconfig_kwargs\u001b[49m\u001b[43m)\u001b[49m\u001b[43m,\u001b[49m\n\u001b[0;32m   1864\u001b[0m \u001b[43m\u001b[49m\u001b[43m)\u001b[49m\n\u001b[0;32m   1865\u001b[0m \u001b[38;5;66;03m# Get dataset builder class from the processing script\u001b[39;00m\n\u001b[0;32m   1866\u001b[0m builder_kwargs \u001b[38;5;241m=\u001b[39m dataset_module\u001b[38;5;241m.\u001b[39mbuilder_kwargs\n",
      "File \u001b[1;32m~\\anaconda3\\envs\\pytorch\\lib\\site-packages\\datasets\\load.py:1717\u001b[0m, in \u001b[0;36mdataset_module_factory\u001b[1;34m(path, revision, download_config, download_mode, dynamic_modules_path, data_dir, data_files, cache_dir, trust_remote_code, _require_default_config_name, _require_custom_configs, **download_kwargs)\u001b[0m\n\u001b[0;32m   1715\u001b[0m     \u001b[38;5;28;01mraise\u001b[39;00m \u001b[38;5;167;01mConnectionError\u001b[39;00m(\u001b[38;5;124mf\u001b[39m\u001b[38;5;124m\"\u001b[39m\u001b[38;5;124mCouldn\u001b[39m\u001b[38;5;124m'\u001b[39m\u001b[38;5;124mt reach the Hugging Face Hub for dataset \u001b[39m\u001b[38;5;124m'\u001b[39m\u001b[38;5;132;01m{\u001b[39;00mpath\u001b[38;5;132;01m}\u001b[39;00m\u001b[38;5;124m'\u001b[39m\u001b[38;5;124m: \u001b[39m\u001b[38;5;132;01m{\u001b[39;00me1\u001b[38;5;132;01m}\u001b[39;00m\u001b[38;5;124m\"\u001b[39m) \u001b[38;5;28;01mfrom\u001b[39;00m \u001b[38;5;28;01mNone\u001b[39;00m\n\u001b[0;32m   1716\u001b[0m \u001b[38;5;28;01mif\u001b[39;00m \u001b[38;5;28misinstance\u001b[39m(e1, (DataFilesNotFoundError, DatasetNotFoundError, EmptyDatasetError)):\n\u001b[1;32m-> 1717\u001b[0m     \u001b[38;5;28;01mraise\u001b[39;00m e1 \u001b[38;5;28;01mfrom\u001b[39;00m \u001b[38;5;28;01mNone\u001b[39;00m\n\u001b[0;32m   1718\u001b[0m \u001b[38;5;28;01mif\u001b[39;00m \u001b[38;5;28misinstance\u001b[39m(e1, \u001b[38;5;167;01mFileNotFoundError\u001b[39;00m):\n\u001b[0;32m   1719\u001b[0m     \u001b[38;5;28;01mif\u001b[39;00m trust_remote_code:\n",
      "File \u001b[1;32m~\\anaconda3\\envs\\pytorch\\lib\\site-packages\\datasets\\load.py:1643\u001b[0m, in \u001b[0;36mdataset_module_factory\u001b[1;34m(path, revision, download_config, download_mode, dynamic_modules_path, data_dir, data_files, cache_dir, trust_remote_code, _require_default_config_name, _require_custom_configs, **download_kwargs)\u001b[0m\n\u001b[0;32m   1639\u001b[0m     \u001b[38;5;28;01mraise\u001b[39;00m DatasetNotFoundError(\n\u001b[0;32m   1640\u001b[0m         \u001b[38;5;124mf\u001b[39m\u001b[38;5;124m\"\u001b[39m\u001b[38;5;124mRevision \u001b[39m\u001b[38;5;124m'\u001b[39m\u001b[38;5;132;01m{\u001b[39;00mrevision\u001b[38;5;132;01m}\u001b[39;00m\u001b[38;5;124m'\u001b[39m\u001b[38;5;124m doesn\u001b[39m\u001b[38;5;124m'\u001b[39m\u001b[38;5;124mt exist for dataset \u001b[39m\u001b[38;5;124m'\u001b[39m\u001b[38;5;132;01m{\u001b[39;00mpath\u001b[38;5;132;01m}\u001b[39;00m\u001b[38;5;124m'\u001b[39m\u001b[38;5;124m on the Hub.\u001b[39m\u001b[38;5;124m\"\u001b[39m\n\u001b[0;32m   1641\u001b[0m     ) \u001b[38;5;28;01mfrom\u001b[39;00m \u001b[38;5;21;01me\u001b[39;00m\n\u001b[0;32m   1642\u001b[0m \u001b[38;5;28;01mexcept\u001b[39;00m RepositoryNotFoundError \u001b[38;5;28;01mas\u001b[39;00m e:\n\u001b[1;32m-> 1643\u001b[0m     \u001b[38;5;28;01mraise\u001b[39;00m DatasetNotFoundError(\u001b[38;5;124mf\u001b[39m\u001b[38;5;124m\"\u001b[39m\u001b[38;5;124mDataset \u001b[39m\u001b[38;5;124m'\u001b[39m\u001b[38;5;132;01m{\u001b[39;00mpath\u001b[38;5;132;01m}\u001b[39;00m\u001b[38;5;124m'\u001b[39m\u001b[38;5;124m doesn\u001b[39m\u001b[38;5;124m'\u001b[39m\u001b[38;5;124mt exist on the Hub or cannot be accessed.\u001b[39m\u001b[38;5;124m\"\u001b[39m) \u001b[38;5;28;01mfrom\u001b[39;00m \u001b[38;5;21;01me\u001b[39;00m\n\u001b[0;32m   1644\u001b[0m \u001b[38;5;28;01mtry\u001b[39;00m:\n\u001b[0;32m   1645\u001b[0m     dataset_script_path \u001b[38;5;241m=\u001b[39m api\u001b[38;5;241m.\u001b[39mhf_hub_download(\n\u001b[0;32m   1646\u001b[0m         repo_id\u001b[38;5;241m=\u001b[39mpath,\n\u001b[0;32m   1647\u001b[0m         filename\u001b[38;5;241m=\u001b[39mfilename,\n\u001b[1;32m   (...)\u001b[0m\n\u001b[0;32m   1650\u001b[0m         proxies\u001b[38;5;241m=\u001b[39mdownload_config\u001b[38;5;241m.\u001b[39mproxies,\n\u001b[0;32m   1651\u001b[0m     )\n",
      "\u001b[1;31mDatasetNotFoundError\u001b[0m: Dataset 'iwslt2019' doesn't exist on the Hub or cannot be accessed."
     ]
    }
   ],
   "source": [
    "import matplotlib.pyplot as plt\n",
    "from datasets import load_dataset\n",
    "\n",
    "# 載入 IWSLT 2017 English-to-Chinese 資料集\n",
    "# dataset = load_dataset('iwslt2019', 'iwslt2019-en-zh', split='train', trust_remote_code=True)\n",
    "dataset = load_dataset('iwslt2019', 'iwslt2019-en-zh', split='train', trust_remote_code=True)\n",
    "\n",
    "# 定義幫助函數來計算句子長度\n",
    "def sentence_length_stats(dataset):\n",
    "    source_lengths = [len(item['translation']['en'].split()) for item in dataset]\n",
    "    target_lengths = [len(item['translation']['zh'].split()) for item in dataset]\n",
    "    return source_lengths, target_lengths\n",
    "\n",
    "# 計算英文與中文句子長度\n",
    "source_lengths, target_lengths = sentence_length_stats(dataset)\n",
    "\n",
    "# 可視化中英文句子長度分佈\n",
    "plt.figure(figsize=(12, 6))\n",
    "\n",
    "# 英文句子長度分佈\n",
    "plt.hist(source_lengths, bins=50, alpha=0.6, label='English Sentence Lengths', color='blue')\n",
    "# 中文句子長度分佈\n",
    "plt.hist(target_lengths, bins=50, alpha=0.6, label='Chinese Sentence Lengths', color='green')\n",
    "\n",
    "plt.xlabel('Sentence Length')\n",
    "plt.ylabel('Frequency')\n",
    "plt.title('Distribution of Sentence Lengths (English vs Chinese)')\n",
    "plt.legend()\n",
    "plt.grid()\n",
    "plt.show()\n",
    "\n",
    "# 顯示部分翻譯對\n",
    "print(\"\\nSample Translation Pairs:\")\n",
    "for i in range(5):\n",
    "    print(f\"EN: {dataset[i]['translation']['en']}\")\n",
    "    print(f\"ZH: {dataset[i]['translation']['zh']}\")\n",
    "    print(\"-\" * 50)\n"
   ]
  },
  {
   "cell_type": "code",
   "execution_count": 8,
   "id": "2adf107b-e4af-4305-b800-bad495aca074",
   "metadata": {},
   "outputs": [
    {
     "name": "stdout",
     "output_type": "stream",
     "text": [
      "Collecting mtdata==0.4.2\n",
      "  Downloading mtdata-0.4.2-py3-none-any.whl.metadata (19 kB)\n",
      "Collecting requests==2.31.0 (from mtdata==0.4.2)\n",
      "  Using cached requests-2.31.0-py3-none-any.whl.metadata (4.6 kB)\n",
      "Collecting enlighten==1.10.1 (from mtdata==0.4.2)\n",
      "  Downloading enlighten-1.10.1-py2.py3-none-any.whl.metadata (9.8 kB)\n",
      "Collecting portalocker==2.3.0 (from mtdata==0.4.2)\n",
      "  Downloading portalocker-2.3.0-py2.py3-none-any.whl.metadata (7.4 kB)\n",
      "Collecting pybtex==0.24.0 (from mtdata==0.4.2)\n",
      "  Downloading pybtex-0.24.0-py2.py3-none-any.whl.metadata (2.0 kB)\n",
      "Collecting ruamel.yaml>=0.17.10 (from mtdata==0.4.2)\n",
      "  Downloading ruamel.yaml-0.18.6-py3-none-any.whl.metadata (23 kB)\n",
      "Collecting blessed>=1.17.7 (from enlighten==1.10.1->mtdata==0.4.2)\n",
      "  Downloading blessed-1.20.0-py2.py3-none-any.whl.metadata (13 kB)\n",
      "Collecting prefixed>=0.3.2 (from enlighten==1.10.1->mtdata==0.4.2)\n",
      "  Downloading prefixed-0.9.0-py2.py3-none-any.whl.metadata (11 kB)\n",
      "Collecting pywin32!=226 (from portalocker==2.3.0->mtdata==0.4.2)\n",
      "  Downloading pywin32-308-cp38-cp38-win_amd64.whl.metadata (8.3 kB)\n",
      "Collecting PyYAML>=3.01 (from pybtex==0.24.0->mtdata==0.4.2)\n",
      "  Downloading PyYAML-6.0.2-cp38-cp38-win_amd64.whl.metadata (2.1 kB)\n",
      "Collecting latexcodec>=1.0.4 (from pybtex==0.24.0->mtdata==0.4.2)\n",
      "  Downloading latexcodec-3.0.0-py3-none-any.whl.metadata (4.9 kB)\n",
      "Collecting six (from pybtex==0.24.0->mtdata==0.4.2)\n",
      "  Using cached six-1.16.0-py2.py3-none-any.whl.metadata (1.8 kB)\n",
      "Collecting charset-normalizer<4,>=2 (from requests==2.31.0->mtdata==0.4.2)\n",
      "  Downloading charset_normalizer-3.4.0-cp38-cp38-win_amd64.whl.metadata (34 kB)\n",
      "Collecting idna<4,>=2.5 (from requests==2.31.0->mtdata==0.4.2)\n",
      "  Using cached idna-3.10-py3-none-any.whl.metadata (10 kB)\n",
      "Collecting urllib3<3,>=1.21.1 (from requests==2.31.0->mtdata==0.4.2)\n",
      "  Using cached urllib3-2.2.3-py3-none-any.whl.metadata (6.5 kB)\n",
      "Collecting certifi>=2017.4.17 (from requests==2.31.0->mtdata==0.4.2)\n",
      "  Using cached certifi-2024.8.30-py3-none-any.whl.metadata (2.2 kB)\n",
      "Collecting ruamel.yaml.clib>=0.2.7 (from ruamel.yaml>=0.17.10->mtdata==0.4.2)\n",
      "  Downloading ruamel.yaml.clib-0.2.8-cp38-cp38-win_amd64.whl.metadata (2.3 kB)\n",
      "Collecting wcwidth>=0.1.4 (from blessed>=1.17.7->enlighten==1.10.1->mtdata==0.4.2)\n",
      "  Using cached wcwidth-0.2.13-py2.py3-none-any.whl.metadata (14 kB)\n",
      "Collecting jinxed>=1.1.0 (from blessed>=1.17.7->enlighten==1.10.1->mtdata==0.4.2)\n",
      "  Downloading jinxed-1.3.0-py2.py3-none-any.whl.metadata (4.7 kB)\n",
      "Collecting ansicon (from jinxed>=1.1.0->blessed>=1.17.7->enlighten==1.10.1->mtdata==0.4.2)\n",
      "  Downloading ansicon-1.89.0-py2.py3-none-any.whl.metadata (2.8 kB)\n",
      "Downloading mtdata-0.4.2-py3-none-any.whl (819 kB)\n",
      "   ---------------------------------------- 0.0/819.7 kB ? eta -:--:--\n",
      "   --------- ------------------------------ 204.8/819.7 kB 6.1 MB/s eta 0:00:01\n",
      "   --------------------------------------- 819.7/819.7 kB 10.4 MB/s eta 0:00:00\n",
      "Downloading enlighten-1.10.1-py2.py3-none-any.whl (53 kB)\n",
      "   ---------------------------------------- 0.0/53.1 kB ? eta -:--:--\n",
      "   ---------------------------------------- 53.1/53.1 kB ? eta 0:00:00\n",
      "Downloading portalocker-2.3.0-py2.py3-none-any.whl (15 kB)\n",
      "Downloading pybtex-0.24.0-py2.py3-none-any.whl (561 kB)\n",
      "   ---------------------------------------- 0.0/561.4 kB ? eta -:--:--\n",
      "   --------------------------------------- 561.4/561.4 kB 17.2 MB/s eta 0:00:00\n",
      "Using cached requests-2.31.0-py3-none-any.whl (62 kB)\n",
      "Downloading ruamel.yaml-0.18.6-py3-none-any.whl (117 kB)\n",
      "   ---------------------------------------- 0.0/117.8 kB ? eta -:--:--\n",
      "   ---------------------------------------- 117.8/117.8 kB 7.2 MB/s eta 0:00:00\n",
      "Downloading blessed-1.20.0-py2.py3-none-any.whl (58 kB)\n",
      "   ---------------------------------------- 0.0/58.4 kB ? eta -:--:--\n",
      "   ---------------------------------------- 58.4/58.4 kB ? eta 0:00:00\n",
      "Using cached certifi-2024.8.30-py3-none-any.whl (167 kB)\n",
      "Downloading charset_normalizer-3.4.0-cp38-cp38-win_amd64.whl (101 kB)\n",
      "   ---------------------------------------- 0.0/101.5 kB ? eta -:--:--\n",
      "   ---------------------------------------- 101.5/101.5 kB ? eta 0:00:00\n",
      "Using cached idna-3.10-py3-none-any.whl (70 kB)\n",
      "Downloading latexcodec-3.0.0-py3-none-any.whl (18 kB)\n",
      "Downloading prefixed-0.9.0-py2.py3-none-any.whl (13 kB)\n",
      "Downloading pywin32-308-cp38-cp38-win_amd64.whl (6.6 MB)\n",
      "   ---------------------------------------- 0.0/6.6 MB ? eta -:--:--\n",
      "   ----------- ---------------------------- 1.9/6.6 MB 40.3 MB/s eta 0:00:01\n",
      "   --------------- ------------------------ 2.5/6.6 MB 40.1 MB/s eta 0:00:01\n",
      "   ---------------------- ----------------- 3.7/6.6 MB 26.6 MB/s eta 0:00:01\n",
      "   -------------------------------- ------- 5.4/6.6 MB 28.8 MB/s eta 0:00:01\n",
      "   ---------------------------------------  6.6/6.6 MB 30.4 MB/s eta 0:00:01\n",
      "   ---------------------------------------- 6.6/6.6 MB 26.5 MB/s eta 0:00:00\n",
      "Downloading PyYAML-6.0.2-cp38-cp38-win_amd64.whl (162 kB)\n",
      "   ---------------------------------------- 0.0/162.7 kB ? eta -:--:--\n",
      "   --------------------------------------- 162.7/162.7 kB 10.2 MB/s eta 0:00:00\n",
      "Downloading ruamel.yaml.clib-0.2.8-cp38-cp38-win_amd64.whl (118 kB)\n",
      "   ---------------------------------------- 0.0/118.5 kB ? eta -:--:--\n",
      "   ---------------------------------------- 118.5/118.5 kB 6.8 MB/s eta 0:00:00\n",
      "Using cached six-1.16.0-py2.py3-none-any.whl (11 kB)\n",
      "Using cached urllib3-2.2.3-py3-none-any.whl (126 kB)\n",
      "Downloading jinxed-1.3.0-py2.py3-none-any.whl (33 kB)\n",
      "Using cached wcwidth-0.2.13-py2.py3-none-any.whl (34 kB)\n",
      "Downloading ansicon-1.89.0-py2.py3-none-any.whl (63 kB)\n",
      "   ---------------------------------------- 0.0/63.7 kB ? eta -:--:--\n",
      "   ---------------------------------------- 63.7/63.7 kB 3.6 MB/s eta 0:00:00\n",
      "Installing collected packages: wcwidth, pywin32, prefixed, ansicon, urllib3, six, ruamel.yaml.clib, PyYAML, portalocker, latexcodec, jinxed, idna, charset-normalizer, certifi, ruamel.yaml, requests, pybtex, blessed, enlighten, mtdata\n",
      "Successfully installed PyYAML-6.0.1 ansicon-1.89.0 blessed-1.20.0 certifi-2024.8.30 charset-normalizer-3.3.2 enlighten-1.10.1 idna-3.10 jinxed-1.3.0 latexcodec-3.0.0 mtdata-0.4.2 portalocker-2.10.1 prefixed-0.9.0 pybtex-0.24.0 pywin32-305.1 requests-2.31.0 ruamel.yaml-0.18.6 ruamel.yaml.clib-0.2.8 six-1.16.0 urllib3-1.26.20 wcwidth-0.2.13\n"
     ]
    },
    {
     "name": "stderr",
     "output_type": "stream",
     "text": [
      "DEPRECATION: omegaconf 2.0.6 has a non-standard dependency specifier PyYAML>=5.1.*. pip 24.1 will enforce this behaviour change. A possible replacement is to upgrade to a newer version of omegaconf or contact the author to suggest that they release a version with a conforming dependency specifiers. Discussion can be found at https://github.com/pypa/pip/issues/12063\n",
      "ERROR: pip's dependency resolver does not currently take into account all the packages that are installed. This behaviour is the source of the following dependency conflicts.\n",
      "notebook 7.1.3 requires jupyterlab<4.2,>=4.1.1, but you have jupyterlab 4.2.5 which is incompatible.\n",
      "botocore 1.35.62 requires urllib3<1.27,>=1.25.4; python_version < \"3.10\", but you have urllib3 2.2.3 which is incompatible.\n",
      "datasets 3.1.0 requires requests>=2.32.2, but you have requests 2.31.0 which is incompatible.\n",
      "deeppavlov 1.7.0 requires filelock<3.10.0,>=3.0.0, but you have filelock 3.13.1 which is incompatible.\n",
      "deeppavlov 1.7.0 requires tqdm<4.65.0,>=4.42.0, but you have tqdm 4.66.5 which is incompatible.\n",
      "spacy-transformers 1.3.5 requires transformers<4.37.0,>=3.4.0, but you have transformers 4.46.2 which is incompatible.\n",
      "tensorflow-intel 2.11.0 requires protobuf<3.20,>=3.9.2, but you have protobuf 3.20.3 which is incompatible.\n",
      "\n",
      "[notice] A new release of pip is available: 24.0 -> 24.3.1\n",
      "[notice] To update, run: python.exe -m pip install --upgrade pip\n"
     ]
    }
   ],
   "source": [
    "!pip install -I mtdata==0.4.2\n"
   ]
  },
  {
   "cell_type": "code",
   "execution_count": 19,
   "id": "7b780853-fbb8-4105-9af0-5f826da6c5d8",
   "metadata": {},
   "outputs": [
    {
     "name": "stdout",
     "output_type": "stream",
     "text": [
      "YAML 文件解析錯誤： while scanning a simple key\n",
      "  in \"./mtdata.recipes.wmt24-constrained.yml\", line 465, column 1\n",
      "could not find expected ':'\n",
      "  in \"./mtdata.recipes.wmt24-constrained.yml\", line 465, column 3\n"
     ]
    }
   ],
   "source": [
    "import yaml\n",
    "\n",
    "file_path = \"./mtdata.recipes.generated.yml\"  # 文件路徑\n",
    "\n",
    "try:\n",
    "    with open(file_path, \"r\", encoding=\"utf-8\") as file:\n",
    "        data = yaml.safe_load(file)\n",
    "        print(\"YAML 文件成功加載！以下是內容的鍵：\")\n",
    "        print(data.keys())  # 顯示頂層的鍵\n",
    "except yaml.YAMLError as e:\n",
    "    print(\"YAML 文件解析錯誤：\", e)\n"
   ]
  },
  {
   "cell_type": "code",
   "execution_count": null,
   "id": "d7b0132d-f1ed-4236-b9f1-6b1760384ef4",
   "metadata": {},
   "outputs": [],
   "source": []
  }
 ],
 "metadata": {
  "kernelspec": {
   "display_name": "pytorch",
   "language": "python",
   "name": "pytorch"
  },
  "language_info": {
   "codemirror_mode": {
    "name": "ipython",
    "version": 3
   },
   "file_extension": ".py",
   "mimetype": "text/x-python",
   "name": "python",
   "nbconvert_exporter": "python",
   "pygments_lexer": "ipython3",
   "version": "3.8.19"
  }
 },
 "nbformat": 4,
 "nbformat_minor": 5
}
