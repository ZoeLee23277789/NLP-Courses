{
 "cells": [
  {
   "cell_type": "code",
   "execution_count": 2,
   "id": "842821dc-1863-40af-9f15-f42ae2e7ccd1",
   "metadata": {
    "scrolled": true
   },
   "outputs": [
    {
     "name": "stderr",
     "output_type": "stream",
     "text": [
      "Downloading https://file.hankcs.com/hanlp/mtl/close_tok_pos_ner_srl_dep_sdp_con_electra_small_20210111_124159.zip to C:\\Users\\USER\\AppData\\Roaming\\hanlp\\mtl/close_tok_pos_ner_srl_dep_sdp_con_electra_small_20210111_124159.zip\n",
      "100% 114.3 MiB 418.4 KiB/s ETA:  0 s [=============================================================]\n",
      "Decompressing C:\\Users\\USER\\AppData\\Roaming\\hanlp\\mtl/close_tok_pos_ner_srl_dep_sdp_con_electra_small_20210111_124159.zip to C:\\Users\\USER\\AppData\\Roaming\\hanlp\\mtl\n",
      "C:\\Users\\USER\\anaconda3\\envs\\pytorch\\lib\\site-packages\\tqdm\\auto.py:21: TqdmWarning: IProgress not found. Please update jupyter and ipywidgets. See https://ipywidgets.readthedocs.io/en/stable/user_install.html\n",
      "  from .autonotebook import tqdm as notebook_tqdm\n",
      "C:\\Users\\USER\\anaconda3\\envs\\pytorch\\lib\\site-packages\\transformers\\utils\\generic.py:441: FutureWarning: `torch.utils._pytree._register_pytree_node` is deprecated. Please use `torch.utils._pytree.register_pytree_node` instead.\n",
      "  _torch_pytree._register_pytree_node(\n",
      "C:\\Users\\USER\\anaconda3\\envs\\pytorch\\lib\\site-packages\\transformers\\utils\\generic.py:309: FutureWarning: `torch.utils._pytree._register_pytree_node` is deprecated. Please use `torch.utils._pytree.register_pytree_node` instead.\n",
      "  _torch_pytree._register_pytree_node(\n",
      "Downloading https://file.hankcs.com/hanlp/transformers/electra_zh_small_20210706_125427.zip to C:\\Users\\USER\\AppData\\Roaming\\hanlp\\transformers/electra_zh_small_20210706_125427.zip\n",
      "100%  41.2 KiB  41.2 KiB/s ETA:  0 s [=============================================================]\n",
      "Decompressing C:\\Users\\USER\\AppData\\Roaming\\hanlp\\transformers/electra_zh_small_20210706_125427.zip to C:\\Users\\USER\\AppData\\Roaming\\hanlp\\transformers\n",
      "Downloading https://file.hankcs.com/corpus/char_table.json.zip to C:\\Users\\USER\\AppData\\Roaming\\hanlp\\thirdparty\\file.hankcs.com\\corpus/char_table.json.zip\n",
      "100%  19.4 KiB  19.4 KiB/s ETA:  0 s [=============================================================]\n",
      "Decompressing C:\\Users\\USER\\AppData\\Roaming\\hanlp\\thirdparty\\file.hankcs.com\\corpus/char_table.json.zip to C:\\Users\\USER\\AppData\\Roaming\\hanlp\\thirdparty\\file.hankcs.com\\corpus\n",
      "                                             \r"
     ]
    }
   ],
   "source": [
    "import hanlp\n",
    "hanlp_model = hanlp.load(hanlp.pretrained.mtl.CLOSE_TOK_POS_NER_SRL_DEP_SDP_CON_ELECTRA_SMALL_ZH)\n"
   ]
  },
  {
   "cell_type": "code",
   "execution_count": 6,
   "id": "3f6eabe3-5f64-451c-9bbc-a976259d10e4",
   "metadata": {},
   "outputs": [],
   "source": [
    "import pandas as pd\n",
    "\n",
    "# 讀取前 100 筆資料\n",
    "english_df = pd.read_csv(\"English_Test_ner_tagged_100.csv\").head(100)\n",
    "chinese_df = pd.read_csv(\"Chience_Test_ner_tagged_100.csv\").head(100)\n"
   ]
  },
  {
   "cell_type": "code",
   "execution_count": 7,
   "id": "320500c2-efb2-4bdd-a8c3-37c34dce2d80",
   "metadata": {},
   "outputs": [
    {
     "name": "stdout",
     "output_type": "stream",
     "text": [
      "{'Chris': '克里斯 安德森', 'White': '纳什维尔', 'House': '纳什维尔', 'Nashville': '纳什维尔', 'Lebanon': '黎巴嫩市', 'Tennessee': '黎巴嫩市', 'Al': '杰伊莱诺', 'Gore': '杰伊莱诺', 'Tipper': '杰伊莱诺', 'Africa': '拉各斯', 'Nigeria': '美国', 'Lagos': '拉各斯', 'Azores': '亚速尔群岛', 'Islands': '亚速尔群岛', 'Washington': '华盛顿', 'Atlantic': '华盛顿', 'United': '美国', 'States': '美国', 'of': '美国', 'America': '美国', 'Monterey': '美国', 'Shoney': '杰伊莱诺', 'U.S.': '美国', 'David': '杰伊莱诺', 'Letterman': '杰伊莱诺', 'Jay': '杰伊莱诺', 'Leno': '杰伊莱诺', 'Bill': '艾尔', 'Clinton': '艾尔', 'Anderson': '克里斯 安德森', 'Vinod': '约翰·多尔', 'John': '约翰·多尔', 'Doerr': '约翰·多尔', 'Larry': '拉里·莱斯格', 'Lessig': '拉里·莱斯格'}\n"
     ]
    }
   ],
   "source": [
    "entity_dict = {}\n",
    "\n",
    "# 遍歷中英文資料集的每一筆數據\n",
    "for index in range(len(english_df)):\n",
    "    english_entities = eval(english_df.loc[index, 'English NER Tagged'])\n",
    "    chinese_entities = eval(chinese_df.loc[index, 'Chinese NER Tagged'])\n",
    "    \n",
    "    # 將實體對應加入到翻譯詞典中\n",
    "    for (en_entity, en_tag) in english_entities:\n",
    "        for (zh_entity, zh_tag, _, _) in chinese_entities:\n",
    "            # 確保實體類別一致，例如都是人名或地名\n",
    "            if en_tag == 'PERSON' and zh_tag == 'nr':\n",
    "                entity_dict[en_entity] = zh_entity\n",
    "            elif en_tag == 'LOCATION' and zh_tag == 'ns':\n",
    "                entity_dict[en_entity] = zh_entity\n",
    "print(entity_dict)\n"
   ]
  },
  {
   "cell_type": "code",
   "execution_count": 3,
   "id": "c4d181a2-bd9e-4ed1-9f45-317d9ebc85a4",
   "metadata": {},
   "outputs": [
    {
     "ename": "ModuleNotFoundError",
     "evalue": "No module named 'fuzzywuzzy'",
     "output_type": "error",
     "traceback": [
      "\u001b[1;31m---------------------------------------------------------------------------\u001b[0m",
      "\u001b[1;31mModuleNotFoundError\u001b[0m                       Traceback (most recent call last)",
      "Cell \u001b[1;32mIn[3], line 1\u001b[0m\n\u001b[1;32m----> 1\u001b[0m \u001b[38;5;28;01mfrom\u001b[39;00m \u001b[38;5;21;01mfuzzywuzzy\u001b[39;00m \u001b[38;5;28;01mimport\u001b[39;00m fuzz\n\u001b[0;32m      3\u001b[0m \u001b[38;5;66;03m# 假設已知的英文和中文實體標註結果\u001b[39;00m\n\u001b[0;32m      4\u001b[0m english_entities \u001b[38;5;241m=\u001b[39m [(\u001b[38;5;124m\"\u001b[39m\u001b[38;5;124mChris\u001b[39m\u001b[38;5;124m\"\u001b[39m, \u001b[38;5;124m\"\u001b[39m\u001b[38;5;124mPERSON\u001b[39m\u001b[38;5;124m\"\u001b[39m), (\u001b[38;5;124m\"\u001b[39m\u001b[38;5;124mNashville\u001b[39m\u001b[38;5;124m\"\u001b[39m, \u001b[38;5;124m\"\u001b[39m\u001b[38;5;124mLOCATION\u001b[39m\u001b[38;5;124m\"\u001b[39m)]\n",
      "\u001b[1;31mModuleNotFoundError\u001b[0m: No module named 'fuzzywuzzy'"
     ]
    }
   ],
   "source": [
    "from fuzzywuzzy import fuzz\n",
    "\n",
    "# 假設已知的英文和中文實體標註結果\n",
    "english_entities = [(\"Chris\", \"PERSON\"), (\"Nashville\", \"LOCATION\")]\n",
    "chinese_entities = [(\"克里斯\", \"nr\"), (\"纳什维尔\", \"ns\")]\n",
    "\n",
    "# 建立標籤對應表\n",
    "tag_mapping = {\"PERSON\": \"nr\", \"LOCATION\": \"ns\", \"ORGANIZATION\": \"nt\"}\n",
    "\n",
    "# 構建翻譯詞典\n",
    "entity_dict = {}\n",
    "\n",
    "for en_entity, en_tag in english_entities:\n",
    "    for zh_entity, zh_tag in chinese_entities:\n",
    "        # 確認標籤是否對應\n",
    "        if tag_mapping.get(en_tag) == zh_tag:\n",
    "            # 檢查名稱相似度\n",
    "            if fuzz.ratio(en_entity, zh_entity) > 80:  # 相似度閾值\n",
    "                entity_dict[en_entity] = zh_entity\n",
    "\n",
    "print(\"實體翻譯詞典:\", entity_dict)\n"
   ]
  },
  {
   "cell_type": "code",
   "execution_count": null,
   "id": "f17fa6a2-9985-47a0-b2ea-7ba4310e0143",
   "metadata": {},
   "outputs": [],
   "source": [
    "from fuzzywuzzy import fuzz\n",
    "\n",
    "def is_similar(entity_en, entity_zh):\n",
    "    return fuzz.ratio(entity_en, entity_zh) > 80  # 80 為相似度閾值，可根據需求調整\n"
   ]
  },
  {
   "cell_type": "code",
   "execution_count": null,
   "id": "db6a530c-021f-4100-adbc-da71f60b42fa",
   "metadata": {},
   "outputs": [],
   "source": [
    "# 將標籤統一\n",
    "def normalize_tag(tag):\n",
    "    if tag in [\"nr\", \"PERSON\"]:\n",
    "        return \"PERSON\"\n",
    "    elif tag in [\"ns\", \"LOCATION\"]:\n",
    "        return \"LOCATION\"\n",
    "    elif tag in [\"nt\", \"ORGANIZATION\"]:\n",
    "        return \"ORGANIZATION\"\n",
    "    return tag\n",
    "\n",
    "# 將英中文實體結果添加到詞典中\n",
    "for en_entity, en_tag in english_ner_results:\n",
    "    en_tag = normalize_tag(en_tag)\n",
    "    for zh_entity, zh_tag in chinese_ner_results:\n",
    "        zh_tag = normalize_tag(zh_tag)\n",
    "        if en_tag == zh_tag:  # 如果標籤相同，認為是對應實體\n",
    "            entity_dict[en_entity] = {\"zh\": zh_entity, \"tag\": en_tag}\n",
    "            break\n",
    "\n",
    "print(\"實體翻譯詞典:\", entity_dict)\n",
    "# 輸出結果應包含 {\"Chris\": {\"zh\": \"克里斯\", \"tag\": \"PERSON\"}, \"Nashville\": {\"zh\": \"纳什维尔\", \"tag\": \"LOCATION\"}}\n"
   ]
  }
 ],
 "metadata": {
  "kernelspec": {
   "display_name": "pytorch",
   "language": "python",
   "name": "pytorch"
  },
  "language_info": {
   "codemirror_mode": {
    "name": "ipython",
    "version": 3
   },
   "file_extension": ".py",
   "mimetype": "text/x-python",
   "name": "python",
   "nbconvert_exporter": "python",
   "pygments_lexer": "ipython3",
   "version": "3.8.19"
  }
 },
 "nbformat": 4,
 "nbformat_minor": 5
}
