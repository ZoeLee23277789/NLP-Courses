{
 "cells": [
  {
   "cell_type": "code",
   "execution_count": 1,
   "id": "732a52f6-ab2c-425c-ab83-42efd0f1efbd",
   "metadata": {
    "tags": []
   },
   "outputs": [
    {
     "name": "stdout",
     "output_type": "stream",
     "text": [
      "lxml is installed and ready to use!\n"
     ]
    }
   ],
   "source": [
    "import lxml.etree\n",
    "print(\"lxml is installed and ready to use!\")\n"
   ]
  },
  {
   "cell_type": "code",
   "execution_count": null,
   "id": "ed8beecd-c250-448c-9cc7-8762c28471a0",
   "metadata": {},
   "outputs": [],
   "source": []
  }
 ],
 "metadata": {
  "kernelspec": {
   "display_name": "Python (NLP203)",
   "language": "python",
   "name": "nlp203"
  },
  "language_info": {
   "codemirror_mode": {
    "name": "ipython",
    "version": 3
   },
   "file_extension": ".py",
   "mimetype": "text/x-python",
   "name": "python",
   "nbconvert_exporter": "python",
   "pygments_lexer": "ipython3",
   "version": "3.9.21"
  }
 },
 "nbformat": 4,
 "nbformat_minor": 5
}
