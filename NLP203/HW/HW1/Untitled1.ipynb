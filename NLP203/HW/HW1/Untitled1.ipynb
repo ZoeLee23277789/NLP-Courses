{
 "cells": [
  {
   "cell_type": "code",
   "execution_count": 13,
   "id": "79790e30-e676-4325-be32-b4eb8b7b1a00",
   "metadata": {
    "tags": []
   },
   "outputs": [
    {
     "name": "stderr",
     "output_type": "stream",
     "text": [
      "2025-01-16 23:55:53 | INFO | fairseq.tasks.text_to_speech | Please install tensorboardX: pip install tensorboardX\n",
      "2025-01-16 23:55:54 | INFO | fairseq_cli.preprocess | Namespace(no_progress_bar=False, log_interval=100, log_format=None, log_file=None, aim_repo=None, aim_run_hash=None, tensorboard_logdir=None, wandb_project=None, azureml_logging=False, seed=1, cpu=False, tpu=False, bf16=False, memory_efficient_bf16=False, fp16=False, memory_efficient_fp16=False, fp16_no_flatten_grads=False, fp16_init_scale=128, fp16_scale_window=None, fp16_scale_tolerance=0.0, on_cpu_convert_precision=False, min_loss_scale=0.0001, threshold_loss_scale=None, amp=False, amp_batch_retries=2, amp_init_scale=128, amp_scale_window=None, user_dir=None, empty_cache_freq=0, all_gather_list_size=16384, model_parallel_size=1, quantization_config_path=None, profile=False, reset_logging=False, suppress_crashes=False, use_plasma_view=False, plasma_path='/tmp/plasma', criterion='cross_entropy', tokenizer=None, bpe=None, optimizer=None, lr_scheduler='fixed', scoring='bleu', task='translation', source_lang='fr', target_lang='en', trainpref='train.bpe.aligned', validpref='dev2010.bpe', testpref='test2010.bpe', align_suffix=None, destdir='data-bin/fr-en', thresholdtgt=0, thresholdsrc=0, tgtdict=None, srcdict=None, nwordstgt=-1, nwordssrc=-1, alignfile=None, dataset_impl='mmap', joined_dictionary=False, only_source=False, padding_factor=8, workers=4, dict_only=False)\n",
      "Traceback (most recent call last):\n",
      "  File \"C:\\Users\\USER\\anaconda3\\envs\\NLP203\\lib\\runpy.py\", line 197, in _run_module_as_main\n",
      "    return _run_code(code, main_globals, None,\n",
      "  File \"C:\\Users\\USER\\anaconda3\\envs\\NLP203\\lib\\runpy.py\", line 87, in _run_code\n",
      "    exec(code, run_globals)\n",
      "  File \"C:\\Users\\USER\\anaconda3\\envs\\NLP203\\Scripts\\fairseq-preprocess.exe\\__main__.py\", line 7, in <module>\n",
      "  File \"C:\\Users\\USER\\anaconda3\\envs\\NLP203\\lib\\site-packages\\fairseq_cli\\preprocess.py\", line 389, in cli_main\n",
      "    main(args)\n",
      "  File \"C:\\Users\\USER\\anaconda3\\envs\\NLP203\\lib\\site-packages\\fairseq_cli\\preprocess.py\", line 299, in main\n",
      "    raise FileExistsError(_dict_path(args.source_lang, args.destdir))\n",
      "FileExistsError: data-bin/fr-en\\dict.fr.txt\n"
     ]
    }
   ],
   "source": [
    "!fairseq-preprocess \\\n",
    "    --source-lang fr --target-lang en \\\n",
    "    --trainpref train.bpe.aligned \\\n",
    "    --validpref dev2010.bpe \\\n",
    "    --testpref test2010.bpe \\\n",
    "    --destdir data-bin/fr-en \\\n",
    "    --workers 4\n"
   ]
  },
  {
   "cell_type": "code",
   "execution_count": 9,
   "id": "02f650e1-996d-4981-877a-1bc939351d1a",
   "metadata": {
    "tags": []
   },
   "outputs": [
    {
     "name": "stdout",
     "output_type": "stream",
     "text": [
      " Volume in drive C is OS\n",
      " Volume Serial Number is A4CE-3D23\n",
      "\n",
      " Directory of C:\\Users\\USER\\Downloads\\NLP-Courses\\NLP203\\HW\\HW1\n",
      "\n",
      "01/16/2025  11:51 PM    <DIR>          .\n",
      "01/15/2025  11:49 PM    <DIR>          ..\n",
      "01/16/2025  11:39 PM    <DIR>          .ipynb_checkpoints\n",
      "01/16/2025  11:44 PM    <DIR>          data-bin\n",
      "01/16/2025  11:32 PM    <DIR>          fr-en\n",
      "01/16/2025  05:06 PM           799,156 spm.model\n",
      "01/16/2025  05:06 PM           550,396 spm.vocab\n",
      "01/16/2025  11:12 PM            64,422 Untitled.ipynb\n",
      "01/16/2025  11:51 PM             1,088 Untitled1.ipynb\n",
      "               4 File(s)      1,415,062 bytes\n",
      "               5 Dir(s)  154,283,520,000 bytes free\n"
     ]
    }
   ],
   "source": [
    "!dir\n",
    "\n"
   ]
  },
  {
   "cell_type": "code",
   "execution_count": null,
   "id": "d9080226-95c0-4d2e-8029-d5924b1505bd",
   "metadata": {},
   "outputs": [],
   "source": []
  }
 ],
 "metadata": {
  "kernelspec": {
   "display_name": "Python (NLP203)",
   "language": "python",
   "name": "nlp203"
  },
  "language_info": {
   "codemirror_mode": {
    "name": "ipython",
    "version": 3
   },
   "file_extension": ".py",
   "mimetype": "text/x-python",
   "name": "python",
   "nbconvert_exporter": "python",
   "pygments_lexer": "ipython3",
   "version": "3.9.21"
  }
 },
 "nbformat": 4,
 "nbformat_minor": 5
}
