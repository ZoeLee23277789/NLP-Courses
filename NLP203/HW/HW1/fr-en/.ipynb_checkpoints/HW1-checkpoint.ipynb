{
 "cells": [
  {
   "cell_type": "code",
   "execution_count": 15,
   "id": "f2adc1c6-120a-4b65-b63e-a377322e3267",
   "metadata": {
    "tags": []
   },
   "outputs": [],
   "source": [
    "import sentencepiece as spm\n",
    "\n",
    "def encode_file(input_file, output_file, spm_model):\n",
    "    sp = spm.SentencePieceProcessor(model_file=spm_model)\n",
    "    with open(input_file, 'r', encoding='utf-8') as infile, open(output_file, 'w', encoding='utf-8') as outfile:\n",
    "        for line in infile:\n",
    "            outfile.write(' '.join(sp.encode(line.strip(), out_type=str)) + '\\n')\n",
    "\n",
    "# 將開發集的法語文件進行 BPE 編碼\n",
    "encode_file(\"C:/Users/USER/Downloads/NLP-Courses/NLP203/HW/HW1/fr-en/dev2010.fr\",\n",
    "            \"C:/Users/USER/Downloads/NLP-Courses/NLP203/HW/HW1/fr-en/dev2010.bpe.fr\",\n",
    "            \"C:/Users/USER/Downloads/NLP-Courses/NLP203/HW/HW1/fr-en/spm.model\")\n",
    "\n",
    "# 將開發集的英語文件進行 BPE 編碼\n",
    "encode_file(\"C:/Users/USER/Downloads/NLP-Courses/NLP203/HW/HW1/fr-en/dev2010.en\",\n",
    "            \"C:/Users/USER/Downloads/NLP-Courses/NLP203/HW/HW1/fr-en/dev2010.bpe.en\",\n",
    "            \"C:/Users/USER/Downloads/NLP-Courses/NLP203/HW/HW1/fr-en/spm.model\")\n"
   ]
  },
  {
   "cell_type": "code",
   "execution_count": 13,
   "id": "0ed6c5a2-3398-4411-a0f4-5057307dc894",
   "metadata": {
    "tags": []
   },
   "outputs": [
    {
     "name": "stderr",
     "output_type": "stream",
     "text": [
      "2025-01-17 02:21:01 | INFO | fairseq.tasks.text_to_speech | Please install tensorboardX: pip install tensorboardX\n",
      "2025-01-17 02:21:02 | INFO | fairseq_cli.preprocess | Namespace(no_progress_bar=False, log_interval=100, log_format=None, log_file=None, aim_repo=None, aim_run_hash=None, tensorboard_logdir=None, wandb_project=None, azureml_logging=False, seed=1, cpu=False, tpu=False, bf16=False, memory_efficient_bf16=False, fp16=False, memory_efficient_fp16=False, fp16_no_flatten_grads=False, fp16_init_scale=128, fp16_scale_window=None, fp16_scale_tolerance=0.0, on_cpu_convert_precision=False, min_loss_scale=0.0001, threshold_loss_scale=None, amp=False, amp_batch_retries=2, amp_init_scale=128, amp_scale_window=None, user_dir=None, empty_cache_freq=0, all_gather_list_size=16384, model_parallel_size=1, quantization_config_path=None, profile=False, reset_logging=False, suppress_crashes=False, use_plasma_view=False, plasma_path='/tmp/plasma', criterion='cross_entropy', tokenizer=None, bpe=None, optimizer=None, lr_scheduler='fixed', scoring='bleu', task='translation', source_lang='fr', target_lang='en', trainpref='C:/Users/USER/Downloads/NLP-Courses/NLP203/HW/HW1/fr-en/train.bpe.aligned', validpref='C:/Users/USER/Downloads/NLP-Courses/NLP203/HW/HW1/fr-en/dev2010.bpe', testpref='C:/Users/USER/Downloads/NLP-Courses/NLP203/HW/HW1/fr-en/test2010.bpe', align_suffix=None, destdir='C:/Users/USER/Downloads/NLP-Courses/NLP203/HW/HW1/data-bin/fr-en', thresholdtgt=0, thresholdsrc=0, tgtdict=None, srcdict=None, nwordstgt=-1, nwordssrc=-1, alignfile=None, dataset_impl='mmap', joined_dictionary=False, only_source=False, padding_factor=8, workers=4, dict_only=False)\n",
      "2025-01-17 02:21:04 | INFO | fairseq.tasks.text_to_speech | Please install tensorboardX: pip install tensorboardX\n",
      "2025-01-17 02:21:04 | INFO | fairseq.tasks.text_to_speech | Please install tensorboardX: pip install tensorboardX\n",
      "2025-01-17 02:21:04 | INFO | fairseq.tasks.text_to_speech | Please install tensorboardX: pip install tensorboardX\n",
      "2025-01-17 02:21:04 | INFO | fairseq.tasks.text_to_speech | Please install tensorboardX: pip install tensorboardX\n",
      "2025-01-17 02:21:10 | INFO | fairseq.tasks.text_to_speech | Please install tensorboardX: pip install tensorboardX\n",
      "2025-01-17 02:21:10 | INFO | fairseq.tasks.text_to_speech | Please install tensorboardX: pip install tensorboardX\n",
      "2025-01-17 02:21:10 | INFO | fairseq.tasks.text_to_speech | Please install tensorboardX: pip install tensorboardX\n",
      "2025-01-17 02:21:10 | INFO | fairseq.tasks.text_to_speech | Please install tensorboardX: pip install tensorboardX\n",
      "2025-01-17 02:21:14 | INFO | fairseq_cli.preprocess | [fr] Dictionary: 24040 types\n",
      "2025-01-17 02:21:17 | INFO | fairseq.tasks.text_to_speech | Please install tensorboardX: pip install tensorboardX\n",
      "2025-01-17 02:21:17 | INFO | fairseq.tasks.text_to_speech | Please install tensorboardX: pip install tensorboardX\n",
      "2025-01-17 02:21:17 | INFO | fairseq.tasks.text_to_speech | Please install tensorboardX: pip install tensorboardX\n",
      "2025-01-17 02:21:32 | INFO | fairseq_cli.preprocess | [fr] C:/Users/USER/Downloads/NLP-Courses/NLP203/HW/HW1/fr-en/train.bpe.aligned.fr: 158398 sents, 3933515 tokens, 0.0% replaced (by <unk>)\n",
      "2025-01-17 02:21:32 | INFO | fairseq_cli.preprocess | [fr] Dictionary: 24040 types\n",
      "2025-01-17 02:21:34 | INFO | fairseq.tasks.text_to_speech | Please install tensorboardX: pip install tensorboardX\n",
      "2025-01-17 02:21:34 | INFO | fairseq.tasks.text_to_speech | Please install tensorboardX: pip install tensorboardX\n",
      "2025-01-17 02:21:34 | INFO | fairseq.tasks.text_to_speech | Please install tensorboardX: pip install tensorboardX\n",
      "2025-01-17 02:21:36 | INFO | fairseq_cli.preprocess | [fr] C:/Users/USER/Downloads/NLP-Courses/NLP203/HW/HW1/fr-en/dev2010.bpe.fr: 887 sents, 24080 tokens, 0.0748% replaced (by <unk>)\n",
      "2025-01-17 02:21:36 | INFO | fairseq_cli.preprocess | [fr] Dictionary: 24040 types\n",
      "2025-01-17 02:21:38 | INFO | fairseq.tasks.text_to_speech | Please install tensorboardX: pip install tensorboardX\n",
      "2025-01-17 02:21:38 | INFO | fairseq.tasks.text_to_speech | Please install tensorboardX: pip install tensorboardX\n",
      "2025-01-17 02:21:38 | INFO | fairseq.tasks.text_to_speech | Please install tensorboardX: pip install tensorboardX\n",
      "2025-01-17 02:21:40 | INFO | fairseq_cli.preprocess | [fr] C:/Users/USER/Downloads/NLP-Courses/NLP203/HW/HW1/fr-en/test2010.bpe.fr: 1664 sents, 39693 tokens, 0.0378% replaced (by <unk>)\n",
      "2025-01-17 02:21:40 | INFO | fairseq_cli.preprocess | [en] Dictionary: 19848 types\n",
      "2025-01-17 02:21:42 | INFO | fairseq.tasks.text_to_speech | Please install tensorboardX: pip install tensorboardX\n",
      "2025-01-17 02:21:42 | INFO | fairseq.tasks.text_to_speech | Please install tensorboardX: pip install tensorboardX\n",
      "2025-01-17 02:21:42 | INFO | fairseq.tasks.text_to_speech | Please install tensorboardX: pip install tensorboardX\n",
      "2025-01-17 02:21:57 | INFO | fairseq_cli.preprocess | [en] C:/Users/USER/Downloads/NLP-Courses/NLP203/HW/HW1/fr-en/train.bpe.aligned.en: 158398 sents, 3607762 tokens, 0.0% replaced (by <unk>)\n",
      "2025-01-17 02:21:57 | INFO | fairseq_cli.preprocess | [en] Dictionary: 19848 types\n",
      "2025-01-17 02:21:59 | INFO | fairseq.tasks.text_to_speech | Please install tensorboardX: pip install tensorboardX\n",
      "2025-01-17 02:21:59 | INFO | fairseq.tasks.text_to_speech | Please install tensorboardX: pip install tensorboardX\n",
      "2025-01-17 02:21:59 | INFO | fairseq.tasks.text_to_speech | Please install tensorboardX: pip install tensorboardX\n",
      "2025-01-17 02:22:01 | INFO | fairseq_cli.preprocess | [en] C:/Users/USER/Downloads/NLP-Courses/NLP203/HW/HW1/fr-en/dev2010.bpe.en: 887 sents, 22797 tokens, 0.0351% replaced (by <unk>)\n",
      "2025-01-17 02:22:01 | INFO | fairseq_cli.preprocess | [en] Dictionary: 19848 types\n",
      "2025-01-17 02:22:03 | INFO | fairseq.tasks.text_to_speech | Please install tensorboardX: pip install tensorboardX\n",
      "2025-01-17 02:22:03 | INFO | fairseq.tasks.text_to_speech | Please install tensorboardX: pip install tensorboardX\n",
      "2025-01-17 02:22:03 | INFO | fairseq.tasks.text_to_speech | Please install tensorboardX: pip install tensorboardX\n",
      "2025-01-17 02:22:05 | INFO | fairseq_cli.preprocess | [en] C:/Users/USER/Downloads/NLP-Courses/NLP203/HW/HW1/fr-en/test2010.bpe.en: 1664 sents, 36139 tokens, 0.0111% replaced (by <unk>)\n",
      "2025-01-17 02:22:05 | INFO | fairseq_cli.preprocess | Wrote preprocessed data to C:/Users/USER/Downloads/NLP-Courses/NLP203/HW/HW1/data-bin/fr-en\n"
     ]
    }
   ],
   "source": [
    "!fairseq-preprocess \\\n",
    "    --source-lang fr --target-lang en \\\n",
    "    --trainpref C:/Users/USER/Downloads/NLP-Courses/NLP203/HW/HW1/fr-en/train.bpe.aligned \\\n",
    "    --validpref C:/Users/USER/Downloads/NLP-Courses/NLP203/HW/HW1/fr-en/dev2010.bpe \\\n",
    "    --testpref C:/Users/USER/Downloads/NLP-Courses/NLP203/HW/HW1/fr-en/test2010.bpe \\\n",
    "    --destdir C:/Users/USER/Downloads/NLP-Courses/NLP203/HW/HW1/data-bin/fr-en \\\n",
    "    --workers 4\n"
   ]
  },
  {
   "cell_type": "code",
   "execution_count": null,
   "id": "4de5917b-e442-495f-94ab-765a08ce6f78",
   "metadata": {
    "tags": []
   },
   "outputs": [],
   "source": [
    "!fairseq-train C:/Users/USER/Downloads/NLP-Courses/NLP203/HW/HW1/data-bin/fr-en \\\n",
    "    --arch transformer_iwslt_de_en \\\n",
    "    --share-decoder-input-output-embed \\\n",
    "    --encoder-layers 6 \\\n",
    "    --decoder-layers 6 \\\n",
    "    --max-tokens 4096 \\\n",
    "    --dropout 0.3 \\\n",
    "    --optimizer adam \\\n",
    "    --lr 5e-4 \\\n",
    "    --criterion label_smoothed_cross_entropy \\\n",
    "    --label-smoothing 0.1 \\\n",
    "    --max-epoch 10 \\\n",
    "    --save-dir C:/Users/USER/Downloads/NLP-Courses/NLP203/HW/HW1/checkpoints/transformer\n"
   ]
  },
  {
   "cell_type": "code",
   "execution_count": null,
   "id": "eb30f59a-4c19-4901-b933-d1b2d10dc950",
   "metadata": {},
   "outputs": [],
   "source": []
  }
 ],
 "metadata": {
  "kernelspec": {
   "display_name": "Python (NLP203)",
   "language": "python",
   "name": "nlp203"
  },
  "language_info": {
   "codemirror_mode": {
    "name": "ipython",
    "version": 3
   },
   "file_extension": ".py",
   "mimetype": "text/x-python",
   "name": "python",
   "nbconvert_exporter": "python",
   "pygments_lexer": "ipython3",
   "version": "3.9.21"
  }
 },
 "nbformat": 4,
 "nbformat_minor": 5
}
