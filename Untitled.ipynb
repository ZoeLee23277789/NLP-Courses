{
 "cells": [
  {
   "cell_type": "code",
   "execution_count": 1,
   "id": "d035d9cb-3f6a-42ee-902c-2356ffda0e89",
   "metadata": {
    "tags": []
   },
   "outputs": [
    {
     "name": "stdout",
     "output_type": "stream",
     "text": [
      "MariaDB module imported successfully\n"
     ]
    }
   ],
   "source": [
    "import mariadb\n",
    "print(\"MariaDB module imported successfully\")\n"
   ]
  },
  {
   "cell_type": "code",
   "execution_count": null,
   "id": "df2c7e83-d1bd-467c-811e-56f92ce726a5",
   "metadata": {
    "tags": []
   },
   "outputs": [],
   "source": [
    "import scrapy\n",
    "print(\"scrapy imported successfully\")"
   ]
  },
  {
   "cell_type": "code",
   "execution_count": 1,
   "id": "2ad26cc4-0469-47b7-b247-61b2c91cbaaa",
   "metadata": {
    "tags": []
   },
   "outputs": [],
   "source": [
    "!scrapy version\n"
   ]
  },
  {
   "cell_type": "code",
   "execution_count": null,
   "id": "06a95435-1ddd-4f46-8e13-ef4f9ef90da0",
   "metadata": {},
   "outputs": [],
   "source": []
  }
 ],
 "metadata": {
  "kernelspec": {
   "display_name": "Python (scrapy)",
   "language": "python",
   "name": "scrapy"
  },
  "language_info": {
   "codemirror_mode": {
    "name": "ipython",
    "version": 3
   },
   "file_extension": ".py",
   "mimetype": "text/x-python",
   "name": "python",
   "nbconvert_exporter": "python",
   "pygments_lexer": "ipython3",
   "version": "3.10.16"
  }
 },
 "nbformat": 4,
 "nbformat_minor": 5
}
