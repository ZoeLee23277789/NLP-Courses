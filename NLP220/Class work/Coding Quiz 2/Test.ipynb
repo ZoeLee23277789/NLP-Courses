{
 "cells": [
  {
   "cell_type": "code",
   "execution_count": 1,
   "id": "f136de09-9f95-4c13-ab56-5fb28425db0c",
   "metadata": {},
   "outputs": [],
   "source": [
    "import nltk\n",
    "import spacy\n"
   ]
  },
  {
   "cell_type": "code",
   "execution_count": 2,
   "id": "a0848d59-6cc1-4d5d-8b3f-6a989d3ed690",
   "metadata": {},
   "outputs": [],
   "source": [
    "import pandas as pd\n",
    "from sklearn.model_selection import train_test_split\n",
    "from sklearn.feature_extraction.text import TfidfVectorizer\n",
    "from sklearn.naive_bayes import MultinomialNB\n",
    "from sklearn.tree import DecisionTreeClassifier\n",
    "from sklearn.metrics import accuracy_score, f1_score, classification_report"
   ]
  },
  {
   "cell_type": "code",
   "execution_count": 3,
   "id": "14089e1a-958c-4afe-890d-1e345ece2c24",
   "metadata": {
    "scrolled": true
   },
   "outputs": [
    {
     "name": "stdout",
     "output_type": "stream",
     "text": [
      "     label                                            message\n",
      "0      ham  Go until jurong point, crazy.. Available only ...\n",
      "1      ham                      Ok lar... Joking wif u oni...\n",
      "2     spam  Free entry in 2 a wkly comp to win FA Cup fina...\n",
      "3      ham  U dun say so early hor... U c already then say...\n",
      "4      ham  Nah I don't think he goes to usf, he lives aro...\n",
      "...    ...                                                ...\n",
      "5567  spam  This is the 2nd time we have tried 2 contact u...\n",
      "5568   ham               Will ü b going to esplanade fr home?\n",
      "5569   ham  Pity, * was in mood for that. So...any other s...\n",
      "5570   ham  The guy did some bitching but I acted like i'd...\n",
      "5571   ham                         Rofl. Its true to its name\n",
      "\n",
      "[5572 rows x 2 columns]\n"
     ]
    }
   ],
   "source": [
    "# Step 1: Load the dataset\n",
    "file_path = './spam_sms_collection.tsv'\n",
    "data = pd.read_csv(file_path, sep='\\t', header=None, names=['label', 'message'])\n",
    "print(data)"
   ]
  },
  {
   "cell_type": "code",
   "execution_count": 4,
   "id": "8dc866cf-5583-4695-91a2-1cead5f29ea6",
   "metadata": {
    "scrolled": true
   },
   "outputs": [
    {
     "name": "stdout",
     "output_type": "stream",
     "text": [
      "     label                                            message\n",
      "0        0  Go until jurong point, crazy.. Available only ...\n",
      "1        0                      Ok lar... Joking wif u oni...\n",
      "2        1  Free entry in 2 a wkly comp to win FA Cup fina...\n",
      "3        0  U dun say so early hor... U c already then say...\n",
      "4        0  Nah I don't think he goes to usf, he lives aro...\n",
      "..     ...                                                ...\n",
      "295      0  I accidentally deleted the message. Resend ple...\n",
      "296      1  T-Mobile customer you may now claim your FREE ...\n",
      "297      0  Unless it's a situation where YOU GO GURL woul...\n",
      "298      0  Hurt me... Tease me... Make me cry... But in t...\n",
      "299      0  I cant pick the phone right now. Pls send a me...\n",
      "\n",
      "[300 rows x 2 columns]\n"
     ]
    }
   ],
   "source": [
    "# Step 2: Data preprocessing\n",
    "# Convert labels to binary (1 for spam, 0 for ham)\n",
    "data['label'] = data['label'].map({'ham': 0, 'spam': 1})\n",
    "print(data.head(300))"
   ]
  },
  {
   "cell_type": "code",
   "execution_count": 5,
   "id": "13b0a421-af40-47ae-bbdb-83390a7a8820",
   "metadata": {},
   "outputs": [
    {
     "name": "stdout",
     "output_type": "stream",
     "text": [
      "X_train =  1978    Reply to win £100 weekly! Where will the 2006 ...\n",
      "3989    Hello. Sort of out in town already. That . So ...\n",
      "3935     How come guoyang go n tell her? Then u told her?\n",
      "4078    Hey sathya till now we dint meet not even a si...\n",
      "4086    Orange brings you ringtones from all time Char...\n",
      "                              ...                        \n",
      "3772    Hi, wlcome back, did wonder if you got eaten b...\n",
      "5191                               Sorry, I'll call later\n",
      "5226        Prabha..i'm soryda..realy..frm heart i'm sory\n",
      "5390                           Nt joking seriously i told\n",
      "860               Did he just say somebody is named tampa\n",
      "Name: message, Length: 4457, dtype: object\n",
      "X_test =  3245    Squeeeeeze!! This is christmas hug.. If u lik ...\n",
      "944     And also I've sorta blown him off a couple tim...\n",
      "1044    Mmm thats better now i got a roast down me! i...\n",
      "2484        Mm have some kanji dont eat anything heavy ok\n",
      "812     So there's a ring that comes with the guys cos...\n",
      "                              ...                        \n",
      "4264    Den only weekdays got special price... Haiz......\n",
      "2439        I not busy juz dun wan 2 go so early.. Hee.. \n",
      "5556    Yes i have. So that's why u texted. Pshew...mi...\n",
      "4205    How are you enjoying this semester? Take care ...\n",
      "4293                                                G.W.R\n",
      "Name: message, Length: 1115, dtype: object\n"
     ]
    }
   ],
   "source": [
    "# Step 3: Train-test split (80% train, 20% test)\n",
    "X_train, X_test, y_train, y_test = train_test_split(data['message'], data['label'], test_size=0.2, random_state=42)\n",
    "print(\"X_train = \" , X_train)\n",
    "print(\"X_test = \" , X_test)"
   ]
  },
  {
   "cell_type": "code",
   "execution_count": 6,
   "id": "542a4659-2bb1-456e-afbd-de9eb2b22f17",
   "metadata": {},
   "outputs": [],
   "source": [
    "# Step 4: Text feature extraction using TF-IDF\n",
    "tfidf_vectorizer = TfidfVectorizer(stop_words='english', max_df=0.9 ,max_features=1000)\n",
    "X_train_tfidf = tfidf_vectorizer.fit_transform(X_train)\n",
    "X_test_tfidf = tfidf_vectorizer.transform(X_test)"
   ]
  },
  {
   "cell_type": "code",
   "execution_count": 7,
   "id": "c82be309-e6fe-4c6f-9b00-045cd1db450c",
   "metadata": {},
   "outputs": [],
   "source": [
    "# Step 5: Train and evaluate models\n",
    "# Naive Bayes Model\n",
    "nb_model = MultinomialNB()\n",
    "nb_model.fit(X_train_tfidf, y_train)\n",
    "y_pred_nb = nb_model.predict(X_test_tfidf)\n",
    "nb_f1 = f1_score(y_test, y_pred_nb)\n",
    "nb_accuracy = accuracy_score(y_test, y_pred_nb)"
   ]
  },
  {
   "cell_type": "code",
   "execution_count": 8,
   "id": "73098e69-24f4-46ed-b435-2d0ae84c7c01",
   "metadata": {},
   "outputs": [],
   "source": [
    "# Decision Tree Model\n",
    "dt_model = DecisionTreeClassifier(random_state=42)\n",
    "dt_model.fit(X_train_tfidf, y_train)\n",
    "y_pred_dt = dt_model.predict(X_test_tfidf)\n",
    "dt_f1 = f1_score(y_test, y_pred_dt)\n",
    "dt_accuracy = accuracy_score(y_test, y_pred_dt)"
   ]
  },
  {
   "cell_type": "code",
   "execution_count": 10,
   "id": "c2c02298-88f7-4b7e-99f8-5a3cc0530059",
   "metadata": {},
   "outputs": [],
   "source": [
    "nb_report = classification_report(y_test, y_pred_nb)\n",
    "dt_report = classification_report(y_test, y_pred_dt)"
   ]
  },
  {
   "cell_type": "code",
   "execution_count": 11,
   "id": "035277bc-7a5d-4002-bb0b-7bc4774f4ef0",
   "metadata": {},
   "outputs": [
    {
     "name": "stdout",
     "output_type": "stream",
     "text": [
      "Results have been saved to 'model_results.txt'\n"
     ]
    }
   ],
   "source": [
    "# Step 6: Save results to a file\n",
    "with open('./model_results.txt', 'w') as file:\n",
    "    file.write(\"Naive Bayes Model:\\n\")\n",
    "    file.write(f\"Accuracy: {nb_accuracy}\\n\")\n",
    "    file.write(f\"F1 Score: {nb_f1}\\n\")\n",
    "    file.write(\"Classification Report:\\n\")\n",
    "    file.write(nb_report)\n",
    "    file.write(\"\\n\\nDecision Tree Model:\\n\")\n",
    "    file.write(f\"Accuracy: {dt_accuracy}\\n\")\n",
    "    file.write(f\"F1 Score: {dt_f1}\\n\")\n",
    "    file.write(\"Classification Report:\\n\")\n",
    "    file.write(dt_report)\n",
    "\n",
    "print(\"Results have been saved to 'model_results.txt'\")"
   ]
  },
  {
   "cell_type": "code",
   "execution_count": 9,
   "id": "916b9d42-b2c1-4e0e-b018-7dfd279a1f48",
   "metadata": {},
   "outputs": [
    {
     "name": "stdout",
     "output_type": "stream",
     "text": [
      "Naive Bayes Model:\n",
      "Accuracy: 0.97847533632287\n",
      "F1 Score: 0.9124087591240876\n",
      "              precision    recall  f1-score   support\n",
      "\n",
      "           0       0.98      1.00      0.99       966\n",
      "           1       1.00      0.84      0.91       149\n",
      "\n",
      "    accuracy                           0.98      1115\n",
      "   macro avg       0.99      0.92      0.95      1115\n",
      "weighted avg       0.98      0.98      0.98      1115\n",
      "\n",
      "\n",
      "Decision Tree Model:\n",
      "Accuracy: 0.968609865470852\n",
      "F1 Score: 0.8788927335640139\n",
      "              precision    recall  f1-score   support\n",
      "\n",
      "           0       0.98      0.99      0.98       966\n",
      "           1       0.91      0.85      0.88       149\n",
      "\n",
      "    accuracy                           0.97      1115\n",
      "   macro avg       0.94      0.92      0.93      1115\n",
      "weighted avg       0.97      0.97      0.97      1115\n",
      "\n"
     ]
    }
   ],
   "source": [
    "# Step 6: Display results\n",
    "print(\"Naive Bayes Model:\")\n",
    "print(\"Accuracy:\", nb_accuracy)\n",
    "print(\"F1 Score:\", nb_f1)\n",
    "print(classification_report(y_test, y_pred_nb))\n",
    "\n",
    "print(\"\\nDecision Tree Model:\")\n",
    "print(\"Accuracy:\", dt_accuracy)\n",
    "print(\"F1 Score:\", dt_f1)\n",
    "print(classification_report(y_test, y_pred_dt))\n"
   ]
  },
  {
   "cell_type": "code",
   "execution_count": null,
   "id": "8b97624d-7936-4bda-ae21-eabbb10a70b9",
   "metadata": {},
   "outputs": [],
   "source": [
    "import pandas as pd\n",
    "from sklearn.model_selection import train_test_split\n",
    "from sklearn.feature_extraction.text import TfidfVectorizer\n",
    "from sklearn.naive_bayes import MultinomialNB\n",
    "from sklearn.tree import DecisionTreeClassifier\n",
    "from sklearn.metrics import accuracy_score, f1_score, classification_report\n",
    "\n",
    "# Step 1: Load the dataset\n",
    "file_path = './spam_sms_collection.tsv'\n",
    "data = pd.read_csv(file_path, sep='\\t', header=None, names=['label', 'message'])\n",
    "\n",
    "# Step 2: Data preprocessing\n",
    "# Convert labels to binary (1 for spam, 0 for ham)\n",
    "data['label'] = data['label'].map({'ham': 0, 'spam': 1})\n",
    "\n",
    "# Step 3: Train-test split (80% train, 20% test)\n",
    "X_train, X_test, y_train, y_test = train_test_split(data['message'], data['label'], test_size=0.2, random_state=42)\n",
    "\n",
    "# Step 4: Text feature extraction using TF-IDF\n",
    "tfidf_vectorizer = TfidfVectorizer(stop_words='english', max_df=0.9)\n",
    "X_train_tfidf = tfidf_vectorizer.fit_transform(X_train)\n",
    "X_test_tfidf = tfidf_vectorizer.transform(X_test)\n",
    "\n",
    "# Step 5: Train and evaluate models\n",
    "# Naive Bayes Model\n",
    "nb_model = MultinomialNB()\n",
    "nb_model.fit(X_train_tfidf, y_train)\n",
    "y_pred_nb = nb_model.predict(X_test_tfidf)\n",
    "nb_f1 = f1_score(y_test, y_pred_nb)\n",
    "nb_accuracy = accuracy_score(y_test, y_pred_nb)\n",
    "\n",
    "# Decision Tree Model\n",
    "dt_model = DecisionTreeClassifier(random_state=42)\n",
    "dt_model.fit(X_train_tfidf, y_train)\n",
    "y_pred_dt = dt_model.predict(X_test_tfidf)\n",
    "dt_f1 = f1_score(y_test, y_pred_dt)\n",
    "dt_accuracy = accuracy_score(y_test, y_pred_dt)\n",
    "\n",
    "# Step 6: Display results\n",
    "print(\"Naive Bayes Model:\")\n",
    "print(\"Accuracy:\", nb_accuracy)\n",
    "print(\"F1 Score:\", nb_f1)\n",
    "print(classification_report(y_test, y_pred_nb))\n",
    "\n",
    "print(\"\\nDecision Tree Model:\")\n",
    "print(\"Accuracy:\", dt_accuracy)\n",
    "print(\"F1 Score:\", dt_f1)\n",
    "print(classification_report(y_test, y_pred_dt))\n"
   ]
  }
 ],
 "metadata": {
  "kernelspec": {
   "display_name": "pytorch",
   "language": "python",
   "name": "pytorch"
  },
  "language_info": {
   "codemirror_mode": {
    "name": "ipython",
    "version": 3
   },
   "file_extension": ".py",
   "mimetype": "text/x-python",
   "name": "python",
   "nbconvert_exporter": "python",
   "pygments_lexer": "ipython3",
   "version": "3.8.19"
  }
 },
 "nbformat": 4,
 "nbformat_minor": 5
}
