{
 "cells": [
  {
   "cell_type": "code",
   "execution_count": 47,
   "id": "f77d0e4d-f02b-4b8d-a2f8-4c29b506e923",
   "metadata": {},
   "outputs": [],
   "source": [
    "import sklearn.metrics as metrics\n",
    "import sklearn.preprocessing as preprocessing\n",
    "from sklearn.model_selection import train_test_split"
   ]
  },
  {
   "cell_type": "code",
   "execution_count": 48,
   "id": "28322a8e-d5e5-4636-93e8-d7a61b89715d",
   "metadata": {},
   "outputs": [
    {
     "name": "stdout",
     "output_type": "stream",
     "text": [
      "micro f1: 0.9863013698630136\n"
     ]
    }
   ],
   "source": [
    "labels = ['a', 'a', 'a', 'a', 'b', 'b', 'c', 'c', 'c', 'd', 'd'] + ['a'] * 500\n",
    "preds =  ['a'] * len(labels)\n",
    "\n",
    "p, r, f1, _ = metrics.precision_recall_fscore_support(y_true=labels, y_pred=preds, average='micro')\n",
    "print(f'micro f1: {f1}')"
   ]
  },
  {
   "cell_type": "code",
   "execution_count": 49,
   "id": "f9facd1a-7c1e-400e-b7bf-f082f891e081",
   "metadata": {},
   "outputs": [
    {
     "name": "stdout",
     "output_type": "stream",
     "text": [
      "macro f1: 0.2482758620689655\n"
     ]
    },
    {
     "name": "stderr",
     "output_type": "stream",
     "text": [
      "/Users/offendo/src/TAing/NLP220/.venv/lib/python3.12/site-packages/sklearn/metrics/_classification.py:1531: UndefinedMetricWarning: Precision is ill-defined and being set to 0.0 in labels with no predicted samples. Use `zero_division` parameter to control this behavior.\n",
      "  _warn_prf(average, modifier, f\"{metric.capitalize()} is\", len(result))\n"
     ]
    }
   ],
   "source": [
    "p, r, f1, _ = metrics.precision_recall_fscore_support(y_true=labels, y_pred=preds, average='macro')\n",
    "print(f'macro f1: {f1}')"
   ]
  },
  {
   "cell_type": "code",
   "execution_count": 50,
   "id": "c66e8a81-c858-46de-ab27-ffeb9d293b1a",
   "metadata": {},
   "outputs": [
    {
     "name": "stdout",
     "output_type": "stream",
     "text": [
      "weighted f1: 0.9794992914501653\n"
     ]
    },
    {
     "name": "stderr",
     "output_type": "stream",
     "text": [
      "/Users/offendo/src/TAing/NLP220/.venv/lib/python3.12/site-packages/sklearn/metrics/_classification.py:1531: UndefinedMetricWarning: Precision is ill-defined and being set to 0.0 in labels with no predicted samples. Use `zero_division` parameter to control this behavior.\n",
      "  _warn_prf(average, modifier, f\"{metric.capitalize()} is\", len(result))\n"
     ]
    }
   ],
   "source": [
    "p, r, f1, _ = metrics.precision_recall_fscore_support(y_true=labels, y_pred=preds, average='weighted')\n",
    "print(f'weighted f1: {f1}')"
   ]
  },
  {
   "cell_type": "code",
   "execution_count": 14,
   "id": "5861ac57-f092-4c26-a509-9a8f156bf974",
   "metadata": {},
   "outputs": [],
   "source": [
    "lab_bin = preprocessing.LabelBinarizer()"
   ]
  },
  {
   "cell_type": "code",
   "execution_count": 20,
   "id": "820c2428-59af-4d58-9d58-03ed2ce8a23c",
   "metadata": {},
   "outputs": [
    {
     "data": {
      "text/plain": [
       "array([[1, 0, 0, 0],\n",
       "       [0, 1, 0, 0],\n",
       "       [1, 0, 0, 0],\n",
       "       [0, 0, 1, 0],\n",
       "       [0, 1, 0, 0],\n",
       "       [0, 1, 0, 0],\n",
       "       [1, 0, 0, 0],\n",
       "       [1, 0, 0, 0],\n",
       "       [1, 0, 0, 0],\n",
       "       [0, 0, 0, 1],\n",
       "       [0, 0, 0, 1]])"
      ]
     },
     "execution_count": 20,
     "metadata": {},
     "output_type": "execute_result"
    }
   ],
   "source": [
    "lab_bin.fit(labels)\n",
    "lab_bin.transform(preds)"
   ]
  },
  {
   "cell_type": "code",
   "execution_count": 29,
   "id": "68435596-49ab-47ba-9c6c-54bc6864c453",
   "metadata": {},
   "outputs": [
    {
     "data": {
      "text/plain": [
       "1100"
      ]
     },
     "execution_count": 29,
     "metadata": {},
     "output_type": "execute_result"
    }
   ],
   "source": [
    "data = ['a', 'a', 'a', 'a', 'b', 'b', 'c', 'c', 'c', 'd', 'd'] * 100\n",
    "len(data)"
   ]
  },
  {
   "cell_type": "code",
   "execution_count": 30,
   "id": "585633f3-c4c4-4527-bdb7-d944149a85da",
   "metadata": {},
   "outputs": [],
   "source": [
    "train_data, test_val_data = train_test_split(data, test_size=0.20)\n",
    "\n",
    "val_data, test_data = train_test_split(test_val_data, test_size=0.5)"
   ]
  },
  {
   "cell_type": "code",
   "execution_count": 31,
   "id": "ed8a58da-ae14-449c-ac1a-33f06507ec74",
   "metadata": {},
   "outputs": [
    {
     "data": {
      "text/plain": [
       "(880, 110, 110)"
      ]
     },
     "execution_count": 31,
     "metadata": {},
     "output_type": "execute_result"
    }
   ],
   "source": [
    "len(train_data), len(val_data), len(test_data)"
   ]
  },
  {
   "cell_type": "code",
   "execution_count": 37,
   "id": "34408ecf-2faa-43bd-97c8-1977a6dc2ce1",
   "metadata": {},
   "outputs": [],
   "source": [
    "import matplotlib.pyplot as plt\n",
    "import numpy as np\n",
    "import seaborn as sns"
   ]
  },
  {
   "cell_type": "code",
   "execution_count": 39,
   "id": "e2500649-9e9f-454e-b599-19245ee5477f",
   "metadata": {},
   "outputs": [
    {
     "data": {
      "text/plain": [
       "<Figure size 800x800 with 0 Axes>"
      ]
     },
     "metadata": {},
     "output_type": "display_data"
    }
   ],
   "source": [
    "fig = plt.figure(figsize=(8,8))"
   ]
  },
  {
   "cell_type": "code",
   "execution_count": 40,
   "id": "922741c5-6b08-4244-b34a-50e43889d9a4",
   "metadata": {},
   "outputs": [],
   "source": [
    "x = np.linspace(1, 100)\n",
    "y = np.cos(x)"
   ]
  },
  {
   "cell_type": "code",
   "execution_count": null,
   "id": "7e93920f-c71b-4b7b-8823-46e027875127",
   "metadata": {},
   "outputs": [],
   "source": []
  }
 ],
 "metadata": {
  "kernelspec": {
   "display_name": "Python 3 (ipykernel)",
   "language": "python",
   "name": "python3"
  },
  "language_info": {
   "codemirror_mode": {
    "name": "ipython",
    "version": 3
   },
   "file_extension": ".py",
   "mimetype": "text/x-python",
   "name": "python",
   "nbconvert_exporter": "python",
   "pygments_lexer": "ipython3",
   "version": "3.12.3"
  }
 },
 "nbformat": 4,
 "nbformat_minor": 5
}
