{
 "cells": [
  {
   "cell_type": "code",
   "execution_count": 1,
   "id": "ce9f8f97-6d4b-4d76-a77a-420089f4ad79",
   "metadata": {},
   "outputs": [
    {
     "name": "stdout",
     "output_type": "stream",
     "text": [
      "model_name =  Naive Bayes\n",
      "Naive Bayes Validation Accuracy: 0.892\n",
      "model_name =  Logistic Regression\n",
      "Logistic Regression Validation Accuracy: 0.8944\n",
      "model_name =  Decision Tree\n",
      "Decision Tree Validation Accuracy: 0.7224\n",
      "model_name =  Random Forest\n",
      "Random Forest Validation Accuracy: 0.8492\n",
      "model_name =  KNN\n",
      "KNN Validation Accuracy: 0.8008\n",
      "\n",
      "Best Model: Logistic Regression\n",
      "Logistic Regression Test Accuracy: 0.88412\n"
     ]
    }
   ],
   "source": [
    "import pandas as pd\n",
    "from sklearn.model_selection import train_test_split\n",
    "from sklearn.feature_extraction.text import TfidfVectorizer\n",
    "from sklearn.naive_bayes import MultinomialNB\n",
    "from sklearn.linear_model import LogisticRegression\n",
    "from sklearn.tree import DecisionTreeClassifier\n",
    "from sklearn.ensemble import RandomForestClassifier\n",
    "from sklearn.neighbors import KNeighborsClassifier\n",
    "from sklearn.metrics import accuracy_score\n",
    "\n",
    "# 加載訓練數據\n",
    "train_df = pd.read_csv(r'C:\\Users\\USER\\Downloads\\aclImdb_v1\\aclImdb\\train\\train_reviews.csv')\n",
    "test_df = pd.read_csv(r\"C:\\Users\\USER\\Downloads\\aclImdb_v1\\aclImdb\\train\\test_reviews.csv\")\n",
    "\n",
    "# 使用 train_test_split 將訓練數據進一步拆分為訓練集和驗證集\n",
    "X_train, X_val, y_train, y_val = train_test_split(train_df['review_text'], train_df['label'], test_size=0.1, random_state=42)\n",
    "\n",
    "# 使用 TfidfVectorizer 提取 n-gram 特徵\n",
    "vectorizer = TfidfVectorizer(ngram_range=(1, 2), stop_words='english')  # 使用 bigrams, 移除停用詞\n",
    "X_train_tfidf = vectorizer.fit_transform(X_train)\n",
    "X_val_tfidf = vectorizer.transform(X_val)\n",
    "X_test_tfidf = vectorizer.transform(test_df['review_text'])\n",
    "\n",
    "# 訓練模型並驗證\n",
    "best_params = {\n",
    "    \"Naive Bayes\": {'alpha': 0.05450760213833489},\n",
    "    \"Logistic Regression\": {'C': 89.67647856745852, 'solver': 'saga', 'max_iter': 1000},\n",
    "    \"Decision Tree\": {'max_depth': 20, 'min_samples_split': 3},\n",
    "    \"Random Forest\": {'n_estimators': 189, 'max_depth': 18, 'min_samples_split': 6},\n",
    "    \"KNN\": {'n_neighbors': 7}\n",
    "}\n",
    "\n",
    "models = {\n",
    "    \"Naive Bayes\": MultinomialNB(**best_params[\"Naive Bayes\"]),\n",
    "    \"Logistic Regression\": LogisticRegression(**best_params[\"Logistic Regression\"]),\n",
    "    \"Decision Tree\": DecisionTreeClassifier(**best_params[\"Decision Tree\"]),\n",
    "    \"Random Forest\": RandomForestClassifier(**best_params[\"Random Forest\"]),\n",
    "    \"KNN\": KNeighborsClassifier(**best_params[\"KNN\"])\n",
    "}\n",
    "\n",
    "# 用於保存模型驗證集的準確率和最好的模型名稱\n",
    "best_model_name = None\n",
    "best_val_accuracy = 0\n",
    "\n",
    "# 訓練每個模型，並輸出驗證集上的準確率\n",
    "for model_name, model in models.items():\n",
    "    print(\"model_name = \" ,model_name)\n",
    "    model.fit(X_train_tfidf, y_train)\n",
    "    val_predictions = model.predict(X_val_tfidf)\n",
    "    val_accuracy = accuracy_score(y_val, val_predictions)\n",
    "    print(f\"{model_name} Validation Accuracy: {val_accuracy}\")\n",
    "    \n",
    "    # 保存驗證集上最好的模型\n",
    "    if val_accuracy > best_val_accuracy:\n",
    "        best_val_accuracy = val_accuracy\n",
    "        best_model_name = model_name\n",
    "\n",
    "# 使用驗證集表現最好的模型在測試集上進行評估\n",
    "print(f\"\\nBest Model: {best_model_name}\")\n",
    "best_model = models[best_model_name]\n",
    "test_predictions = best_model.predict(X_test_tfidf)\n",
    "test_accuracy = accuracy_score(test_df['label'], test_predictions)\n",
    "print(f\"{best_model_name} Test Accuracy: {test_accuracy}\")\n"
   ]
  },
  {
   "cell_type": "code",
   "execution_count": null,
   "id": "bb35ffdd-393a-4fc5-8176-74af635278f1",
   "metadata": {},
   "outputs": [],
   "source": []
  }
 ],
 "metadata": {
  "kernelspec": {
   "display_name": "pytorch",
   "language": "python",
   "name": "pytorch"
  },
  "language_info": {
   "codemirror_mode": {
    "name": "ipython",
    "version": 3
   },
   "file_extension": ".py",
   "mimetype": "text/x-python",
   "name": "python",
   "nbconvert_exporter": "python",
   "pygments_lexer": "ipython3",
   "version": "3.8.19"
  }
 },
 "nbformat": 4,
 "nbformat_minor": 5
}
