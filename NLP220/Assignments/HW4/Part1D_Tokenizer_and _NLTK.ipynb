{
 "cells": [
  {
   "cell_type": "code",
   "execution_count": 2,
   "id": "59798141-8896-4aa9-9327-169d2a34aee3",
   "metadata": {},
   "outputs": [
    {
     "data": {
      "text/plain": [
       "'./tokenizer_comparison_results.txt'"
      ]
     },
     "execution_count": 2,
     "metadata": {},
     "output_type": "execute_result"
    }
   ],
   "source": [
    "import re\n",
    "from nltk.tokenize import word_tokenize\n",
    "import pandas as pd\n",
    "import matplotlib.pyplot as plt\n",
    "import numpy as np\n",
    "# Load the dataset and list the columns\n",
    "file_path = './Tweets.csv'\n",
    "# Load only the relevant columns for the analysis\n",
    "relevant_columns = ['airline', 'airline_sentiment', 'negativereason', 'text']\n",
    "tweets_data = pd.read_csv(file_path, usecols=relevant_columns)\n",
    "# Redefine the custom tokenizer\n",
    "def custom_tokenizer(text):\n",
    "    # Define tokenization rules using regex\n",
    "    rules = [\n",
    "        (r\"http[s]?://(?:[a-zA-Z]|[0-9]|[$-_@.&+]|[!*\\\\(\\\\),]|(?:%[0-9a-fA-F][0-9a-fA-F]))+\", \"URL\"),  # URLs\n",
    "        (r\"\\b\\w+@\\w+\\.\\w+\\b\", \"EMAIL\"),  # Emails\n",
    "        (r\"(\\d+)([a-zA-Z]+)\", r\"\\1 \\2\"),  # Split numbers and letters\n",
    "        (r\"([a-zA-Z]+)(\\d+)\", r\"\\1 \\2\"),  # Split letters and numbers\n",
    "        (r\"([.,!?;:])\", r\" \\1 \"),  # Split punctuation\n",
    "        (r\"\\b'\\b\", \" ' \"),  # Handle contractions (e.g., don't -> do n't)\n",
    "        (r\"\\s+\", \" \"),  # Remove extra spaces\n",
    "        (r\"@(\\w+)\", r\"\\1\"), # Remove '@' but keep the username\n",
    "        (r\"#(\\w+)\", r\"\\1\")  # Remove '@' but keep the username\n",
    "    ]\n",
    "    \n",
    "    # Apply each rule sequentially\n",
    "    for pattern, repl in rules:\n",
    "        text = re.sub(pattern, repl, text)\n",
    "    \n",
    "    # Split by space for final tokens\n",
    "    tokens = text.strip().split(\" \")\n",
    "    return tokens\n",
    "\n",
    "# Function to compare custom tokenizer with NLTK's tokenizer\n",
    "def compare_tokenizers(text, custom_tokens, nltk_tokens):\n",
    "    differences = {\n",
    "        \"custom\": [token for token in custom_tokens if token not in nltk_tokens],\n",
    "        \"nltk\": [token for token in nltk_tokens if token not in custom_tokens],\n",
    "    }\n",
    "    return differences\n",
    "\n",
    "# Pick 5 sample texts from the dataset\n",
    "sample_texts = tweets_data['text'].sample(5, random_state=42).tolist()\n",
    "\n",
    "# Analyze and save differences for each sample\n",
    "output_lines = []\n",
    "for i, text in enumerate(sample_texts, start=1):\n",
    "    custom_tokens = custom_tokenizer(text)\n",
    "    nltk_tokens = word_tokenize(text)\n",
    "    differences = compare_tokenizers(text, custom_tokens, nltk_tokens)\n",
    "\n",
    "    output_lines.append(f\"Example {i}:\")\n",
    "    output_lines.append(f\"Original Text: {text}\")\n",
    "    output_lines.append(f\"Custom Tokenizer Output: {custom_tokens}\")\n",
    "    output_lines.append(f\"NLTK Tokenizer Output: {nltk_tokens}\")\n",
    "    output_lines.append(f\"Differences (Custom only): {differences['custom']}\")\n",
    "    output_lines.append(f\"Differences (NLTK only): {differences['nltk']}\")\n",
    "    output_lines.append(\"\")\n",
    "\n",
    "\n",
    "# Save the results and paragraph to a text file\n",
    "output_file_path = './tokenizer_comparison_results.txt'\n",
    "with open(output_file_path, 'w') as f:\n",
    "    f.write(\"\\n\".join(output_lines))\n",
    "\n",
    "output_file_path\n"
   ]
  },
  {
   "cell_type": "code",
   "execution_count": null,
   "id": "5bb6e4f6-1813-4ea4-99a3-92760093bc35",
   "metadata": {},
   "outputs": [],
   "source": []
  }
 ],
 "metadata": {
  "kernelspec": {
   "display_name": "pytorch",
   "language": "python",
   "name": "pytorch"
  },
  "language_info": {
   "codemirror_mode": {
    "name": "ipython",
    "version": 3
   },
   "file_extension": ".py",
   "mimetype": "text/x-python",
   "name": "python",
   "nbconvert_exporter": "python",
   "pygments_lexer": "ipython3",
   "version": "3.8.19"
  }
 },
 "nbformat": 4,
 "nbformat_minor": 5
}
