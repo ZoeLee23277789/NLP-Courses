{
 "cells": [
  {
   "cell_type": "code",
   "execution_count": 10,
   "id": "6ff02592-c98c-43af-9698-895102ba1815",
   "metadata": {},
   "outputs": [
    {
     "name": "stdout",
     "output_type": "stream",
     "text": [
      "Original text: @VirginAmerica good to be home #texas #moodlighting http://t.co/N3BVZTY3zI\n",
      "Tokenized text: ['VirginAmerica', 'good', 'to', 'be', 'home', 'texas', 'moodlighting', 'URL']\n"
     ]
    }
   ],
   "source": [
    "import re\n",
    "\n",
    "def custom_tokenizer(text):\n",
    "    # Define tokenization rules using regex\n",
    "    rules = [\n",
    "        (r\"http[s]?://(?:[a-zA-Z]|[0-9]|[$-_@.&+]|[!*\\\\(\\\\),]|(?:%[0-9a-fA-F][0-9a-fA-F]))+\", \"URL\"),  # URLs\n",
    "        (r\"\\b\\w+@\\w+\\.\\w+\\b\", \"EMAIL\"),  # Emails\n",
    "        (r\"(\\d+)([a-zA-Z]+)\", r\"\\1 \\2\"),  # Split numbers and letters\n",
    "        (r\"([a-zA-Z]+)(\\d+)\", r\"\\1 \\2\"),  # Split letters and numbers\n",
    "        (r\"([.,!?;:])\", r\" \\1 \"),  # Split punctuation\n",
    "        (r\"\\b'\\b\", \" ' \"),  # Handle contractions (e.g., don't -> do n't)\n",
    "        (r\"\\s+\", \" \"),  # Remove extra spaces\n",
    "        (r\"@(\\w+)\", r\"\\1\"), # Remove '@' but keep the username\n",
    "        (r\"#(\\w+)\", r\"\\1\")  # Remove '@' but keep the username\n",
    "    ]\n",
    "    \n",
    "    # Apply each rule sequentially\n",
    "    for pattern, repl in rules:\n",
    "        text = re.sub(pattern, repl, text)\n",
    "    \n",
    "    # Split by space for final tokens\n",
    "    tokens = text.strip().split(\" \")\n",
    "    return tokens\n",
    "\n",
    "# Test the tokenizer\n",
    "sample_text = \"@VirginAmerica good to be home #texas #moodlighting http://t.co/N3BVZTY3zI\"\n",
    "tokens = custom_tokenizer(sample_text)\n",
    "\n",
    "print(\"Original text:\", sample_text)\n",
    "print(\"Tokenized text:\", tokens)\n"
   ]
  },
  {
   "cell_type": "code",
   "execution_count": null,
   "id": "d26d64a4-cb04-4af7-b497-9651d7424304",
   "metadata": {},
   "outputs": [],
   "source": []
  }
 ],
 "metadata": {
  "kernelspec": {
   "display_name": "pytorch",
   "language": "python",
   "name": "pytorch"
  },
  "language_info": {
   "codemirror_mode": {
    "name": "ipython",
    "version": 3
   },
   "file_extension": ".py",
   "mimetype": "text/x-python",
   "name": "python",
   "nbconvert_exporter": "python",
   "pygments_lexer": "ipython3",
   "version": "3.8.19"
  }
 },
 "nbformat": 4,
 "nbformat_minor": 5
}
