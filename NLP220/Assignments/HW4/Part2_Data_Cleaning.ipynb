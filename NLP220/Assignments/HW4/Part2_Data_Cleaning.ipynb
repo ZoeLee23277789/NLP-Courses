{
 "cells": [
  {
   "cell_type": "code",
   "execution_count": 1,
   "id": "0d57ddbd-a1e4-4b34-b593-b43030859834",
   "metadata": {},
   "outputs": [
    {
     "name": "stdout",
     "output_type": "stream",
     "text": [
      "Cleaned data saved to: ./cleaned_tweets.csv\n"
     ]
    }
   ],
   "source": [
    "import re\n",
    "from nltk.stem import WordNetLemmatizer\n",
    "import pandas as pd\n",
    "\n",
    "# Load the dataset and list the columns\n",
    "file_path = './Tweets.csv'\n",
    "# Load only the relevant columns for the analysis\n",
    "relevant_columns = ['airline', 'airline_sentiment', 'negativereason', 'text']\n",
    "tweets_data = pd.read_csv(file_path, usecols=relevant_columns)\n",
    "# Initialize lemmatizer\n",
    "lemmatizer = WordNetLemmatizer()\n",
    "\n",
    "# Define contractions for expansion\n",
    "contractions = {\"don't\": \"do not\", \"can't\": \"cannot\", \"i'm\": \"i am\"}\n",
    "\n",
    "# Function for data cleaning\n",
    "def clean_text(text):\n",
    "    # 1. Remove mentions\n",
    "    text = re.sub(r\"@\\w+\", \"\", text)\n",
    "    # 2. Remove URLs\n",
    "    text = re.sub(r\"http[s]?://\\S+\", \"\", text)\n",
    "    # 3. Remove email addresses\n",
    "    text = re.sub(r\"\\b[A-Za-z0-9._%+-]+@[A-Za-z0-9.-]+\\.[A-Z|a-z]{2,}\\b\", \"\", text)\n",
    "    # 4. Remove currency values\n",
    "    text = re.sub(r\"\\$\\d+(?:\\.\\d{2})?\", \"\", text)\n",
    "    # 5. Remove emojis\n",
    "    text = re.sub(r\"[^\\w\\s,]\", \"\", text, flags=re.UNICODE)\n",
    "    # 6. Remove HTML escaped characters\n",
    "    text = re.sub(r\"&[a-z]+;\", \"\", text)\n",
    "    # 7. Normalize times & dates\n",
    "    text = re.sub(r\"\\b\\d{1,2}[:/]\\d{1,2}(?:\\s?[APMapm]+)?\\b\", \"\", text)\n",
    "    # 8. Remove punctuation\n",
    "    text = re.sub(r\"[^\\w\\s]\", \"\", text)\n",
    "    # 9. Remove Chinese characters\n",
    "    text = re.sub(r\"[\\u4e00-\\u9fff]\", \"\", text)\n",
    "    # 10. Expand contractions\n",
    "    text = \" \".join([contractions[word] if word in contractions else word for word in text.split()])\n",
    "    # 11. Remove consecutive repeating characters\n",
    "    text = re.sub(r\"(.)\\1{2,}\", r\"\\1\", text)\n",
    "    # 12. Remove words that are too short or too long\n",
    "    text = \" \".join([word for word in text.split() if 2 <= len(word) <= 15])\n",
    "    # 13. Apply lemmatization\n",
    "    text = \" \".join([lemmatizer.lemmatize(word) for word in text.split()])\n",
    "    # 14. Remove extra whitespaces\n",
    "    text = re.sub(r\"\\s+\", \" \", text).strip()\n",
    "    return text\n",
    "\n",
    "# Clean the dataset\n",
    "tweets_data['cleaned_text'] = tweets_data['text'].apply(clean_text)\n",
    "\n",
    "# Remove duplicates and empty rows\n",
    "tweets_data = tweets_data.drop_duplicates(subset=['cleaned_text', 'airline_sentiment'])\n",
    "tweets_data = tweets_data[tweets_data['cleaned_text'] != \"\"]\n",
    "\n",
    "# Save the cleaned dataset\n",
    "cleaned_file_path = './cleaned_tweets.csv'\n",
    "tweets_data.to_csv(cleaned_file_path, index=False)\n",
    "\n",
    "print(f\"Cleaned data saved to: {cleaned_file_path}\")\n"
   ]
  },
  {
   "cell_type": "code",
   "execution_count": null,
   "id": "ed915718-777b-4f66-94c4-18221681b156",
   "metadata": {},
   "outputs": [],
   "source": []
  }
 ],
 "metadata": {
  "kernelspec": {
   "display_name": "pytorch",
   "language": "python",
   "name": "pytorch"
  },
  "language_info": {
   "codemirror_mode": {
    "name": "ipython",
    "version": 3
   },
   "file_extension": ".py",
   "mimetype": "text/x-python",
   "name": "python",
   "nbconvert_exporter": "python",
   "pygments_lexer": "ipython3",
   "version": "3.8.19"
  }
 },
 "nbformat": 4,
 "nbformat_minor": 5
}
