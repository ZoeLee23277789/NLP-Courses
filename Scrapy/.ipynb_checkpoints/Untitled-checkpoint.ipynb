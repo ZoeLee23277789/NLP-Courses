{
 "cells": [
  {
   "cell_type": "code",
   "execution_count": null,
   "id": "6fd1fca1-d1ad-42ea-b6cb-7ef4697f6acc",
   "metadata": {},
   "outputs": [],
   "source": [
    "from scrapy.crawler import CrawlerProcess\n",
    "from scrapy import Spider\n",
    "\n",
    "class BranchesSpider(Spider):\n",
    "    name = \"branches\"\n",
    "    allowed_domains = [\"service.standardchartered.com.tw\"]\n",
    "    start_urls = [\n",
    "        \"https://service.standardchartered.com.tw/location_finder/branch_table/Index\"\n",
    "    ]\n",
    "\n",
    "    def parse(self, response):\n",
    "        rows = response.xpath('//table[contains(@class, \"branch_table\")]/tbody/tr')\n",
    "        for row in rows:\n",
    "            yield {\n",
    "                \"branch_name\": row.xpath('td[1]/text()').get(default=\"\").strip(),\n",
    "                \"address\": row.xpath('td[2]/text()').get(default=\"\").strip(),\n",
    "                \"phone\": row.xpath('td[3]/text()').get(default=\"\").strip(),\n",
    "            }\n",
    "\n",
    "process = CrawlerProcess({\n",
    "    'FEED_FORMAT': 'json',\n",
    "    'FEED_URI': 'branches.json',\n",
    "})\n",
    "\n",
    "process.crawl(BranchesSpider)\n",
    "process.start()\n"
   ]
  },
  {
   "cell_type": "code",
   "execution_count": null,
   "id": "b5eacbe6-7ba5-49d5-9fdd-3fe03c217db8",
   "metadata": {},
   "outputs": [],
   "source": []
  }
 ],
 "metadata": {
  "kernelspec": {
   "display_name": "pytorch",
   "language": "python",
   "name": "pytorch"
  },
  "language_info": {
   "codemirror_mode": {
    "name": "ipython",
    "version": 3
   },
   "file_extension": ".py",
   "mimetype": "text/x-python",
   "name": "python",
   "nbconvert_exporter": "python",
   "pygments_lexer": "ipython3",
   "version": "3.8.19"
  }
 },
 "nbformat": 4,
 "nbformat_minor": 5
}
