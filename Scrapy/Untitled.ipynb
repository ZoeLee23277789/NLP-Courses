{
 "cells": [
  {
   "cell_type": "code",
   "execution_count": null,
   "id": "6fd1fca1-d1ad-42ea-b6cb-7ef4697f6acc",
   "metadata": {},
   "outputs": [],
   "source": [
    "import os\n",
    "import nest_asyncio\n",
    "from scrapy.crawler import CrawlerRunner\n",
    "from twisted.internet import reactor\n",
    "from scrapy import Spider\n",
    "\n",
    "# 修復 Jupyter 與 Scrapy 的事件循環問題\n",
    "nest_asyncio.apply()\n",
    "\n",
    "# 設置工作目錄\n",
    "os.chdir(r\"C:\\Users\\USER\\Downloads\\NLP-Courses\\Scrapy\")\n",
    "print(\"當前工作目錄:\", os.getcwd())\n",
    "\n",
    "# 定義爬蟲類\n",
    "class BranchesSpider(Spider):\n",
    "    name = \"branches\"\n",
    "    allowed_domains = [\"service.standardchartered.com.tw\"]\n",
    "    start_urls = [\n",
    "        \"https://service.standardchartered.com.tw/location_finder/branch_table/Index\"\n",
    "    ]\n",
    "\n",
    "    def parse(self, response):\n",
    "        rows = response.xpath('//table[contains(@class, \"branch_table\")]/tbody/tr')\n",
    "        for row in rows:\n",
    "            yield {\n",
    "                \"branch_name\": row.xpath('td[1]/text()').get(default=\"\").strip(),\n",
    "                \"address\": row.xpath('td[2]/text()').get(default=\"\").strip(),\n",
    "                \"phone\": row.xpath('td[3]/text()').get(default=\"\").strip(),\n",
    "            }\n",
    "\n",
    "# 初始化爬蟲執行器\n",
    "runner = CrawlerRunner({\n",
    "    'FEED_FORMAT': 'json',  # 設置輸出格式\n",
    "    'FEED_URI': 'branches.json',  # 輸出文件路徑\n",
    "})\n",
    "\n",
    "# 啟動爬蟲\n",
    "d = runner.crawl(BranchesSpider)\n",
    "d.addBoth(lambda _: reactor.stop())\n",
    "\n",
    "# 啟動事件循環\n",
    "reactor.run()\n",
    "\n",
    "print(\"爬取完成！請檢查 branches.json 文件。\")\n"
   ]
  },
  {
   "cell_type": "code",
   "execution_count": null,
   "id": "b5eacbe6-7ba5-49d5-9fdd-3fe03c217db8",
   "metadata": {},
   "outputs": [],
   "source": []
  },
  {
   "cell_type": "code",
   "execution_count": null,
   "id": "9a938125-9be3-4f63-8a30-b42022d647bd",
   "metadata": {},
   "outputs": [],
   "source": []
  }
 ],
 "metadata": {
  "kernelspec": {
   "display_name": "pytorch",
   "language": "python",
   "name": "pytorch"
  },
  "language_info": {
   "codemirror_mode": {
    "name": "ipython",
    "version": 3
   },
   "file_extension": ".py",
   "mimetype": "text/x-python",
   "name": "python",
   "nbconvert_exporter": "python",
   "pygments_lexer": "ipython3",
   "version": "3.8.19"
  }
 },
 "nbformat": 4,
 "nbformat_minor": 5
}
